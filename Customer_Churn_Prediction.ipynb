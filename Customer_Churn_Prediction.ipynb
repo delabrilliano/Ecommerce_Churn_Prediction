{
 "cells": [
  {
   "cell_type": "markdown",
   "metadata": {},
   "source": [
    "# **E-Commerce Customer Churn Prediction**"
   ]
  },
  {
   "cell_type": "markdown",
   "metadata": {},
   "source": [
    "![header](https://raw.githubusercontent.com/delabrilliano/Ecommerce_Churn_Prediction/main/image/ecommerce.png)"
   ]
  },
  {
   "cell_type": "markdown",
   "metadata": {},
   "source": [
    "Created by: _**Delabriliano Ismail**_"
   ]
  },
  {
   "cell_type": "markdown",
   "metadata": {},
   "source": [
    "<hr>"
   ]
  },
  {
   "cell_type": "markdown",
   "metadata": {},
   "source": [
    "## **Business Problem Understanding**"
   ]
  },
  {
   "cell_type": "markdown",
   "metadata": {},
   "source": [
    "### **Introduction**"
   ]
  },
  {
   "cell_type": "markdown",
   "metadata": {},
   "source": [
    "Many of the early-stage e-commerce business focuses on \"Customer Acquisition\", which is the act of gaining new customers.\n",
    "\n",
    "Acquisition is particularly important for early-stage e-commerce looking to grow their customer base.  But it’s not a sustainable way to grow the company revenue in the long term.\n",
    "\n",
    "In order to be sustainable in the long-term, an e-commerce business must also focus on customer retention. Knowing when a customer will churn, can help a company in general to retain their customer better for a long-term profit.\n",
    "\n",
    "Fundamentally, churn occurs when a customer stops consuming from a company. A high churn rate equals to a low retention rate.  Churn affects the size of a company customer base and has a big impact on the company's customer lifetime value."
   ]
  },
  {
   "cell_type": "markdown",
   "metadata": {},
   "source": [
    "### **Problem Statement**"
   ]
  },
  {
   "cell_type": "markdown",
   "metadata": {},
   "source": [
    "Maintaining a churn-rate is crucial for an e-commerce business long-term profit. However, not all company have a system that can detect which of their customer that will churn. This situation can have a bad consequences for the company, when they give a benefit/promotion to a non-churning consumer and let the other customer churned. In this case, the company will compound an expense and lost a potential revenue from the churned consumer. Or, if a company want to play safe, they can give the benefit/promotion for all of their customer base. However, it will require a quite large of expenditure without any certainty that the benefit was given to the right target. "
   ]
  },
  {
   "cell_type": "markdown",
   "metadata": {},
   "source": [
    "### **Goals**"
   ]
  },
  {
   "cell_type": "markdown",
   "metadata": {},
   "source": [
    "Based on the introduction and the problem statement, the aims for this project is to develop a machine learning model that can classify on which customer of a company in general and e-commerce company specifically, that will churn on not churn.\n",
    "\n",
    "By having a system that can classify which customer will churn, an e-commerce company can give a benefit/promotion with a clearer target, and this will reduce their expense compared to when a company give the benefit/promotion to all of their customer base. And this will also have an impact on the company's customer retention rate, and in return, the company will have a more sustainable revenue in the future.\n",
    "\n",
    "In short, this project is aims to develop a machine learning model, that can be used by marketing/sales/any department related to benefit/promotion, that can classify which customer will churn and not churn, that can help a company to maintain their customer retention rate to generate more sustainable revenue."
   ]
  },
  {
   "cell_type": "markdown",
   "metadata": {},
   "source": [
    "### **Metrics**"
   ]
  },
  {
   "cell_type": "markdown",
   "metadata": {},
   "source": [
    "- Class 0 = Non-Churn (Negative)\n",
    "- Class 1 = Churn (Positive) \n",
    "\n",
    "_Type 1 error: False Positive_\n",
    "\n",
    "This error will increase the company expense by giving benefit and promotion to the non-churn customer and ignore the churning customer.\n",
    "\n",
    "_Type 2 Error: False Negative_\n",
    "\n",
    "This error will make a company to overlook their churning customer without giving them any benefit/promotion to maintain their retention.\n",
    "\n",
    "Based on the consequences, we will be focusing on both errors type. We want to make sure that the model can detect a churning customer as many as possible and ensure that the company give the benefit and promotion to the right customer (churned customer). We also have to notes that the data is imbalance (which will be shown later in the EDA). So the metrics that we will use is **F1 Score**.\n",
    "\n",
    "Precision and Recall are the two building blocks of the F1 score. The goal of the F1 score is to combine the precision and recall metrics into a single metric. At the same time, the F1 score has been designed to work well on imbalanced data. [(Source)](https://towardsdatascience.com/the-f1-score-bec2bbc38aa6)\n",
    "\n",
    "**F1 Score Formula**\n",
    "\n",
    "\\begin{equation}\n",
    "F1 Score (+) = 2 *  \\frac{Recall (+) * Precision (+)}{Recall (+) + Precision (+)}\n",
    "\\end{equation}"
   ]
  },
  {
   "cell_type": "markdown",
   "metadata": {},
   "source": [
    "### **Analytics Approach**\n",
    "\n",
    "Based on the Problem statement and goals, we will be conducting the _**Prescriptive Analytics**_ where we will predict which customer will churn, make a decision based on the prediction (giving benefit and promotion), and analyze how these decision impact the business."
   ]
  },
  {
   "cell_type": "markdown",
   "metadata": {},
   "source": [
    "## **Data Understanding**"
   ]
  },
  {
   "cell_type": "markdown",
   "metadata": {},
   "source": [
    "**Notes:**\n",
    "\n",
    "The dataset was given and the features are already pre-selected by _Purwadhika Digital Technology School_ as part of the exams for the Data Science and Machine Learning bootcamp programs."
   ]
  },
  {
   "cell_type": "markdown",
   "metadata": {},
   "source": [
    "### **Column Description**\n",
    "\n",
    "| Attribute | Description |\n",
    "| --- | --- |\n",
    "| Tenure | Tenure of customer in organization |\n",
    "| WarehouseToHome | Distance in between warehouse to home of customer |\n",
    "| NumberOfDeviceRegistered | Total number of deceives is registered on particular customer |\n",
    "| PreferedOrderCat | Preferred order category of customer in last month |\n",
    "| SatisfactionScore | Satisfactory score of customer on service |\n",
    "| MaritalStatus | Marital status of customer |\n",
    "| NumberOfAddress | Total number of address added on particular customer |\n",
    "| Complain | Any complaint has been raised in last month |\n",
    "| DaySinceLastOrder | Day Since last order by customer |\n",
    "| CashbackAmount | Average cashback in last month |\n",
    "| Churn | Indicate the if the customer churned (1) or not (0) |\n",
    "\n",
    "[(Source)](https://www.kaggle.com/datasets/ankitverma2010/ecommerce-customer-churn-analysis-and-prediction)"
   ]
  },
  {
   "cell_type": "code",
   "execution_count": 316,
   "metadata": {},
   "outputs": [],
   "source": [
    "## Importing Packages\n",
    "\n",
    "### Common Package\n",
    "\n",
    "import pandas as pd\n",
    "import numpy as np\n",
    "import matplotlib.pyplot as plt\n",
    "import seaborn as sns\n",
    "import warnings\n",
    "warnings.filterwarnings('ignore')\n",
    "\n",
    "### Package for Correlation Analysis\n",
    "\n",
    "from dython.nominal import correlation_ratio\n",
    "\n",
    "## package for Model building and selection\n",
    "\n",
    "from sklearn.model_selection import train_test_split, StratifiedKFold, cross_val_score, KFold, RandomizedSearchCV\n",
    "from sklearn.pipeline import Pipeline\n",
    "from sklearn.preprocessing import OneHotEncoder\n",
    "from sklearn.compose import ColumnTransformer\n",
    "from sklearn.metrics import accuracy_score, classification_report, recall_score, precision_score, f1_score, confusion_matrix\n",
    "\n",
    "## import model package\n",
    "\n",
    "from sklearn.linear_model import LogisticRegression\n",
    "from sklearn.tree import DecisionTreeClassifier\n",
    "from sklearn.neighbors import KNeighborsClassifier\n",
    "from sklearn.ensemble import RandomForestClassifier\n",
    "from xgboost import XGBClassifier\n",
    "\n",
    "# Packages for resampling and imbalance Pipeline\n",
    "\n",
    "from sklearn.utils import resample\n",
    "from imblearn.over_sampling import SMOTE\n",
    "from imblearn.pipeline import Pipeline as imbpipeline"
   ]
  },
  {
   "cell_type": "code",
   "execution_count": 317,
   "metadata": {},
   "outputs": [],
   "source": [
    "## Import csv\n",
    "\n",
    "df = pd.read_csv('data_ecommerce_customer_churn.csv')"
   ]
  },
  {
   "cell_type": "markdown",
   "metadata": {},
   "source": [
    "## **Quick EDA**"
   ]
  },
  {
   "cell_type": "code",
   "execution_count": 318,
   "metadata": {},
   "outputs": [
    {
     "data": {
      "text/html": [
       "<div>\n",
       "<style scoped>\n",
       "    .dataframe tbody tr th:only-of-type {\n",
       "        vertical-align: middle;\n",
       "    }\n",
       "\n",
       "    .dataframe tbody tr th {\n",
       "        vertical-align: top;\n",
       "    }\n",
       "\n",
       "    .dataframe thead th {\n",
       "        text-align: right;\n",
       "    }\n",
       "</style>\n",
       "<table border=\"1\" class=\"dataframe\">\n",
       "  <thead>\n",
       "    <tr style=\"text-align: right;\">\n",
       "      <th></th>\n",
       "      <th>Tenure</th>\n",
       "      <th>WarehouseToHome</th>\n",
       "      <th>NumberOfDeviceRegistered</th>\n",
       "      <th>PreferedOrderCat</th>\n",
       "      <th>SatisfactionScore</th>\n",
       "      <th>MaritalStatus</th>\n",
       "      <th>NumberOfAddress</th>\n",
       "      <th>Complain</th>\n",
       "      <th>DaySinceLastOrder</th>\n",
       "      <th>CashbackAmount</th>\n",
       "      <th>Churn</th>\n",
       "    </tr>\n",
       "  </thead>\n",
       "  <tbody>\n",
       "    <tr>\n",
       "      <th>0</th>\n",
       "      <td>15.0</td>\n",
       "      <td>29.0</td>\n",
       "      <td>4</td>\n",
       "      <td>Laptop &amp; Accessory</td>\n",
       "      <td>3</td>\n",
       "      <td>Single</td>\n",
       "      <td>2</td>\n",
       "      <td>0</td>\n",
       "      <td>7.0</td>\n",
       "      <td>143.32</td>\n",
       "      <td>0</td>\n",
       "    </tr>\n",
       "    <tr>\n",
       "      <th>1</th>\n",
       "      <td>7.0</td>\n",
       "      <td>25.0</td>\n",
       "      <td>4</td>\n",
       "      <td>Mobile</td>\n",
       "      <td>1</td>\n",
       "      <td>Married</td>\n",
       "      <td>2</td>\n",
       "      <td>0</td>\n",
       "      <td>7.0</td>\n",
       "      <td>129.29</td>\n",
       "      <td>0</td>\n",
       "    </tr>\n",
       "    <tr>\n",
       "      <th>2</th>\n",
       "      <td>27.0</td>\n",
       "      <td>13.0</td>\n",
       "      <td>3</td>\n",
       "      <td>Laptop &amp; Accessory</td>\n",
       "      <td>1</td>\n",
       "      <td>Married</td>\n",
       "      <td>5</td>\n",
       "      <td>0</td>\n",
       "      <td>7.0</td>\n",
       "      <td>168.54</td>\n",
       "      <td>0</td>\n",
       "    </tr>\n",
       "    <tr>\n",
       "      <th>3</th>\n",
       "      <td>20.0</td>\n",
       "      <td>25.0</td>\n",
       "      <td>4</td>\n",
       "      <td>Fashion</td>\n",
       "      <td>3</td>\n",
       "      <td>Divorced</td>\n",
       "      <td>7</td>\n",
       "      <td>0</td>\n",
       "      <td>NaN</td>\n",
       "      <td>230.27</td>\n",
       "      <td>0</td>\n",
       "    </tr>\n",
       "    <tr>\n",
       "      <th>4</th>\n",
       "      <td>30.0</td>\n",
       "      <td>15.0</td>\n",
       "      <td>4</td>\n",
       "      <td>Others</td>\n",
       "      <td>4</td>\n",
       "      <td>Single</td>\n",
       "      <td>8</td>\n",
       "      <td>0</td>\n",
       "      <td>8.0</td>\n",
       "      <td>322.17</td>\n",
       "      <td>0</td>\n",
       "    </tr>\n",
       "  </tbody>\n",
       "</table>\n",
       "</div>"
      ],
      "text/plain": [
       "   Tenure  WarehouseToHome  NumberOfDeviceRegistered    PreferedOrderCat  \\\n",
       "0    15.0             29.0                         4  Laptop & Accessory   \n",
       "1     7.0             25.0                         4              Mobile   \n",
       "2    27.0             13.0                         3  Laptop & Accessory   \n",
       "3    20.0             25.0                         4             Fashion   \n",
       "4    30.0             15.0                         4              Others   \n",
       "\n",
       "   SatisfactionScore MaritalStatus  NumberOfAddress  Complain  \\\n",
       "0                  3        Single                2         0   \n",
       "1                  1       Married                2         0   \n",
       "2                  1       Married                5         0   \n",
       "3                  3      Divorced                7         0   \n",
       "4                  4        Single                8         0   \n",
       "\n",
       "   DaySinceLastOrder  CashbackAmount  Churn  \n",
       "0                7.0          143.32      0  \n",
       "1                7.0          129.29      0  \n",
       "2                7.0          168.54      0  \n",
       "3                NaN          230.27      0  \n",
       "4                8.0          322.17      0  "
      ]
     },
     "metadata": {},
     "output_type": "display_data"
    },
    {
     "data": {
      "text/html": [
       "<div>\n",
       "<style scoped>\n",
       "    .dataframe tbody tr th:only-of-type {\n",
       "        vertical-align: middle;\n",
       "    }\n",
       "\n",
       "    .dataframe tbody tr th {\n",
       "        vertical-align: top;\n",
       "    }\n",
       "\n",
       "    .dataframe thead th {\n",
       "        text-align: right;\n",
       "    }\n",
       "</style>\n",
       "<table border=\"1\" class=\"dataframe\">\n",
       "  <thead>\n",
       "    <tr style=\"text-align: right;\">\n",
       "      <th></th>\n",
       "      <th>Tenure</th>\n",
       "      <th>WarehouseToHome</th>\n",
       "      <th>NumberOfDeviceRegistered</th>\n",
       "      <th>PreferedOrderCat</th>\n",
       "      <th>SatisfactionScore</th>\n",
       "      <th>MaritalStatus</th>\n",
       "      <th>NumberOfAddress</th>\n",
       "      <th>Complain</th>\n",
       "      <th>DaySinceLastOrder</th>\n",
       "      <th>CashbackAmount</th>\n",
       "      <th>Churn</th>\n",
       "    </tr>\n",
       "  </thead>\n",
       "  <tbody>\n",
       "    <tr>\n",
       "      <th>3936</th>\n",
       "      <td>28.0</td>\n",
       "      <td>9.0</td>\n",
       "      <td>5</td>\n",
       "      <td>Fashion</td>\n",
       "      <td>3</td>\n",
       "      <td>Married</td>\n",
       "      <td>8</td>\n",
       "      <td>0</td>\n",
       "      <td>1.0</td>\n",
       "      <td>231.86</td>\n",
       "      <td>0</td>\n",
       "    </tr>\n",
       "    <tr>\n",
       "      <th>3937</th>\n",
       "      <td>8.0</td>\n",
       "      <td>7.0</td>\n",
       "      <td>2</td>\n",
       "      <td>Mobile Phone</td>\n",
       "      <td>2</td>\n",
       "      <td>Single</td>\n",
       "      <td>4</td>\n",
       "      <td>0</td>\n",
       "      <td>4.0</td>\n",
       "      <td>157.80</td>\n",
       "      <td>0</td>\n",
       "    </tr>\n",
       "    <tr>\n",
       "      <th>3938</th>\n",
       "      <td>30.0</td>\n",
       "      <td>6.0</td>\n",
       "      <td>5</td>\n",
       "      <td>Laptop &amp; Accessory</td>\n",
       "      <td>3</td>\n",
       "      <td>Married</td>\n",
       "      <td>3</td>\n",
       "      <td>1</td>\n",
       "      <td>2.0</td>\n",
       "      <td>156.60</td>\n",
       "      <td>0</td>\n",
       "    </tr>\n",
       "    <tr>\n",
       "      <th>3939</th>\n",
       "      <td>6.0</td>\n",
       "      <td>NaN</td>\n",
       "      <td>4</td>\n",
       "      <td>Mobile</td>\n",
       "      <td>3</td>\n",
       "      <td>Married</td>\n",
       "      <td>10</td>\n",
       "      <td>1</td>\n",
       "      <td>0.0</td>\n",
       "      <td>124.37</td>\n",
       "      <td>1</td>\n",
       "    </tr>\n",
       "    <tr>\n",
       "      <th>3940</th>\n",
       "      <td>2.0</td>\n",
       "      <td>7.0</td>\n",
       "      <td>3</td>\n",
       "      <td>Laptop &amp; Accessory</td>\n",
       "      <td>5</td>\n",
       "      <td>Married</td>\n",
       "      <td>1</td>\n",
       "      <td>0</td>\n",
       "      <td>2.0</td>\n",
       "      <td>153.73</td>\n",
       "      <td>0</td>\n",
       "    </tr>\n",
       "  </tbody>\n",
       "</table>\n",
       "</div>"
      ],
      "text/plain": [
       "      Tenure  WarehouseToHome  NumberOfDeviceRegistered    PreferedOrderCat  \\\n",
       "3936    28.0              9.0                         5             Fashion   \n",
       "3937     8.0              7.0                         2        Mobile Phone   \n",
       "3938    30.0              6.0                         5  Laptop & Accessory   \n",
       "3939     6.0              NaN                         4              Mobile   \n",
       "3940     2.0              7.0                         3  Laptop & Accessory   \n",
       "\n",
       "      SatisfactionScore MaritalStatus  NumberOfAddress  Complain  \\\n",
       "3936                  3       Married                8         0   \n",
       "3937                  2        Single                4         0   \n",
       "3938                  3       Married                3         1   \n",
       "3939                  3       Married               10         1   \n",
       "3940                  5       Married                1         0   \n",
       "\n",
       "      DaySinceLastOrder  CashbackAmount  Churn  \n",
       "3936                1.0          231.86      0  \n",
       "3937                4.0          157.80      0  \n",
       "3938                2.0          156.60      0  \n",
       "3939                0.0          124.37      1  \n",
       "3940                2.0          153.73      0  "
      ]
     },
     "metadata": {},
     "output_type": "display_data"
    }
   ],
   "source": [
    "## Display top 5 and bottom 5 data\n",
    "\n",
    "display(df.head(), df.tail())"
   ]
  },
  {
   "cell_type": "code",
   "execution_count": 319,
   "metadata": {},
   "outputs": [
    {
     "data": {
      "text/html": [
       "<div>\n",
       "<style scoped>\n",
       "    .dataframe tbody tr th:only-of-type {\n",
       "        vertical-align: middle;\n",
       "    }\n",
       "\n",
       "    .dataframe tbody tr th {\n",
       "        vertical-align: top;\n",
       "    }\n",
       "\n",
       "    .dataframe thead th {\n",
       "        text-align: right;\n",
       "    }\n",
       "</style>\n",
       "<table border=\"1\" class=\"dataframe\">\n",
       "  <thead>\n",
       "    <tr style=\"text-align: right;\">\n",
       "      <th></th>\n",
       "      <th>Tenure</th>\n",
       "      <th>WarehouseToHome</th>\n",
       "      <th>NumberOfDeviceRegistered</th>\n",
       "      <th>SatisfactionScore</th>\n",
       "      <th>NumberOfAddress</th>\n",
       "      <th>Complain</th>\n",
       "      <th>DaySinceLastOrder</th>\n",
       "      <th>CashbackAmount</th>\n",
       "      <th>Churn</th>\n",
       "    </tr>\n",
       "  </thead>\n",
       "  <tbody>\n",
       "    <tr>\n",
       "      <th>count</th>\n",
       "      <td>3747.000000</td>\n",
       "      <td>3772.000000</td>\n",
       "      <td>3941.000000</td>\n",
       "      <td>3941.000000</td>\n",
       "      <td>3941.000000</td>\n",
       "      <td>3941.000000</td>\n",
       "      <td>3728.000000</td>\n",
       "      <td>3941.000000</td>\n",
       "      <td>3941.000000</td>\n",
       "    </tr>\n",
       "    <tr>\n",
       "      <th>mean</th>\n",
       "      <td>10.081398</td>\n",
       "      <td>15.650583</td>\n",
       "      <td>3.679269</td>\n",
       "      <td>3.088302</td>\n",
       "      <td>4.237757</td>\n",
       "      <td>0.282416</td>\n",
       "      <td>4.531652</td>\n",
       "      <td>176.707419</td>\n",
       "      <td>0.171023</td>\n",
       "    </tr>\n",
       "    <tr>\n",
       "      <th>std</th>\n",
       "      <td>8.498864</td>\n",
       "      <td>8.452301</td>\n",
       "      <td>1.013938</td>\n",
       "      <td>1.381832</td>\n",
       "      <td>2.626699</td>\n",
       "      <td>0.450232</td>\n",
       "      <td>3.667648</td>\n",
       "      <td>48.791784</td>\n",
       "      <td>0.376576</td>\n",
       "    </tr>\n",
       "    <tr>\n",
       "      <th>min</th>\n",
       "      <td>0.000000</td>\n",
       "      <td>5.000000</td>\n",
       "      <td>1.000000</td>\n",
       "      <td>1.000000</td>\n",
       "      <td>1.000000</td>\n",
       "      <td>0.000000</td>\n",
       "      <td>0.000000</td>\n",
       "      <td>0.000000</td>\n",
       "      <td>0.000000</td>\n",
       "    </tr>\n",
       "    <tr>\n",
       "      <th>25%</th>\n",
       "      <td>2.000000</td>\n",
       "      <td>9.000000</td>\n",
       "      <td>3.000000</td>\n",
       "      <td>2.000000</td>\n",
       "      <td>2.000000</td>\n",
       "      <td>0.000000</td>\n",
       "      <td>2.000000</td>\n",
       "      <td>145.700000</td>\n",
       "      <td>0.000000</td>\n",
       "    </tr>\n",
       "    <tr>\n",
       "      <th>50%</th>\n",
       "      <td>9.000000</td>\n",
       "      <td>14.000000</td>\n",
       "      <td>4.000000</td>\n",
       "      <td>3.000000</td>\n",
       "      <td>3.000000</td>\n",
       "      <td>0.000000</td>\n",
       "      <td>3.000000</td>\n",
       "      <td>163.340000</td>\n",
       "      <td>0.000000</td>\n",
       "    </tr>\n",
       "    <tr>\n",
       "      <th>75%</th>\n",
       "      <td>16.000000</td>\n",
       "      <td>21.000000</td>\n",
       "      <td>4.000000</td>\n",
       "      <td>4.000000</td>\n",
       "      <td>6.000000</td>\n",
       "      <td>1.000000</td>\n",
       "      <td>7.000000</td>\n",
       "      <td>195.250000</td>\n",
       "      <td>0.000000</td>\n",
       "    </tr>\n",
       "    <tr>\n",
       "      <th>max</th>\n",
       "      <td>61.000000</td>\n",
       "      <td>127.000000</td>\n",
       "      <td>6.000000</td>\n",
       "      <td>5.000000</td>\n",
       "      <td>22.000000</td>\n",
       "      <td>1.000000</td>\n",
       "      <td>46.000000</td>\n",
       "      <td>324.990000</td>\n",
       "      <td>1.000000</td>\n",
       "    </tr>\n",
       "  </tbody>\n",
       "</table>\n",
       "</div>"
      ],
      "text/plain": [
       "            Tenure  WarehouseToHome  NumberOfDeviceRegistered  \\\n",
       "count  3747.000000      3772.000000               3941.000000   \n",
       "mean     10.081398        15.650583                  3.679269   \n",
       "std       8.498864         8.452301                  1.013938   \n",
       "min       0.000000         5.000000                  1.000000   \n",
       "25%       2.000000         9.000000                  3.000000   \n",
       "50%       9.000000        14.000000                  4.000000   \n",
       "75%      16.000000        21.000000                  4.000000   \n",
       "max      61.000000       127.000000                  6.000000   \n",
       "\n",
       "       SatisfactionScore  NumberOfAddress     Complain  DaySinceLastOrder  \\\n",
       "count        3941.000000      3941.000000  3941.000000        3728.000000   \n",
       "mean            3.088302         4.237757     0.282416           4.531652   \n",
       "std             1.381832         2.626699     0.450232           3.667648   \n",
       "min             1.000000         1.000000     0.000000           0.000000   \n",
       "25%             2.000000         2.000000     0.000000           2.000000   \n",
       "50%             3.000000         3.000000     0.000000           3.000000   \n",
       "75%             4.000000         6.000000     1.000000           7.000000   \n",
       "max             5.000000        22.000000     1.000000          46.000000   \n",
       "\n",
       "       CashbackAmount        Churn  \n",
       "count     3941.000000  3941.000000  \n",
       "mean       176.707419     0.171023  \n",
       "std         48.791784     0.376576  \n",
       "min          0.000000     0.000000  \n",
       "25%        145.700000     0.000000  \n",
       "50%        163.340000     0.000000  \n",
       "75%        195.250000     0.000000  \n",
       "max        324.990000     1.000000  "
      ]
     },
     "execution_count": 319,
     "metadata": {},
     "output_type": "execute_result"
    }
   ],
   "source": [
    "## Display descriptive statistics\n",
    "\n",
    "df.describe()"
   ]
  },
  {
   "cell_type": "markdown",
   "metadata": {},
   "source": [
    "We can see from the displayed dataframe and descriptive statistics that the dataset contains 10 features (8 Numerical, 2 Categorical) and 1 target (Churn columns). We also can see from the count that the count does not match on every columns, which mean that the dataset contains several missing value which we will need to handle later.  "
   ]
  },
  {
   "cell_type": "code",
   "execution_count": 320,
   "metadata": {},
   "outputs": [
    {
     "data": {
      "text/plain": [
       "0    3267\n",
       "1     674\n",
       "Name: Churn, dtype: int64"
      ]
     },
     "execution_count": 320,
     "metadata": {},
     "output_type": "execute_result"
    }
   ],
   "source": [
    "## Check the balance of the dataset\n",
    "\n",
    "df['Churn'].value_counts()"
   ]
  },
  {
   "cell_type": "code",
   "execution_count": 321,
   "metadata": {},
   "outputs": [
    {
     "data": {
      "text/html": [
       "<div>\n",
       "<style scoped>\n",
       "    .dataframe tbody tr th:only-of-type {\n",
       "        vertical-align: middle;\n",
       "    }\n",
       "\n",
       "    .dataframe tbody tr th {\n",
       "        vertical-align: top;\n",
       "    }\n",
       "\n",
       "    .dataframe thead th {\n",
       "        text-align: right;\n",
       "    }\n",
       "</style>\n",
       "<table border=\"1\" class=\"dataframe\">\n",
       "  <thead>\n",
       "    <tr style=\"text-align: right;\">\n",
       "      <th>col_0</th>\n",
       "      <th>Count of Class</th>\n",
       "    </tr>\n",
       "    <tr>\n",
       "      <th>Churn</th>\n",
       "      <th></th>\n",
       "    </tr>\n",
       "  </thead>\n",
       "  <tbody>\n",
       "    <tr>\n",
       "      <th>0</th>\n",
       "      <td>82.9</td>\n",
       "    </tr>\n",
       "    <tr>\n",
       "      <th>1</th>\n",
       "      <td>17.1</td>\n",
       "    </tr>\n",
       "  </tbody>\n",
       "</table>\n",
       "</div>"
      ],
      "text/plain": [
       "col_0  Count of Class\n",
       "Churn                \n",
       "0                82.9\n",
       "1                17.1"
      ]
     },
     "execution_count": 321,
     "metadata": {},
     "output_type": "execute_result"
    }
   ],
   "source": [
    "## Create a cross tabulation dataframe for counting classes\n",
    "\n",
    "(pd.crosstab(df['Churn'], columns='Count of Class', normalize=True)*100).round(2)"
   ]
  },
  {
   "cell_type": "markdown",
   "metadata": {},
   "source": [
    "We can see that we got an imbalance dataset (which is expected). The dataset contains 82.9% of majority class (non-churn customer) and 17.1% of minority class (churned customers)"
   ]
  },
  {
   "cell_type": "code",
   "execution_count": 322,
   "metadata": {},
   "outputs": [
    {
     "data": {
      "image/png": "[encoded data removed]",
      "text/plain": [
       "<Figure size 1152x504 with 1 Axes>"
      ]
     },
     "metadata": {},
     "output_type": "display_data"
    }
   ],
   "source": [
    "## Check outlier with boxplot visualization\n",
    "\n",
    "sns.set(style='darkgrid', palette='viridis')\n",
    "fig, ax = plt.subplots(figsize=(16,7))\n",
    "sns.boxplot(data=df)\n",
    "plt.xticks(rotation=45)\n",
    "plt.show()"
   ]
  },
  {
   "cell_type": "markdown",
   "metadata": {},
   "source": [
    "We can see from the boxplot that the 'CashbackAmount' columns contain the most outlier. And for the other columns, there are a few outliers.\n",
    "\n",
    "For the outliers, we will not handle it now, instead, we will handle the outlier after we find the best base model."
   ]
  },
  {
   "cell_type": "code",
   "execution_count": 323,
   "metadata": {},
   "outputs": [
    {
     "data": {
      "text/plain": [
       "671"
      ]
     },
     "execution_count": 323,
     "metadata": {},
     "output_type": "execute_result"
    }
   ],
   "source": [
    "## Check duplicate\n",
    "\n",
    "df.duplicated().sum()"
   ]
  },
  {
   "cell_type": "markdown",
   "metadata": {},
   "source": [
    "We can see above that there are 671 duplicated rows exist in the dataset. However, we will not drop the duplicates due to the information limitation we have about the dataset. Because the data does not contain any unique id that shown for each row (e.g customerID), we cannot confirm if the rows are really a duplicate or just a different customer that have identical values on each columns. "
   ]
  },
  {
   "cell_type": "code",
   "execution_count": 324,
   "metadata": {},
   "outputs": [
    {
     "name": "stdout",
     "output_type": "stream",
     "text": [
      "<class 'pandas.core.frame.DataFrame'>\n",
      "RangeIndex: 3941 entries, 0 to 3940\n",
      "Data columns (total 11 columns):\n",
      " #   Column                    Non-Null Count  Dtype  \n",
      "---  ------                    --------------  -----  \n",
      " 0   Tenure                    3747 non-null   float64\n",
      " 1   WarehouseToHome           3772 non-null   float64\n",
      " 2   NumberOfDeviceRegistered  3941 non-null   int64  \n",
      " 3   PreferedOrderCat          3941 non-null   object \n",
      " 4   SatisfactionScore         3941 non-null   int64  \n",
      " 5   MaritalStatus             3941 non-null   object \n",
      " 6   NumberOfAddress           3941 non-null   int64  \n",
      " 7   Complain                  3941 non-null   int64  \n",
      " 8   DaySinceLastOrder         3728 non-null   float64\n",
      " 9   CashbackAmount            3941 non-null   float64\n",
      " 10  Churn                     3941 non-null   int64  \n",
      "dtypes: float64(4), int64(5), object(2)\n",
      "memory usage: 338.8+ KB\n"
     ]
    }
   ],
   "source": [
    "## Check datatypes and missing value\n",
    "\n",
    "df.info()"
   ]
  },
  {
   "cell_type": "markdown",
   "metadata": {},
   "source": [
    "From the information above, we can see that there are several columns that contains a missing value.\n",
    "\n",
    "Let's count how many missing value exist in each column."
   ]
  },
  {
   "cell_type": "code",
   "execution_count": 325,
   "metadata": {},
   "outputs": [
    {
     "data": {
      "text/plain": [
       "Tenure                      194\n",
       "WarehouseToHome             169\n",
       "NumberOfDeviceRegistered      0\n",
       "PreferedOrderCat              0\n",
       "SatisfactionScore             0\n",
       "MaritalStatus                 0\n",
       "NumberOfAddress               0\n",
       "Complain                      0\n",
       "DaySinceLastOrder           213\n",
       "CashbackAmount                0\n",
       "Churn                         0\n",
       "dtype: int64"
      ]
     },
     "execution_count": 325,
     "metadata": {},
     "output_type": "execute_result"
    }
   ],
   "source": [
    "df.isna().sum()"
   ]
  },
  {
   "cell_type": "markdown",
   "metadata": {},
   "source": [
    "Now we can see that there are 3 columns that contain a missing value."
   ]
  },
  {
   "cell_type": "code",
   "execution_count": 326,
   "metadata": {},
   "outputs": [
    {
     "data": {
      "text/html": [
       "<div>\n",
       "<style scoped>\n",
       "    .dataframe tbody tr th:only-of-type {\n",
       "        vertical-align: middle;\n",
       "    }\n",
       "\n",
       "    .dataframe tbody tr th {\n",
       "        vertical-align: top;\n",
       "    }\n",
       "\n",
       "    .dataframe thead th {\n",
       "        text-align: right;\n",
       "    }\n",
       "</style>\n",
       "<table border=\"1\" class=\"dataframe\">\n",
       "  <thead>\n",
       "    <tr style=\"text-align: right;\">\n",
       "      <th></th>\n",
       "      <th>Features</th>\n",
       "      <th>DataType</th>\n",
       "      <th>Null</th>\n",
       "      <th>Null Percentage</th>\n",
       "      <th>Unique</th>\n",
       "      <th>Unique Sample</th>\n",
       "    </tr>\n",
       "  </thead>\n",
       "  <tbody>\n",
       "    <tr>\n",
       "      <th>0</th>\n",
       "      <td>Tenure</td>\n",
       "      <td>float64</td>\n",
       "      <td>194</td>\n",
       "      <td>4.92</td>\n",
       "      <td>36</td>\n",
       "      <td>[0.0, 17.0]</td>\n",
       "    </tr>\n",
       "    <tr>\n",
       "      <th>1</th>\n",
       "      <td>WarehouseToHome</td>\n",
       "      <td>float64</td>\n",
       "      <td>169</td>\n",
       "      <td>4.29</td>\n",
       "      <td>33</td>\n",
       "      <td>[nan, 17.0]</td>\n",
       "    </tr>\n",
       "    <tr>\n",
       "      <th>2</th>\n",
       "      <td>NumberOfDeviceRegistered</td>\n",
       "      <td>int64</td>\n",
       "      <td>0</td>\n",
       "      <td>0.00</td>\n",
       "      <td>6</td>\n",
       "      <td>[3, 1]</td>\n",
       "    </tr>\n",
       "    <tr>\n",
       "      <th>3</th>\n",
       "      <td>PreferedOrderCat</td>\n",
       "      <td>object</td>\n",
       "      <td>0</td>\n",
       "      <td>0.00</td>\n",
       "      <td>6</td>\n",
       "      <td>[Mobile Phone, Grocery]</td>\n",
       "    </tr>\n",
       "    <tr>\n",
       "      <th>4</th>\n",
       "      <td>SatisfactionScore</td>\n",
       "      <td>int64</td>\n",
       "      <td>0</td>\n",
       "      <td>0.00</td>\n",
       "      <td>5</td>\n",
       "      <td>[4, 1]</td>\n",
       "    </tr>\n",
       "    <tr>\n",
       "      <th>5</th>\n",
       "      <td>MaritalStatus</td>\n",
       "      <td>object</td>\n",
       "      <td>0</td>\n",
       "      <td>0.00</td>\n",
       "      <td>3</td>\n",
       "      <td>[Married, Single]</td>\n",
       "    </tr>\n",
       "    <tr>\n",
       "      <th>6</th>\n",
       "      <td>NumberOfAddress</td>\n",
       "      <td>int64</td>\n",
       "      <td>0</td>\n",
       "      <td>0.00</td>\n",
       "      <td>14</td>\n",
       "      <td>[2, 21]</td>\n",
       "    </tr>\n",
       "    <tr>\n",
       "      <th>7</th>\n",
       "      <td>Complain</td>\n",
       "      <td>int64</td>\n",
       "      <td>0</td>\n",
       "      <td>0.00</td>\n",
       "      <td>2</td>\n",
       "      <td>[1, 0]</td>\n",
       "    </tr>\n",
       "    <tr>\n",
       "      <th>8</th>\n",
       "      <td>DaySinceLastOrder</td>\n",
       "      <td>float64</td>\n",
       "      <td>213</td>\n",
       "      <td>5.40</td>\n",
       "      <td>22</td>\n",
       "      <td>[46.0, 13.0]</td>\n",
       "    </tr>\n",
       "    <tr>\n",
       "      <th>9</th>\n",
       "      <td>CashbackAmount</td>\n",
       "      <td>float64</td>\n",
       "      <td>0</td>\n",
       "      <td>0.00</td>\n",
       "      <td>2335</td>\n",
       "      <td>[121.07, 209.74]</td>\n",
       "    </tr>\n",
       "    <tr>\n",
       "      <th>10</th>\n",
       "      <td>Churn</td>\n",
       "      <td>int64</td>\n",
       "      <td>0</td>\n",
       "      <td>0.00</td>\n",
       "      <td>2</td>\n",
       "      <td>[1, 0]</td>\n",
       "    </tr>\n",
       "  </tbody>\n",
       "</table>\n",
       "</div>"
      ],
      "text/plain": [
       "                    Features DataType  Null  Null Percentage  Unique  \\\n",
       "0                     Tenure  float64   194             4.92      36   \n",
       "1            WarehouseToHome  float64   169             4.29      33   \n",
       "2   NumberOfDeviceRegistered    int64     0             0.00       6   \n",
       "3           PreferedOrderCat   object     0             0.00       6   \n",
       "4          SatisfactionScore    int64     0             0.00       5   \n",
       "5              MaritalStatus   object     0             0.00       3   \n",
       "6            NumberOfAddress    int64     0             0.00      14   \n",
       "7                   Complain    int64     0             0.00       2   \n",
       "8          DaySinceLastOrder  float64   213             5.40      22   \n",
       "9             CashbackAmount  float64     0             0.00    2335   \n",
       "10                     Churn    int64     0             0.00       2   \n",
       "\n",
       "              Unique Sample  \n",
       "0               [0.0, 17.0]  \n",
       "1               [nan, 17.0]  \n",
       "2                    [3, 1]  \n",
       "3   [Mobile Phone, Grocery]  \n",
       "4                    [4, 1]  \n",
       "5         [Married, Single]  \n",
       "6                   [2, 21]  \n",
       "7                    [1, 0]  \n",
       "8              [46.0, 13.0]  \n",
       "9          [121.07, 209.74]  \n",
       "10                   [1, 0]  "
      ]
     },
     "execution_count": 326,
     "metadata": {},
     "output_type": "execute_result"
    }
   ],
   "source": [
    "## Displaying features, datatype, count of null, null percentage, total unique value, and unique sample\n",
    "\n",
    "ecomDesc = []\n",
    "for i in df.columns:\n",
    "    ecomDesc.append([\n",
    "        i,\n",
    "        df[i].dtypes,\n",
    "        df[i].isna().sum(),\n",
    "        round(((df[i].isna().sum() / len (df)) * 100), 2),\n",
    "        df[i].nunique(),\n",
    "        df[i].drop_duplicates().sample(2).values\n",
    "    ])\n",
    "\n",
    "pd.DataFrame(ecomDesc,\n",
    "columns = [\n",
    "    'Features',\n",
    "    'DataType',\n",
    "    'Null',\n",
    "    'Null Percentage',\n",
    "    'Unique',\n",
    "    'Unique Sample'\n",
    "])"
   ]
  },
  {
   "cell_type": "markdown",
   "metadata": {},
   "source": [
    "The missing value exist around 5 percent on each 3 columns. Let's now handle the missing value on each of these columsn."
   ]
  },
  {
   "cell_type": "markdown",
   "metadata": {},
   "source": [
    "## **Handling Missing Value**"
   ]
  },
  {
   "cell_type": "code",
   "execution_count": 327,
   "metadata": {},
   "outputs": [],
   "source": [
    "## Create a copy of the dataframe\n",
    "\n",
    "df_1 = df.copy()"
   ]
  },
  {
   "cell_type": "code",
   "execution_count": 328,
   "metadata": {},
   "outputs": [
    {
     "data": {
      "image/png": "[encoded data removed]",
      "text/plain": [
       "<Figure size 576x504 with 1 Axes>"
      ]
     },
     "metadata": {},
     "output_type": "display_data"
    }
   ],
   "source": [
    "## Visualization of the missing value\n",
    "\n",
    "plt.figure(figsize=(8, 7))\n",
    "sns.heatmap(df_1.isna(), cmap='viridis', yticklabels=False, cbar=False)\n",
    "plt.show()"
   ]
  },
  {
   "cell_type": "markdown",
   "metadata": {},
   "source": [
    "From the visualization, We can't notice any pattern for the missing value. Thus, we will handle the missing value for each column seperately."
   ]
  },
  {
   "cell_type": "markdown",
   "metadata": {},
   "source": [
    "**Tenure**"
   ]
  },
  {
   "cell_type": "markdown",
   "metadata": {},
   "source": [
    "Let's first check if there are any high correlation exist between the 'Tenure' feature with other features. If there is a high correlation with other feature, we will be using those features to help impute the missing value on 'Tenure' features."
   ]
  },
  {
   "cell_type": "code",
   "execution_count": 329,
   "metadata": {},
   "outputs": [
    {
     "data": {
      "image/png": "[encoded data removed]",
      "text/plain": [
       "<Figure size 576x504 with 1 Axes>"
      ]
     },
     "metadata": {},
     "output_type": "display_data"
    }
   ],
   "source": [
    "## Checking correlation with numerical features\n",
    "\n",
    "plt.figure(figsize=(8, 7))\n",
    "sns.heatmap(df_1.corr(), cmap='viridis', cbar=False, annot=True)\n",
    "plt.show()"
   ]
  },
  {
   "cell_type": "markdown",
   "metadata": {},
   "source": [
    "From the heatmap we can see that the 'Tenure' features have the highest correlation with 'CashbackAmount' features. Let's now check the 'Tenure' correlation with categorical features."
   ]
  },
  {
   "cell_type": "code",
   "execution_count": 330,
   "metadata": {},
   "outputs": [],
   "source": [
    "## create df for categorical features\n",
    "\n",
    "col = df_1.columns[df.dtypes == 'object']"
   ]
  },
  {
   "cell_type": "code",
   "execution_count": 331,
   "metadata": {},
   "outputs": [
    {
     "data": {
      "image/png": "[encoded data removed]",
      "text/plain": [
       "<Figure size 1440x72 with 1 Axes>"
      ]
     },
     "metadata": {},
     "output_type": "display_data"
    }
   ],
   "source": [
    "## Calculating and visualizing the correlation ratio between 'Tenure' feature with categorical features\n",
    "\n",
    "cor_ratio = []\n",
    "\n",
    "for i in df_1.columns[df_1.dtypes == 'object']:\n",
    "    corr = round(correlation_ratio(df_1[i], df_1['Tenure']), 2)\n",
    "    cor_ratio.append(corr)\n",
    "\n",
    "df_cr_ratio = pd.DataFrame(data= [cor_ratio], columns=col, index=['Tenure'])\n",
    "\n",
    "plt.figure(figsize=(20,1))\n",
    "sns.heatmap(df_cr_ratio, annot=True, cbar=False)\n",
    "plt.show()"
   ]
  },
  {
   "cell_type": "markdown",
   "metadata": {},
   "source": [
    "We can see that the 'Tenure' features have a the highest overall correlation with 'PreferedOrderCat' features. So we will use both 'CashbackAmount' and 'PreferedOrderCat' features to impute the missing value on 'Tenure' features. "
   ]
  },
  {
   "cell_type": "code",
   "execution_count": 332,
   "metadata": {},
   "outputs": [
    {
     "data": {
      "text/html": [
       "<div>\n",
       "<style scoped>\n",
       "    .dataframe tbody tr th:only-of-type {\n",
       "        vertical-align: middle;\n",
       "    }\n",
       "\n",
       "    .dataframe tbody tr th {\n",
       "        vertical-align: top;\n",
       "    }\n",
       "\n",
       "    .dataframe thead th {\n",
       "        text-align: right;\n",
       "    }\n",
       "</style>\n",
       "<table border=\"1\" class=\"dataframe\">\n",
       "  <thead>\n",
       "    <tr style=\"text-align: right;\">\n",
       "      <th></th>\n",
       "      <th>Tenure</th>\n",
       "      <th>CashbackAmount</th>\n",
       "      <th>PreferedOrderCat</th>\n",
       "    </tr>\n",
       "  </thead>\n",
       "  <tbody>\n",
       "    <tr>\n",
       "      <th>16</th>\n",
       "      <td>NaN</td>\n",
       "      <td>121.68</td>\n",
       "      <td>Mobile</td>\n",
       "    </tr>\n",
       "    <tr>\n",
       "      <th>37</th>\n",
       "      <td>NaN</td>\n",
       "      <td>122.18</td>\n",
       "      <td>Mobile</td>\n",
       "    </tr>\n",
       "    <tr>\n",
       "      <th>44</th>\n",
       "      <td>NaN</td>\n",
       "      <td>120.08</td>\n",
       "      <td>Mobile</td>\n",
       "    </tr>\n",
       "    <tr>\n",
       "      <th>85</th>\n",
       "      <td>NaN</td>\n",
       "      <td>122.70</td>\n",
       "      <td>Mobile</td>\n",
       "    </tr>\n",
       "    <tr>\n",
       "      <th>93</th>\n",
       "      <td>NaN</td>\n",
       "      <td>120.75</td>\n",
       "      <td>Mobile</td>\n",
       "    </tr>\n",
       "    <tr>\n",
       "      <th>...</th>\n",
       "      <td>...</td>\n",
       "      <td>...</td>\n",
       "      <td>...</td>\n",
       "    </tr>\n",
       "    <tr>\n",
       "      <th>3842</th>\n",
       "      <td>NaN</td>\n",
       "      <td>122.59</td>\n",
       "      <td>Mobile</td>\n",
       "    </tr>\n",
       "    <tr>\n",
       "      <th>3853</th>\n",
       "      <td>NaN</td>\n",
       "      <td>116.75</td>\n",
       "      <td>Mobile Phone</td>\n",
       "    </tr>\n",
       "    <tr>\n",
       "      <th>3879</th>\n",
       "      <td>NaN</td>\n",
       "      <td>122.97</td>\n",
       "      <td>Mobile</td>\n",
       "    </tr>\n",
       "    <tr>\n",
       "      <th>3890</th>\n",
       "      <td>NaN</td>\n",
       "      <td>114.20</td>\n",
       "      <td>Mobile Phone</td>\n",
       "    </tr>\n",
       "    <tr>\n",
       "      <th>3925</th>\n",
       "      <td>NaN</td>\n",
       "      <td>120.44</td>\n",
       "      <td>Mobile</td>\n",
       "    </tr>\n",
       "  </tbody>\n",
       "</table>\n",
       "<p>194 rows × 3 columns</p>\n",
       "</div>"
      ],
      "text/plain": [
       "      Tenure  CashbackAmount PreferedOrderCat\n",
       "16       NaN          121.68           Mobile\n",
       "37       NaN          122.18           Mobile\n",
       "44       NaN          120.08           Mobile\n",
       "85       NaN          122.70           Mobile\n",
       "93       NaN          120.75           Mobile\n",
       "...      ...             ...              ...\n",
       "3842     NaN          122.59           Mobile\n",
       "3853     NaN          116.75     Mobile Phone\n",
       "3879     NaN          122.97           Mobile\n",
       "3890     NaN          114.20     Mobile Phone\n",
       "3925     NaN          120.44           Mobile\n",
       "\n",
       "[194 rows x 3 columns]"
      ]
     },
     "execution_count": 332,
     "metadata": {},
     "output_type": "execute_result"
    }
   ],
   "source": [
    "## Slicing the df where Tenure is null and CashbackAmount & PreferedOrderCat is not null.\n",
    "\n",
    "df_1[['Tenure', 'CashbackAmount', 'PreferedOrderCat']][(df_1['Tenure'].isna() == True) & (df_1['CashbackAmount'].isna() == False) & (df_1['PreferedOrderCat'].isna() == False)]"
   ]
  },
  {
   "cell_type": "markdown",
   "metadata": {},
   "source": [
    "We can't notice any pattern between the missing value with the other columns. Let's further check on what 'PreferedOrderCat' category does the Tenure missing."
   ]
  },
  {
   "cell_type": "code",
   "execution_count": 333,
   "metadata": {},
   "outputs": [
    {
     "data": {
      "text/plain": [
       "array(['Mobile', 'Laptop & Accessory', 'Mobile Phone'], dtype=object)"
      ]
     },
     "execution_count": 333,
     "metadata": {},
     "output_type": "execute_result"
    }
   ],
   "source": [
    "## Checking order category that contains null value on Tenure\n",
    "\n",
    "df_1[df_1['Tenure'].isna() == True]['PreferedOrderCat'].unique()"
   ]
  },
  {
   "cell_type": "markdown",
   "metadata": {},
   "source": [
    "The missing value on 'Tenure' features occurs on Mobile, Laptop & Accessory, and Mobile Phone Prefered order category. Now we will try to find the value to imputre the missing value on Tenure features with these categories and with Cashback Amount."
   ]
  },
  {
   "cell_type": "markdown",
   "metadata": {},
   "source": [
    "### Prefered Ordet Category: **Mobile**"
   ]
  },
  {
   "cell_type": "code",
   "execution_count": 334,
   "metadata": {},
   "outputs": [],
   "source": [
    "## create df for mobile category on PreferedOrderCat\n",
    "\n",
    "df_mobile = df_1[df_1['PreferedOrderCat'] == 'Mobile']"
   ]
  },
  {
   "cell_type": "code",
   "execution_count": 335,
   "metadata": {},
   "outputs": [
    {
     "data": {
      "image/png": "[encoded data removed]",
      "text/plain": [
       "<Figure size 432x288 with 1 Axes>"
      ]
     },
     "metadata": {},
     "output_type": "display_data"
    }
   ],
   "source": [
    "## check distribution of Tenure on Mobile PreferedOrderCat\n",
    "\n",
    "sns.histplot(df_mobile['Tenure'], kde=True)\n",
    "plt.show()"
   ]
  },
  {
   "cell_type": "markdown",
   "metadata": {},
   "source": [
    "We can see that from the plot, the 'Tenure' data on prefered Order Category on _mobile_ is positvely skewed. So later we will use the median to impute the missing value."
   ]
  },
  {
   "cell_type": "code",
   "execution_count": 336,
   "metadata": {},
   "outputs": [
    {
     "name": "stdout",
     "output_type": "stream",
     "text": [
      "The average cashback amount is: 125.64\n"
     ]
    }
   ],
   "source": [
    "## find the average value of CashbackAmount on mobile category\n",
    "\n",
    "mobile_cashback = df_mobile['CashbackAmount'].median()\n",
    "print(f'The average cashback amount is: {mobile_cashback}')"
   ]
  },
  {
   "cell_type": "code",
   "execution_count": 337,
   "metadata": {},
   "outputs": [
    {
     "name": "stdout",
     "output_type": "stream",
     "text": [
      "The median value for prefered order category on Mobile and below average cashback amount is: 2.0 year Tenure\n"
     ]
    }
   ],
   "source": [
    "## find the median value of Tenure on below average cashback\n",
    "\n",
    "mobile_fill_1 = df_mobile[df_mobile['CashbackAmount'] < mobile_cashback]['Tenure'].median()\n",
    "print(f'The median value for prefered order category on Mobile and below average cashback amount is: {mobile_fill_1} year Tenure')"
   ]
  },
  {
   "cell_type": "code",
   "execution_count": 338,
   "metadata": {},
   "outputs": [
    {
     "name": "stdout",
     "output_type": "stream",
     "text": [
      "The median value for prefered order category on Mobile and above average cashback amount is: 4.0 year Tenure\n"
     ]
    }
   ],
   "source": [
    "## find the median value of Tenure on above average cashback\n",
    "\n",
    "mobile_fill_2 = df_mobile[df_mobile['CashbackAmount'] > mobile_cashback]['Tenure'].median()\n",
    "print(f'The median value for prefered order category on Mobile and above average cashback amount is: {mobile_fill_2} year Tenure')"
   ]
  },
  {
   "cell_type": "markdown",
   "metadata": {},
   "source": [
    "From the analysis above, we can see that the tenure with below average cashback have the median value of **3 year** and **4 year** for the above average. Now we will impute the null value on 'Tenure' features that have prefered order category on _mobile_ with both of these median value."
   ]
  },
  {
   "cell_type": "code",
   "execution_count": 339,
   "metadata": {},
   "outputs": [
    {
     "data": {
      "text/plain": [
       "151"
      ]
     },
     "execution_count": 339,
     "metadata": {},
     "output_type": "execute_result"
    }
   ],
   "source": [
    "## Check total missing value on Tenure with 'Mobile' Order Category\n",
    "\n",
    "df_1[df_1['PreferedOrderCat'] == 'Mobile']['Tenure'].isna().sum()"
   ]
  },
  {
   "cell_type": "code",
   "execution_count": 340,
   "metadata": {},
   "outputs": [
    {
     "data": {
      "text/plain": [
       "194"
      ]
     },
     "execution_count": 340,
     "metadata": {},
     "output_type": "execute_result"
    }
   ],
   "source": [
    "## Check total missing value on Tenure in general\n",
    "\n",
    "df_1['Tenure'].isna().sum()"
   ]
  },
  {
   "cell_type": "code",
   "execution_count": 341,
   "metadata": {},
   "outputs": [],
   "source": [
    "## Create mask for Mobile order cateogry with below and above average\n",
    "\n",
    "mask_mobile_1 = (df_1['PreferedOrderCat'] == 'Mobile') & (df_1['CashbackAmount'] < mobile_cashback)\n",
    "\n",
    "mask_mobile_2 = (df_1['PreferedOrderCat'] == 'Mobile') & (df_1['CashbackAmount'] > mobile_cashback)"
   ]
  },
  {
   "cell_type": "code",
   "execution_count": 342,
   "metadata": {},
   "outputs": [],
   "source": [
    "## filling the missing value\n",
    "\n",
    "df_1.loc[mask_mobile_1, 'Tenure'] = df_1.loc[mask_mobile_1, 'Tenure'].fillna(mobile_fill_1)\n",
    "\n",
    "df_1.loc[mask_mobile_2, 'Tenure'] = df_1.loc[mask_mobile_2, 'Tenure'].fillna(mobile_fill_2)"
   ]
  },
  {
   "cell_type": "code",
   "execution_count": 343,
   "metadata": {},
   "outputs": [
    {
     "data": {
      "text/plain": [
       "43"
      ]
     },
     "execution_count": 343,
     "metadata": {},
     "output_type": "execute_result"
    }
   ],
   "source": [
    "## Check remaining number of missing value on Tenure in general\n",
    "\n",
    "df_1['Tenure'].isna().sum()"
   ]
  },
  {
   "cell_type": "markdown",
   "metadata": {},
   "source": [
    "We can see that the number of missing value has been reduced from 194 to 43."
   ]
  },
  {
   "cell_type": "markdown",
   "metadata": {},
   "source": [
    "### Prefered Ordet Category: **Laptop & Accessory**"
   ]
  },
  {
   "cell_type": "code",
   "execution_count": 344,
   "metadata": {},
   "outputs": [],
   "source": [
    "## create df for Laptop & Accessory category on PreferedOrderCat\n",
    "\n",
    "df_laptop = df_1[(df_1['PreferedOrderCat'] == 'Laptop & Accessory')]"
   ]
  },
  {
   "cell_type": "code",
   "execution_count": 345,
   "metadata": {},
   "outputs": [
    {
     "data": {
      "image/png": "[encoded data removed]",
      "text/plain": [
       "<Figure size 432x288 with 1 Axes>"
      ]
     },
     "metadata": {},
     "output_type": "display_data"
    }
   ],
   "source": [
    "## check distribution of Tenure on Laptop & Accessory PreferedOrderCat\n",
    "\n",
    "sns.histplot(df_laptop['Tenure'], kde=True)\n",
    "plt.show()"
   ]
  },
  {
   "cell_type": "markdown",
   "metadata": {},
   "source": [
    "We can see that from the plot, the 'Tenure' data on prefered Order Category on _laptop & Accessory_ is positvely skewed. So later we will use the median to impute the missing value."
   ]
  },
  {
   "cell_type": "code",
   "execution_count": 346,
   "metadata": {},
   "outputs": [
    {
     "name": "stdout",
     "output_type": "stream",
     "text": [
      "The average cashback amount is: 167.17026748971193\n"
     ]
    }
   ],
   "source": [
    "## find the average value of CashbackAmount on Laptop & Accessory category\n",
    "\n",
    "laptop_cashback = df_laptop['CashbackAmount'].mean()\n",
    "print(f'The average cashback amount is: {laptop_cashback}')"
   ]
  },
  {
   "cell_type": "code",
   "execution_count": 347,
   "metadata": {},
   "outputs": [
    {
     "name": "stdout",
     "output_type": "stream",
     "text": [
      "The median value for prefered order category on laptop & accessory and below average cashback amount is: 8.0 year Tenure\n"
     ]
    }
   ],
   "source": [
    "## find the median value of Tenure on below average cashback\n",
    "\n",
    "laptop_fill_1 = df_laptop[df_laptop['CashbackAmount'] < laptop_cashback]['Tenure'].median()\n",
    "print(f'The median value for prefered order category on laptop & accessory and below average cashback amount is: {laptop_fill_1} year Tenure')"
   ]
  },
  {
   "cell_type": "code",
   "execution_count": 348,
   "metadata": {},
   "outputs": [
    {
     "name": "stdout",
     "output_type": "stream",
     "text": [
      "The median value for prefered order category on laptop & accessory and above average cashback amount is: 9.0 year Tenure\n"
     ]
    }
   ],
   "source": [
    "## find the median value of Tenure on above average cashback\n",
    "\n",
    "laptop_fill_2 = df_laptop[df_laptop['CashbackAmount'] > laptop_cashback]['Tenure'].median()\n",
    "print(f'The median value for prefered order category on laptop & accessory and above average cashback amount is: {laptop_fill_2} year Tenure')"
   ]
  },
  {
   "cell_type": "markdown",
   "metadata": {},
   "source": [
    "From the analysis above, we can see that the tenure with below average cashback amount have the median value of **8 year** and **9 year** for the above average. Later we will impute the null value on 'Tenure' features that have prefered order category on _Laptop & Accessory_ with both of these median value."
   ]
  },
  {
   "cell_type": "code",
   "execution_count": 349,
   "metadata": {},
   "outputs": [
    {
     "data": {
      "text/plain": [
       "8"
      ]
     },
     "execution_count": 349,
     "metadata": {},
     "output_type": "execute_result"
    }
   ],
   "source": [
    "## Check total missing value on Tenure with 'Laptop & Accessory' Order Category\n",
    "\n",
    "df_1[df_1['PreferedOrderCat'] == 'Laptop & Accessory']['Tenure'].isna().sum()"
   ]
  },
  {
   "cell_type": "code",
   "execution_count": 350,
   "metadata": {},
   "outputs": [
    {
     "data": {
      "text/plain": [
       "43"
      ]
     },
     "execution_count": 350,
     "metadata": {},
     "output_type": "execute_result"
    }
   ],
   "source": [
    "## Check total missing value on Tenure in general\n",
    "\n",
    "df_1['Tenure'].isna().sum()"
   ]
  },
  {
   "cell_type": "code",
   "execution_count": 351,
   "metadata": {},
   "outputs": [],
   "source": [
    "## Create mask for Laptop & Accessory order cateogry with below and above average cashback\n",
    "\n",
    "mask_laptop_1 = (df_1['PreferedOrderCat'] == 'Laptop & Accessory') & (df_1['CashbackAmount'] < laptop_cashback)\n",
    "\n",
    "mask_laptop_2 = (df_1['PreferedOrderCat'] == 'Laptop & Accessory') & (df_1['CashbackAmount'] > laptop_cashback)"
   ]
  },
  {
   "cell_type": "code",
   "execution_count": 352,
   "metadata": {},
   "outputs": [],
   "source": [
    "## filling the missing value\n",
    "\n",
    "df_1.loc[mask_laptop_1, 'Tenure'] = df_1.loc[mask_laptop_1, 'Tenure'].fillna(laptop_fill_1)\n",
    "\n",
    "df_1.loc[mask_laptop_2, 'Tenure'] = df_1.loc[mask_laptop_2, 'Tenure'].fillna(laptop_fill_2)"
   ]
  },
  {
   "cell_type": "code",
   "execution_count": 353,
   "metadata": {},
   "outputs": [
    {
     "data": {
      "text/plain": [
       "0"
      ]
     },
     "execution_count": 353,
     "metadata": {},
     "output_type": "execute_result"
    }
   ],
   "source": [
    "## Check remaining number of missing value on Tenure in Laptop and Accessory\n",
    "\n",
    "df_1[df_1['PreferedOrderCat'] == 'Laptop & Accessory']['Tenure'].isna().sum()"
   ]
  },
  {
   "cell_type": "markdown",
   "metadata": {},
   "source": [
    "We can see that the missing value has been filled on laptop & accesory prefered order category. Lets proceed to fill the missing value on Mobile Phone category."
   ]
  },
  {
   "cell_type": "markdown",
   "metadata": {},
   "source": [
    "### Prefered Order Category: **Mobile Phone**"
   ]
  },
  {
   "cell_type": "code",
   "execution_count": 354,
   "metadata": {},
   "outputs": [],
   "source": [
    "## create df for Mobile Phone category on PreferedOrderCat\n",
    "\n",
    "df_phone = df_1[(df_1['PreferedOrderCat'] == 'Mobile Phone')]"
   ]
  },
  {
   "cell_type": "code",
   "execution_count": 355,
   "metadata": {},
   "outputs": [
    {
     "data": {
      "image/png": "[encoded data removed]",
      "text/plain": [
       "<Figure size 432x288 with 1 Axes>"
      ]
     },
     "metadata": {},
     "output_type": "display_data"
    }
   ],
   "source": [
    "## check distribution of Tenure on Mobile Phone PreferedOrderCat\n",
    "\n",
    "sns.histplot(df_phone['Tenure'], kde=True)\n",
    "plt.show()"
   ]
  },
  {
   "cell_type": "markdown",
   "metadata": {},
   "source": [
    "We can see that from the plot, the 'Tenure' data on prefered Order Category on _Mobile Phone_ is positvely skewed. So later we will use the median to impute the missing value."
   ]
  },
  {
   "cell_type": "code",
   "execution_count": 356,
   "metadata": {},
   "outputs": [
    {
     "name": "stdout",
     "output_type": "stream",
     "text": [
      "The average cashback amount is: 148.46444193912063\n"
     ]
    }
   ],
   "source": [
    "## find the average value of CashbackAmount on Mobile Phone category\n",
    "\n",
    "phone_cashback = df_phone['CashbackAmount'].mean()\n",
    "print(f'The average cashback amount is: {phone_cashback}')"
   ]
  },
  {
   "cell_type": "code",
   "execution_count": 357,
   "metadata": {},
   "outputs": [
    {
     "name": "stdout",
     "output_type": "stream",
     "text": [
      "The median value for prefered order category on mobile phone and below average cashback amount is: 2.0 year Tenure\n"
     ]
    }
   ],
   "source": [
    "## find the median value of Tenure on below average cashback\n",
    "\n",
    "phone_fill_1 = df_phone[df_phone['CashbackAmount'] < phone_cashback]['Tenure'].median()\n",
    "print(f'The median value for prefered order category on mobile phone and below average cashback amount is: {phone_fill_1} year Tenure')"
   ]
  },
  {
   "cell_type": "code",
   "execution_count": 358,
   "metadata": {},
   "outputs": [
    {
     "name": "stdout",
     "output_type": "stream",
     "text": [
      "The median value for prefered order category on mobile phone and above average cashback amount is: 4.0 year Tenure\n"
     ]
    }
   ],
   "source": [
    "## find the median value of Tenure on above average cashback\n",
    "\n",
    "phone_fill_2 = df_phone[df_phone['CashbackAmount'] > phone_cashback]['Tenure'].median()\n",
    "print(f'The median value for prefered order category on mobile phone and above average cashback amount is: {phone_fill_2} year Tenure')"
   ]
  },
  {
   "cell_type": "markdown",
   "metadata": {},
   "source": [
    "From the analysis above, we can see that the tenure with below average cashback amount have the median value of **2 year** and **4 year** for the above average. Later we will impute the null value on 'Tenure' features that have prefered order category on _Mobile Phone_ with both of these median value."
   ]
  },
  {
   "cell_type": "code",
   "execution_count": 359,
   "metadata": {},
   "outputs": [
    {
     "data": {
      "text/plain": [
       "35"
      ]
     },
     "execution_count": 359,
     "metadata": {},
     "output_type": "execute_result"
    }
   ],
   "source": [
    "## Checking total missing value with Mobile Phone order category\n",
    "\n",
    "df_1[df_1['PreferedOrderCat'] == 'Mobile Phone']['Tenure'].isna().sum()"
   ]
  },
  {
   "cell_type": "code",
   "execution_count": 360,
   "metadata": {},
   "outputs": [
    {
     "data": {
      "text/plain": [
       "35"
      ]
     },
     "execution_count": 360,
     "metadata": {},
     "output_type": "execute_result"
    }
   ],
   "source": [
    "## Check total missing value on Tenure in general\n",
    "\n",
    "df_1['Tenure'].isna().sum()"
   ]
  },
  {
   "cell_type": "markdown",
   "metadata": {},
   "source": [
    "We can see that now the amount of total missing value = amount of missing value in Tenure Mobile phone prefered order category. This means that if we fill the missing value correctly, the remaining missing value should be 0."
   ]
  },
  {
   "cell_type": "code",
   "execution_count": 361,
   "metadata": {},
   "outputs": [],
   "source": [
    "## Create mask for Mobile Phone order cateogry with below and above average cashback\n",
    "\n",
    "mask_phone_1 = (df_1['PreferedOrderCat'] == 'Mobile Phone') & (df_1['CashbackAmount'] < phone_cashback)\n",
    "\n",
    "mask_phone_2 = (df_1['PreferedOrderCat'] == 'Mobile Phone') & (df_1['CashbackAmount'] > phone_cashback)"
   ]
  },
  {
   "cell_type": "code",
   "execution_count": 362,
   "metadata": {},
   "outputs": [],
   "source": [
    "## filling the missing value\n",
    "\n",
    "df_1.loc[mask_phone_1, 'Tenure'] = df_1.loc[mask_phone_1, 'Tenure'].fillna(phone_fill_1)\n",
    "\n",
    "df_1.loc[mask_phone_2, 'Tenure'] = df_1.loc[mask_phone_2, 'Tenure'].fillna(phone_fill_2)"
   ]
  },
  {
   "cell_type": "code",
   "execution_count": 363,
   "metadata": {},
   "outputs": [
    {
     "data": {
      "text/plain": [
       "0"
      ]
     },
     "execution_count": 363,
     "metadata": {},
     "output_type": "execute_result"
    }
   ],
   "source": [
    "## Check remaining number of missing value on Tenure in Mobile Phone\n",
    "\n",
    "df_1[df_1['PreferedOrderCat'] == 'Mobile Phone']['Tenure'].isna().sum()"
   ]
  },
  {
   "cell_type": "code",
   "execution_count": 364,
   "metadata": {},
   "outputs": [
    {
     "data": {
      "text/plain": [
       "0"
      ]
     },
     "execution_count": 364,
     "metadata": {},
     "output_type": "execute_result"
    }
   ],
   "source": [
    "## Check remaining missing value on Tenure in General\n",
    "\n",
    "df_1['Tenure'].isna().sum()"
   ]
  },
  {
   "cell_type": "markdown",
   "metadata": {},
   "source": [
    "Now all of the missing value in 'Tenure' columns is filled. Let's proceed to fill the missing value on 'WarehouseToHome' columns."
   ]
  },
  {
   "cell_type": "markdown",
   "metadata": {},
   "source": [
    "**WarehouseToHome**"
   ]
  },
  {
   "cell_type": "markdown",
   "metadata": {},
   "source": [
    "First thing first, let's recheck the heatmap for the null value to find if there's a pattern between the remaining missing value."
   ]
  },
  {
   "cell_type": "code",
   "execution_count": 365,
   "metadata": {},
   "outputs": [
    {
     "data": {
      "image/png": "[encoded data removed]",
      "text/plain": [
       "<Figure size 576x504 with 1 Axes>"
      ]
     },
     "metadata": {},
     "output_type": "display_data"
    }
   ],
   "source": [
    "## Visualization of the missing value\n",
    "\n",
    "plt.figure(figsize=(8, 7))\n",
    "sns.heatmap(df_1.isna(), cmap='viridis', yticklabels=False, cbar=False)\n",
    "plt.show()"
   ]
  },
  {
   "cell_type": "markdown",
   "metadata": {},
   "source": [
    "From the heatmap, we can't recognize any particular pattern visible on the remaining missing value. Thus, we will investigate further by checking the correlation between 'WarehouseToHome' features to other features. If there are any features with a high correlation exist, we will impute the missing value on 'WarehouseToHome' features with the correlated feature(s)."
   ]
  },
  {
   "cell_type": "code",
   "execution_count": 366,
   "metadata": {},
   "outputs": [
    {
     "data": {
      "image/png": "[encoded data removed]",
      "text/plain": [
       "<Figure size 576x504 with 1 Axes>"
      ]
     },
     "metadata": {},
     "output_type": "display_data"
    }
   ],
   "source": [
    "## Checking correlation with numerical features\n",
    "\n",
    "plt.figure(figsize=(8, 7))\n",
    "sns.heatmap(df_1.corr(), cmap='viridis', cbar=False, annot=True)\n",
    "plt.show()"
   ]
  },
  {
   "cell_type": "markdown",
   "metadata": {},
   "source": [
    "From the correlation with numerical features, we can't see any strong correlation that exist between 'WarehouseToHome' features with the other features. Let's check the correlation with the categorical features."
   ]
  },
  {
   "cell_type": "code",
   "execution_count": 367,
   "metadata": {},
   "outputs": [
    {
     "data": {
      "image/png": "[encoded data removed]",
      "text/plain": [
       "<Figure size 1440x72 with 1 Axes>"
      ]
     },
     "metadata": {},
     "output_type": "display_data"
    }
   ],
   "source": [
    "## Calculating and visualizing the correlation ratio between 'WarehouseToHome' feature with categorical features\n",
    "\n",
    "cor_ratio = []\n",
    "\n",
    "for i in df.columns[df.dtypes == 'object']:\n",
    "    corr = round(correlation_ratio(df[i], df['WarehouseToHome']), 2)\n",
    "    cor_ratio.append(corr)\n",
    "\n",
    "df_cr_ratio = pd.DataFrame(data= [cor_ratio], columns=col, index=['WarehouseToHome'])\n",
    "\n",
    "plt.figure(figsize=(20,1))\n",
    "sns.heatmap(df_cr_ratio, annot=True, cbar=False)\n",
    "plt.show()"
   ]
  },
  {
   "cell_type": "markdown",
   "metadata": {},
   "source": [
    "With the categorical features, we also can't see any strong correlation exist between the features. Thus, for the 'WarehouseToHome' missing value, we will be using the simple imputer for filling the missing value, with mean/median/mode."
   ]
  },
  {
   "cell_type": "code",
   "execution_count": 368,
   "metadata": {},
   "outputs": [
    {
     "name": "stdout",
     "output_type": "stream",
     "text": [
      "The datatypes is: float64\n",
      "The unique values are: [ 29.  25.  13.  15.  16.  11.  12.   7.  26.  20.  14.   8.  21.  22.\n",
      "  27.  18.  33.   9.  17.  nan   6.  31.  28.  10.  19.  32.  23.  30.\n",
      "  35.  34.  24.   5.  36. 127.]\n"
     ]
    }
   ],
   "source": [
    "## Check datatypes and display unique value list\n",
    "\n",
    "print(format('The datatypes is:'), (df_1['WarehouseToHome'].dtypes))\n",
    "print(format('The unique values are:'), (df_1['WarehouseToHome'].unique()))\n"
   ]
  },
  {
   "cell_type": "markdown",
   "metadata": {},
   "source": [
    "The 'WarehouseToHome' features datatype is float and from the unique value we can see that it is a continous number. Thus we will use either mean/median for filling the missing value.\n",
    "\n",
    "Let's check the distribution to decide whether to use mean or median to filling the missing value."
   ]
  },
  {
   "cell_type": "code",
   "execution_count": 369,
   "metadata": {},
   "outputs": [
    {
     "data": {
      "image/png": "[encoded data removed]",
      "text/plain": [
       "<Figure size 432x288 with 1 Axes>"
      ]
     },
     "metadata": {},
     "output_type": "display_data"
    }
   ],
   "source": [
    "## Check distribution of WarehouseToHome\n",
    "\n",
    "sns.histplot(df_1['WarehouseToHome'], kde=True)\n",
    "plt.show()"
   ]
  },
  {
   "cell_type": "markdown",
   "metadata": {},
   "source": [
    "From the histogram, we can see that the 'WarehouseToHome' value is not normally distributed with quite a few outlier. So to fill the missing value, we will not use mean, but rather we will use median value."
   ]
  },
  {
   "cell_type": "code",
   "execution_count": 370,
   "metadata": {},
   "outputs": [
    {
     "name": "stdout",
     "output_type": "stream",
     "text": [
      "The median for the WareHouseToHome features is: 14.0\n"
     ]
    }
   ],
   "source": [
    "## find the median value of WarehouseToHome\n",
    "\n",
    "warehouse_med = df_1['WarehouseToHome'].median()\n",
    "\n",
    "print(f'The median for the WareHouseToHome features is: {warehouse_med}')"
   ]
  },
  {
   "cell_type": "code",
   "execution_count": 371,
   "metadata": {},
   "outputs": [],
   "source": [
    "## Filling the missing value for the 'WarehouseToHome' features with its median value.\n",
    "\n",
    "df_1['WarehouseToHome'].fillna(warehouse_med, inplace=True)"
   ]
  },
  {
   "cell_type": "code",
   "execution_count": 372,
   "metadata": {},
   "outputs": [
    {
     "data": {
      "text/plain": [
       "0"
      ]
     },
     "execution_count": 372,
     "metadata": {},
     "output_type": "execute_result"
    }
   ],
   "source": [
    "## Check number of missing value\n",
    "\n",
    "df_1['WarehouseToHome'].isna().sum()"
   ]
  },
  {
   "cell_type": "markdown",
   "metadata": {},
   "source": [
    "We can see that there are no more missing value exist in the column. Let's proceed to handling the missing value for the last column."
   ]
  },
  {
   "cell_type": "markdown",
   "metadata": {},
   "source": [
    "**DaySinceLastOrder**"
   ]
  },
  {
   "cell_type": "markdown",
   "metadata": {},
   "source": [
    "Same with before, let's check if the 'DaySinceLastOrder' features have any high correlation with other features for us to impute with."
   ]
  },
  {
   "cell_type": "code",
   "execution_count": 373,
   "metadata": {},
   "outputs": [
    {
     "data": {
      "image/png": "[encoded data removed]",
      "text/plain": [
       "<Figure size 576x504 with 1 Axes>"
      ]
     },
     "metadata": {},
     "output_type": "display_data"
    }
   ],
   "source": [
    "## Checking correlation with numerical features\n",
    "\n",
    "plt.figure(figsize=(8, 7))\n",
    "sns.heatmap(df.corr(), cmap='viridis', cbar=False, annot=True)\n",
    "plt.show()"
   ]
  },
  {
   "cell_type": "markdown",
   "metadata": {},
   "source": [
    "We can see there are no high correlation exist with the numerical features, with 'CashbackAmount' being the highest correlated features with 'DaySinceLastOrder' but it is still not close to 0.5 correlation value.\n",
    "\n",
    "Let's check the correlation with the categorical features."
   ]
  },
  {
   "cell_type": "code",
   "execution_count": 374,
   "metadata": {},
   "outputs": [
    {
     "data": {
      "image/png": "[encoded data removed]",
      "text/plain": [
       "<Figure size 1440x72 with 1 Axes>"
      ]
     },
     "metadata": {},
     "output_type": "display_data"
    }
   ],
   "source": [
    "## Calculating and visualizing the correlation ratio between 'DaySinceLastOrder' feature with categorical features\n",
    "\n",
    "cor_ratio = []\n",
    "\n",
    "for i in df.columns[df.dtypes == 'object']:\n",
    "    corr = round(correlation_ratio(df[i], df['DaySinceLastOrder']), 2)\n",
    "    cor_ratio.append(corr)\n",
    "\n",
    "df_cr_ratio = pd.DataFrame(data= [cor_ratio], columns=col, index=['DaySinceLastOrder'])\n",
    "\n",
    "plt.figure(figsize=(20,1))\n",
    "sns.heatmap(df_cr_ratio, annot=True, cbar=False)\n",
    "plt.show()"
   ]
  },
  {
   "cell_type": "markdown",
   "metadata": {},
   "source": [
    "We can also see that there are no strong correlation exist with the categorical features. Thus, we will impute the missing value using mean/median/mode."
   ]
  },
  {
   "cell_type": "code",
   "execution_count": 375,
   "metadata": {},
   "outputs": [
    {
     "name": "stdout",
     "output_type": "stream",
     "text": [
      "The datatypes is: float64\n",
      "The unique values are: [ 7. nan  8. 11.  2.  1.  4.  3.  6.  0. 14.  9. 10. 12.  5. 17. 30. 18.\n",
      " 16. 13. 15. 46. 31.]\n"
     ]
    }
   ],
   "source": [
    "## Check datatypes and display unique value list\n",
    "\n",
    "print(format('The datatypes is:'), (df_1['DaySinceLastOrder'].dtypes))\n",
    "print(format('The unique values are:'), (df_1['DaySinceLastOrder'].unique()))"
   ]
  },
  {
   "cell_type": "markdown",
   "metadata": {},
   "source": [
    "Eventhough we can see that the datatype and unique value are similar with continous variable, from the data we can see that the columns does not contain any decimal number. So we will treat this column as discrete numbers and use mode to fill the missing value."
   ]
  },
  {
   "cell_type": "code",
   "execution_count": 376,
   "metadata": {},
   "outputs": [
    {
     "name": "stdout",
     "output_type": "stream",
     "text": [
      "The mode for the DaySinceLastOrder features is: 3.0\n"
     ]
    }
   ],
   "source": [
    "## Find mode value of DaySinceLastOrder\n",
    "\n",
    "order_mode = df_1['DaySinceLastOrder'].mode()[0]\n",
    "\n",
    "print(f'The mode for the DaySinceLastOrder features is: {order_mode}')"
   ]
  },
  {
   "cell_type": "code",
   "execution_count": 377,
   "metadata": {},
   "outputs": [],
   "source": [
    "## Fill the missing value with mode\n",
    "\n",
    "df_1['DaySinceLastOrder'].fillna(order_mode, inplace=True)"
   ]
  },
  {
   "cell_type": "code",
   "execution_count": 378,
   "metadata": {},
   "outputs": [
    {
     "data": {
      "text/plain": [
       "0"
      ]
     },
     "execution_count": 378,
     "metadata": {},
     "output_type": "execute_result"
    }
   ],
   "source": [
    "## Checking missing value\n",
    "\n",
    "df_1['DaySinceLastOrder'].isnull().sum()"
   ]
  },
  {
   "cell_type": "code",
   "execution_count": 379,
   "metadata": {},
   "outputs": [
    {
     "data": {
      "text/plain": [
       "Tenure                      0\n",
       "WarehouseToHome             0\n",
       "NumberOfDeviceRegistered    0\n",
       "PreferedOrderCat            0\n",
       "SatisfactionScore           0\n",
       "MaritalStatus               0\n",
       "NumberOfAddress             0\n",
       "Complain                    0\n",
       "DaySinceLastOrder           0\n",
       "CashbackAmount              0\n",
       "Churn                       0\n",
       "dtype: int64"
      ]
     },
     "execution_count": 379,
     "metadata": {},
     "output_type": "execute_result"
    }
   ],
   "source": [
    "## Check if there are anymore missing value exist in the dataframe\n",
    "\n",
    "df_1.isna().sum()"
   ]
  },
  {
   "cell_type": "markdown",
   "metadata": {},
   "source": [
    "We can see that there are no more missing values in the dataset. Now let's check how our dataset looks like after we handled the missing value"
   ]
  },
  {
   "cell_type": "code",
   "execution_count": 380,
   "metadata": {},
   "outputs": [
    {
     "name": "stdout",
     "output_type": "stream",
     "text": [
      "<class 'pandas.core.frame.DataFrame'>\n",
      "RangeIndex: 3941 entries, 0 to 3940\n",
      "Data columns (total 11 columns):\n",
      " #   Column                    Non-Null Count  Dtype  \n",
      "---  ------                    --------------  -----  \n",
      " 0   Tenure                    3941 non-null   float64\n",
      " 1   WarehouseToHome           3941 non-null   float64\n",
      " 2   NumberOfDeviceRegistered  3941 non-null   int64  \n",
      " 3   PreferedOrderCat          3941 non-null   object \n",
      " 4   SatisfactionScore         3941 non-null   int64  \n",
      " 5   MaritalStatus             3941 non-null   object \n",
      " 6   NumberOfAddress           3941 non-null   int64  \n",
      " 7   Complain                  3941 non-null   int64  \n",
      " 8   DaySinceLastOrder         3941 non-null   float64\n",
      " 9   CashbackAmount            3941 non-null   float64\n",
      " 10  Churn                     3941 non-null   int64  \n",
      "dtypes: float64(4), int64(5), object(2)\n",
      "memory usage: 338.8+ KB\n"
     ]
    },
    {
     "data": {
      "text/html": [
       "<div>\n",
       "<style scoped>\n",
       "    .dataframe tbody tr th:only-of-type {\n",
       "        vertical-align: middle;\n",
       "    }\n",
       "\n",
       "    .dataframe tbody tr th {\n",
       "        vertical-align: top;\n",
       "    }\n",
       "\n",
       "    .dataframe thead th {\n",
       "        text-align: right;\n",
       "    }\n",
       "</style>\n",
       "<table border=\"1\" class=\"dataframe\">\n",
       "  <thead>\n",
       "    <tr style=\"text-align: right;\">\n",
       "      <th></th>\n",
       "      <th>Tenure</th>\n",
       "      <th>WarehouseToHome</th>\n",
       "      <th>NumberOfDeviceRegistered</th>\n",
       "      <th>SatisfactionScore</th>\n",
       "      <th>NumberOfAddress</th>\n",
       "      <th>Complain</th>\n",
       "      <th>DaySinceLastOrder</th>\n",
       "      <th>CashbackAmount</th>\n",
       "      <th>Churn</th>\n",
       "    </tr>\n",
       "  </thead>\n",
       "  <tbody>\n",
       "    <tr>\n",
       "      <th>count</th>\n",
       "      <td>3941.000000</td>\n",
       "      <td>3941.000000</td>\n",
       "      <td>3941.000000</td>\n",
       "      <td>3941.000000</td>\n",
       "      <td>3941.000000</td>\n",
       "      <td>3941.000000</td>\n",
       "      <td>3941.000000</td>\n",
       "      <td>3941.000000</td>\n",
       "      <td>3941.000000</td>\n",
       "    </tr>\n",
       "    <tr>\n",
       "      <th>mean</th>\n",
       "      <td>9.695762</td>\n",
       "      <td>15.579802</td>\n",
       "      <td>3.679269</td>\n",
       "      <td>3.088302</td>\n",
       "      <td>4.237757</td>\n",
       "      <td>0.282416</td>\n",
       "      <td>4.448871</td>\n",
       "      <td>176.707419</td>\n",
       "      <td>0.171023</td>\n",
       "    </tr>\n",
       "    <tr>\n",
       "      <th>std</th>\n",
       "      <td>8.462701</td>\n",
       "      <td>8.275800</td>\n",
       "      <td>1.013938</td>\n",
       "      <td>1.381832</td>\n",
       "      <td>2.626699</td>\n",
       "      <td>0.450232</td>\n",
       "      <td>3.583909</td>\n",
       "      <td>48.791784</td>\n",
       "      <td>0.376576</td>\n",
       "    </tr>\n",
       "    <tr>\n",
       "      <th>min</th>\n",
       "      <td>0.000000</td>\n",
       "      <td>5.000000</td>\n",
       "      <td>1.000000</td>\n",
       "      <td>1.000000</td>\n",
       "      <td>1.000000</td>\n",
       "      <td>0.000000</td>\n",
       "      <td>0.000000</td>\n",
       "      <td>0.000000</td>\n",
       "      <td>0.000000</td>\n",
       "    </tr>\n",
       "    <tr>\n",
       "      <th>25%</th>\n",
       "      <td>2.000000</td>\n",
       "      <td>9.000000</td>\n",
       "      <td>3.000000</td>\n",
       "      <td>2.000000</td>\n",
       "      <td>2.000000</td>\n",
       "      <td>0.000000</td>\n",
       "      <td>2.000000</td>\n",
       "      <td>145.700000</td>\n",
       "      <td>0.000000</td>\n",
       "    </tr>\n",
       "    <tr>\n",
       "      <th>50%</th>\n",
       "      <td>8.000000</td>\n",
       "      <td>14.000000</td>\n",
       "      <td>4.000000</td>\n",
       "      <td>3.000000</td>\n",
       "      <td>3.000000</td>\n",
       "      <td>0.000000</td>\n",
       "      <td>3.000000</td>\n",
       "      <td>163.340000</td>\n",
       "      <td>0.000000</td>\n",
       "    </tr>\n",
       "    <tr>\n",
       "      <th>75%</th>\n",
       "      <td>15.000000</td>\n",
       "      <td>20.000000</td>\n",
       "      <td>4.000000</td>\n",
       "      <td>4.000000</td>\n",
       "      <td>6.000000</td>\n",
       "      <td>1.000000</td>\n",
       "      <td>7.000000</td>\n",
       "      <td>195.250000</td>\n",
       "      <td>0.000000</td>\n",
       "    </tr>\n",
       "    <tr>\n",
       "      <th>max</th>\n",
       "      <td>61.000000</td>\n",
       "      <td>127.000000</td>\n",
       "      <td>6.000000</td>\n",
       "      <td>5.000000</td>\n",
       "      <td>22.000000</td>\n",
       "      <td>1.000000</td>\n",
       "      <td>46.000000</td>\n",
       "      <td>324.990000</td>\n",
       "      <td>1.000000</td>\n",
       "    </tr>\n",
       "  </tbody>\n",
       "</table>\n",
       "</div>"
      ],
      "text/plain": [
       "            Tenure  WarehouseToHome  NumberOfDeviceRegistered  \\\n",
       "count  3941.000000      3941.000000               3941.000000   \n",
       "mean      9.695762        15.579802                  3.679269   \n",
       "std       8.462701         8.275800                  1.013938   \n",
       "min       0.000000         5.000000                  1.000000   \n",
       "25%       2.000000         9.000000                  3.000000   \n",
       "50%       8.000000        14.000000                  4.000000   \n",
       "75%      15.000000        20.000000                  4.000000   \n",
       "max      61.000000       127.000000                  6.000000   \n",
       "\n",
       "       SatisfactionScore  NumberOfAddress     Complain  DaySinceLastOrder  \\\n",
       "count        3941.000000      3941.000000  3941.000000        3941.000000   \n",
       "mean            3.088302         4.237757     0.282416           4.448871   \n",
       "std             1.381832         2.626699     0.450232           3.583909   \n",
       "min             1.000000         1.000000     0.000000           0.000000   \n",
       "25%             2.000000         2.000000     0.000000           2.000000   \n",
       "50%             3.000000         3.000000     0.000000           3.000000   \n",
       "75%             4.000000         6.000000     1.000000           7.000000   \n",
       "max             5.000000        22.000000     1.000000          46.000000   \n",
       "\n",
       "       CashbackAmount        Churn  \n",
       "count     3941.000000  3941.000000  \n",
       "mean       176.707419     0.171023  \n",
       "std         48.791784     0.376576  \n",
       "min          0.000000     0.000000  \n",
       "25%        145.700000     0.000000  \n",
       "50%        163.340000     0.000000  \n",
       "75%        195.250000     0.000000  \n",
       "max        324.990000     1.000000  "
      ]
     },
     "metadata": {},
     "output_type": "display_data"
    },
    {
     "data": {
      "text/html": [
       "<div>\n",
       "<style scoped>\n",
       "    .dataframe tbody tr th:only-of-type {\n",
       "        vertical-align: middle;\n",
       "    }\n",
       "\n",
       "    .dataframe tbody tr th {\n",
       "        vertical-align: top;\n",
       "    }\n",
       "\n",
       "    .dataframe thead th {\n",
       "        text-align: right;\n",
       "    }\n",
       "</style>\n",
       "<table border=\"1\" class=\"dataframe\">\n",
       "  <thead>\n",
       "    <tr style=\"text-align: right;\">\n",
       "      <th></th>\n",
       "      <th>PreferedOrderCat</th>\n",
       "      <th>MaritalStatus</th>\n",
       "    </tr>\n",
       "  </thead>\n",
       "  <tbody>\n",
       "    <tr>\n",
       "      <th>count</th>\n",
       "      <td>3941</td>\n",
       "      <td>3941</td>\n",
       "    </tr>\n",
       "    <tr>\n",
       "      <th>unique</th>\n",
       "      <td>6</td>\n",
       "      <td>3</td>\n",
       "    </tr>\n",
       "    <tr>\n",
       "      <th>top</th>\n",
       "      <td>Laptop &amp; Accessory</td>\n",
       "      <td>Married</td>\n",
       "    </tr>\n",
       "    <tr>\n",
       "      <th>freq</th>\n",
       "      <td>1458</td>\n",
       "      <td>2055</td>\n",
       "    </tr>\n",
       "  </tbody>\n",
       "</table>\n",
       "</div>"
      ],
      "text/plain": [
       "          PreferedOrderCat MaritalStatus\n",
       "count                 3941          3941\n",
       "unique                   6             3\n",
       "top     Laptop & Accessory       Married\n",
       "freq                  1458          2055"
      ]
     },
     "metadata": {},
     "output_type": "display_data"
    },
    {
     "data": {
      "text/plain": [
       "None"
      ]
     },
     "metadata": {},
     "output_type": "display_data"
    }
   ],
   "source": [
    "## Check the final descriptive statistics for the dataset\n",
    "\n",
    "display(df_1.describe(), df_1.describe(include='O'), df_1.info())"
   ]
  },
  {
   "cell_type": "markdown",
   "metadata": {},
   "source": [
    "If we fill the missing value correctly, the descriptive statistics of 'Tenure', 'WarehouseToHome', and 'DaySinceLastOrder' columns should not change significantly.\n",
    "\n",
    "we can see that the 'Tenure', 'WarehouseToHome', and 'DaySinceLastOrder' columns descriptive statistics has change slightly on the mean, standard deviation, and it's quartiles as we expect, and no major changes in the descriptive statistics.\n",
    "\n",
    "Let's now proceed to feature selection steps."
   ]
  },
  {
   "cell_type": "markdown",
   "metadata": {},
   "source": [
    "## **Feature Selection**"
   ]
  },
  {
   "cell_type": "markdown",
   "metadata": {},
   "source": [
    "For our feature selection process, we will use the spearman correlation to choose which features we will be selecting. We will drop the features with low correlation with target, and drop features that have a really high correlation with the target. "
   ]
  },
  {
   "cell_type": "code",
   "execution_count": 381,
   "metadata": {},
   "outputs": [
    {
     "data": {
      "image/png": "[encoded data removed]",
      "text/plain": [
       "<Figure size 576x504 with 1 Axes>"
      ]
     },
     "metadata": {},
     "output_type": "display_data"
    }
   ],
   "source": [
    "## Checking correlation with numerical features\n",
    "\n",
    "plt.figure(figsize=(8, 7))\n",
    "sns.heatmap(df.corr('spearman'), cmap='viridis', cbar=False, annot=True)\n",
    "plt.show()"
   ]
  },
  {
   "cell_type": "code",
   "execution_count": 382,
   "metadata": {},
   "outputs": [
    {
     "data": {
      "image/png": "[encoded data removed]",
      "text/plain": [
       "<Figure size 1440x72 with 1 Axes>"
      ]
     },
     "metadata": {},
     "output_type": "display_data"
    }
   ],
   "source": [
    "## Calculating and visualizing the correlation ratio between target and categorical features\n",
    "\n",
    "cor_ratio = []\n",
    "\n",
    "for i in df.columns[df.dtypes == 'object']:\n",
    "    corr = round(correlation_ratio(df[i], df['Churn']), 2)\n",
    "    cor_ratio.append(corr)\n",
    "\n",
    "df_cr_ratio = pd.DataFrame(data= [cor_ratio], columns=col, index=['Churn'])\n",
    "\n",
    "plt.figure(figsize=(20,1))\n",
    "sns.heatmap(df_cr_ratio, annot=True, cbar=False)\n",
    "plt.show()"
   ]
  },
  {
   "cell_type": "markdown",
   "metadata": {},
   "source": [
    "From the heatmap, we can see that 'Tenure' feature have the highest correlation (-0.42) with the target and 'WarehouseToHome' have the lowest correlation (0.075). However, we will not drop any features due to the features are already pre-selected from the source. And to avoid an underfit model, we will be using all the features that are available."
   ]
  },
  {
   "cell_type": "markdown",
   "metadata": {},
   "source": [
    "Let's now proceed to develop our pipeline for our model."
   ]
  },
  {
   "cell_type": "markdown",
   "metadata": {},
   "source": [
    "## **Pipeline Preprocessing**"
   ]
  },
  {
   "cell_type": "markdown",
   "metadata": {},
   "source": [
    "**Splitting Dataset**"
   ]
  },
  {
   "cell_type": "code",
   "execution_count": 383,
   "metadata": {},
   "outputs": [],
   "source": [
    "X = df_1.drop(columns='Churn') ## X variables (features)\n",
    "y = df_1['Churn'] ## Target/Labels"
   ]
  },
  {
   "cell_type": "code",
   "execution_count": 384,
   "metadata": {},
   "outputs": [],
   "source": [
    "## Split X and Y variable into training and testing\n",
    "\n",
    "X_train, X_test, y_train, y_test = train_test_split(X, y, stratify=y, test_size = .20, random_state=666)"
   ]
  },
  {
   "cell_type": "markdown",
   "metadata": {},
   "source": [
    "**Features Encoding**\n",
    "\n",
    "- PreferedOrderCat: We will encode the `PreferedOrderCat` features with One Hot Encoding (OHE) because the features does not have an order and only have 6 unique values.  \n",
    "- MaritalStatus > We will also encode the `MaritalStatus` features with One Hot Encoding (OHE) because the features also does not have an order and only have 3 unique values."
   ]
  },
  {
   "cell_type": "code",
   "execution_count": 385,
   "metadata": {},
   "outputs": [],
   "source": [
    "## Create categorical column list\n",
    "\n",
    "cat_columns = ['PreferedOrderCat', 'MaritalStatus'] ## Create List for categorical features"
   ]
  },
  {
   "cell_type": "code",
   "execution_count": 386,
   "metadata": {},
   "outputs": [],
   "source": [
    "## Create pipeline for encoding categorical features\n",
    "\n",
    "categoric_pipeline = Pipeline([\n",
    "    ('encoder', OneHotEncoder(drop='first')),\n",
    "])"
   ]
  },
  {
   "cell_type": "code",
   "execution_count": 387,
   "metadata": {},
   "outputs": [],
   "source": [
    "## Create pipeline for transforming the categorical features with encoding pipeline\n",
    "\n",
    "preprocessor = ColumnTransformer([\n",
    "    ('categoric', categoric_pipeline, cat_columns)\n",
    "], remainder='passthrough')"
   ]
  },
  {
   "cell_type": "markdown",
   "metadata": {},
   "source": [
    "## **Base Modelling & Model Evaluation**"
   ]
  },
  {
   "cell_type": "code",
   "execution_count": 388,
   "metadata": {},
   "outputs": [],
   "source": [
    "## Define algorithm that will be use\n",
    "\n",
    "model_LogReg = LogisticRegression()\n",
    "model_KNN = KNeighborsClassifier()\n",
    "model_DT = DecisionTreeClassifier()\n",
    "model_RF = RandomForestClassifier()\n",
    "model_XGB = XGBClassifier()"
   ]
  },
  {
   "cell_type": "markdown",
   "metadata": {},
   "source": [
    "### **Model Benchmarking**"
   ]
  },
  {
   "cell_type": "code",
   "execution_count": 389,
   "metadata": {},
   "outputs": [],
   "source": [
    "## Create pipeline for each algorithm\n",
    "\n",
    "PipeLine_LogReg = Pipeline([\n",
    "    ('preprocess', preprocessor),\n",
    "    ('algorithm', model_LogReg)\n",
    "]) \n",
    "\n",
    "PipeLine_KNN = Pipeline([\n",
    "    ('preprocess', preprocessor),\n",
    "    ('algorithm', model_KNN)\n",
    "])    \n",
    "\n",
    "PipeLine_DT = Pipeline([\n",
    "    ('preprocess', preprocessor),\n",
    "    ('algorithm', model_DT)\n",
    "])    \n",
    "\n",
    "PipeLine_RF = Pipeline([\n",
    "    ('preprocess', preprocessor),\n",
    "    ('algorithm', model_RF)\n",
    "])    \n",
    "\n",
    "PipeLine_XGB = Pipeline([\n",
    "    ('preprocess', preprocessor),\n",
    "    ('algorithm', model_XGB)\n",
    "])"
   ]
  },
  {
   "cell_type": "code",
   "execution_count": 390,
   "metadata": {},
   "outputs": [],
   "source": [
    "## Create def for cross validation\n",
    "\n",
    "def Cross_Val(pipe, X, y, Nama):\n",
    "    kf = KFold(n_splits=5)\n",
    "    cv_acc = cross_val_score(pipe, X, y, cv = kf, scoring='accuracy')\n",
    "    cv_prec = cross_val_score(pipe, X, y, cv = kf, scoring='precision')\n",
    "    cv_rec = cross_val_score(pipe, X, y, cv = kf, scoring='recall')\n",
    "    cv_f1 = cross_val_score(pipe, X, y, cv = kf, scoring='f1')\n",
    "    data = {\n",
    "        Nama + \" CV (Mean)\" : [cv_acc.mean(), cv_prec.mean(), cv_rec.mean(), cv_f1.mean()]\n",
    "    }\n",
    "    df = pd.DataFrame(data, index = [\"Accuracy\", \"Precision\", \"Recall\", \"F1\"])\n",
    "    return df"
   ]
  },
  {
   "cell_type": "code",
   "execution_count": 391,
   "metadata": {},
   "outputs": [],
   "source": [
    "## Training Data"
   ]
  },
  {
   "cell_type": "code",
   "execution_count": 392,
   "metadata": {},
   "outputs": [
    {
     "data": {
      "text/html": [
       "<div>\n",
       "<style scoped>\n",
       "    .dataframe tbody tr th:only-of-type {\n",
       "        vertical-align: middle;\n",
       "    }\n",
       "\n",
       "    .dataframe tbody tr th {\n",
       "        vertical-align: top;\n",
       "    }\n",
       "\n",
       "    .dataframe thead th {\n",
       "        text-align: right;\n",
       "    }\n",
       "</style>\n",
       "<table border=\"1\" class=\"dataframe\">\n",
       "  <thead>\n",
       "    <tr style=\"text-align: right;\">\n",
       "      <th></th>\n",
       "      <th>LogReg Training CV (Mean)</th>\n",
       "    </tr>\n",
       "  </thead>\n",
       "  <tbody>\n",
       "    <tr>\n",
       "      <th>Accuracy</th>\n",
       "      <td>0.883565</td>\n",
       "    </tr>\n",
       "    <tr>\n",
       "      <th>Precision</th>\n",
       "      <td>0.733460</td>\n",
       "    </tr>\n",
       "    <tr>\n",
       "      <th>Recall</th>\n",
       "      <td>0.503352</td>\n",
       "    </tr>\n",
       "    <tr>\n",
       "      <th>F1</th>\n",
       "      <td>0.596202</td>\n",
       "    </tr>\n",
       "  </tbody>\n",
       "</table>\n",
       "</div>"
      ],
      "text/plain": [
       "           LogReg Training CV (Mean)\n",
       "Accuracy                    0.883565\n",
       "Precision                   0.733460\n",
       "Recall                      0.503352\n",
       "F1                          0.596202"
      ]
     },
     "execution_count": 392,
     "metadata": {},
     "output_type": "execute_result"
    }
   ],
   "source": [
    "## Cross validation for Logistic Regression algorithm with Training Data\n",
    "\n",
    "cv_LogReg_tr = Cross_Val(PipeLine_LogReg, X_train, y_train, 'LogReg Training')\n",
    "cv_LogReg_tr"
   ]
  },
  {
   "cell_type": "code",
   "execution_count": 393,
   "metadata": {},
   "outputs": [
    {
     "data": {
      "text/html": [
       "<div>\n",
       "<style scoped>\n",
       "    .dataframe tbody tr th:only-of-type {\n",
       "        vertical-align: middle;\n",
       "    }\n",
       "\n",
       "    .dataframe tbody tr th {\n",
       "        vertical-align: top;\n",
       "    }\n",
       "\n",
       "    .dataframe thead th {\n",
       "        text-align: right;\n",
       "    }\n",
       "</style>\n",
       "<table border=\"1\" class=\"dataframe\">\n",
       "  <thead>\n",
       "    <tr style=\"text-align: right;\">\n",
       "      <th></th>\n",
       "      <th>KNN Training CV (Mean)</th>\n",
       "    </tr>\n",
       "  </thead>\n",
       "  <tbody>\n",
       "    <tr>\n",
       "      <th>Accuracy</th>\n",
       "      <td>0.851840</td>\n",
       "    </tr>\n",
       "    <tr>\n",
       "      <th>Precision</th>\n",
       "      <td>0.597490</td>\n",
       "    </tr>\n",
       "    <tr>\n",
       "      <th>Recall</th>\n",
       "      <td>0.404642</td>\n",
       "    </tr>\n",
       "    <tr>\n",
       "      <th>F1</th>\n",
       "      <td>0.482060</td>\n",
       "    </tr>\n",
       "  </tbody>\n",
       "</table>\n",
       "</div>"
      ],
      "text/plain": [
       "           KNN Training CV (Mean)\n",
       "Accuracy                 0.851840\n",
       "Precision                0.597490\n",
       "Recall                   0.404642\n",
       "F1                       0.482060"
      ]
     },
     "execution_count": 393,
     "metadata": {},
     "output_type": "execute_result"
    }
   ],
   "source": [
    "## Cross validation for KNN algorithm with Training Data\n",
    "\n",
    "cv_KNN_tr = Cross_Val(PipeLine_KNN, X_train, y_train, 'KNN Training')\n",
    "cv_KNN_tr"
   ]
  },
  {
   "cell_type": "code",
   "execution_count": 394,
   "metadata": {},
   "outputs": [
    {
     "data": {
      "text/html": [
       "<div>\n",
       "<style scoped>\n",
       "    .dataframe tbody tr th:only-of-type {\n",
       "        vertical-align: middle;\n",
       "    }\n",
       "\n",
       "    .dataframe tbody tr th {\n",
       "        vertical-align: top;\n",
       "    }\n",
       "\n",
       "    .dataframe thead th {\n",
       "        text-align: right;\n",
       "    }\n",
       "</style>\n",
       "<table border=\"1\" class=\"dataframe\">\n",
       "  <thead>\n",
       "    <tr style=\"text-align: right;\">\n",
       "      <th></th>\n",
       "      <th>DT Training CV (Mean)</th>\n",
       "    </tr>\n",
       "  </thead>\n",
       "  <tbody>\n",
       "    <tr>\n",
       "      <th>Accuracy</th>\n",
       "      <td>0.912431</td>\n",
       "    </tr>\n",
       "    <tr>\n",
       "      <th>Precision</th>\n",
       "      <td>0.746238</td>\n",
       "    </tr>\n",
       "    <tr>\n",
       "      <th>Recall</th>\n",
       "      <td>0.760452</td>\n",
       "    </tr>\n",
       "    <tr>\n",
       "      <th>F1</th>\n",
       "      <td>0.740057</td>\n",
       "    </tr>\n",
       "  </tbody>\n",
       "</table>\n",
       "</div>"
      ],
      "text/plain": [
       "           DT Training CV (Mean)\n",
       "Accuracy                0.912431\n",
       "Precision               0.746238\n",
       "Recall                  0.760452\n",
       "F1                      0.740057"
      ]
     },
     "execution_count": 394,
     "metadata": {},
     "output_type": "execute_result"
    }
   ],
   "source": [
    "## Cross validation for Decision Tree algorithm with Training Data\n",
    "\n",
    "cv_DT_tr = Cross_Val(PipeLine_DT, X_train, y_train, 'DT Training')\n",
    "cv_DT_tr"
   ]
  },
  {
   "cell_type": "code",
   "execution_count": 395,
   "metadata": {},
   "outputs": [
    {
     "data": {
      "text/html": [
       "<div>\n",
       "<style scoped>\n",
       "    .dataframe tbody tr th:only-of-type {\n",
       "        vertical-align: middle;\n",
       "    }\n",
       "\n",
       "    .dataframe tbody tr th {\n",
       "        vertical-align: top;\n",
       "    }\n",
       "\n",
       "    .dataframe thead th {\n",
       "        text-align: right;\n",
       "    }\n",
       "</style>\n",
       "<table border=\"1\" class=\"dataframe\">\n",
       "  <thead>\n",
       "    <tr style=\"text-align: right;\">\n",
       "      <th></th>\n",
       "      <th>RF Training CV (Mean)</th>\n",
       "    </tr>\n",
       "  </thead>\n",
       "  <tbody>\n",
       "    <tr>\n",
       "      <th>Accuracy</th>\n",
       "      <td>0.930832</td>\n",
       "    </tr>\n",
       "    <tr>\n",
       "      <th>Precision</th>\n",
       "      <td>0.861471</td>\n",
       "    </tr>\n",
       "    <tr>\n",
       "      <th>Recall</th>\n",
       "      <td>0.704442</td>\n",
       "    </tr>\n",
       "    <tr>\n",
       "      <th>F1</th>\n",
       "      <td>0.775573</td>\n",
       "    </tr>\n",
       "  </tbody>\n",
       "</table>\n",
       "</div>"
      ],
      "text/plain": [
       "           RF Training CV (Mean)\n",
       "Accuracy                0.930832\n",
       "Precision               0.861471\n",
       "Recall                  0.704442\n",
       "F1                      0.775573"
      ]
     },
     "execution_count": 395,
     "metadata": {},
     "output_type": "execute_result"
    }
   ],
   "source": [
    "## Cross validation for Random Forest algorithm with Training Data\n",
    "\n",
    "cv_RF_tr = Cross_Val(PipeLine_RF, X_train, y_train, 'RF Training')\n",
    "cv_RF_tr"
   ]
  },
  {
   "cell_type": "code",
   "execution_count": 396,
   "metadata": {},
   "outputs": [
    {
     "data": {
      "text/html": [
       "<div>\n",
       "<style scoped>\n",
       "    .dataframe tbody tr th:only-of-type {\n",
       "        vertical-align: middle;\n",
       "    }\n",
       "\n",
       "    .dataframe tbody tr th {\n",
       "        vertical-align: top;\n",
       "    }\n",
       "\n",
       "    .dataframe thead th {\n",
       "        text-align: right;\n",
       "    }\n",
       "</style>\n",
       "<table border=\"1\" class=\"dataframe\">\n",
       "  <thead>\n",
       "    <tr style=\"text-align: right;\">\n",
       "      <th></th>\n",
       "      <th>XGB Training CV (Mean)</th>\n",
       "    </tr>\n",
       "  </thead>\n",
       "  <tbody>\n",
       "    <tr>\n",
       "      <th>Accuracy</th>\n",
       "      <td>0.936864</td>\n",
       "    </tr>\n",
       "    <tr>\n",
       "      <th>Precision</th>\n",
       "      <td>0.850840</td>\n",
       "    </tr>\n",
       "    <tr>\n",
       "      <th>Recall</th>\n",
       "      <td>0.769531</td>\n",
       "    </tr>\n",
       "    <tr>\n",
       "      <th>F1</th>\n",
       "      <td>0.807345</td>\n",
       "    </tr>\n",
       "  </tbody>\n",
       "</table>\n",
       "</div>"
      ],
      "text/plain": [
       "           XGB Training CV (Mean)\n",
       "Accuracy                 0.936864\n",
       "Precision                0.850840\n",
       "Recall                   0.769531\n",
       "F1                       0.807345"
      ]
     },
     "execution_count": 396,
     "metadata": {},
     "output_type": "execute_result"
    }
   ],
   "source": [
    "## Cross validation for XGBoost algorithm with Training Data\n",
    "\n",
    "cv_XGB_tr = Cross_Val(PipeLine_XGB, X_train, y_train, 'XGB Training')\n",
    "cv_XGB_tr"
   ]
  },
  {
   "cell_type": "code",
   "execution_count": 397,
   "metadata": {},
   "outputs": [
    {
     "data": {
      "text/html": [
       "<div>\n",
       "<style scoped>\n",
       "    .dataframe tbody tr th:only-of-type {\n",
       "        vertical-align: middle;\n",
       "    }\n",
       "\n",
       "    .dataframe tbody tr th {\n",
       "        vertical-align: top;\n",
       "    }\n",
       "\n",
       "    .dataframe thead th {\n",
       "        text-align: right;\n",
       "    }\n",
       "</style>\n",
       "<table border=\"1\" class=\"dataframe\">\n",
       "  <thead>\n",
       "    <tr style=\"text-align: right;\">\n",
       "      <th></th>\n",
       "      <th>Accuracy</th>\n",
       "      <th>Precision</th>\n",
       "      <th>Recall</th>\n",
       "      <th>F1</th>\n",
       "    </tr>\n",
       "  </thead>\n",
       "  <tbody>\n",
       "    <tr>\n",
       "      <th>LogReg Training CV (Mean)</th>\n",
       "      <td>0.883565</td>\n",
       "      <td>0.733460</td>\n",
       "      <td>0.503352</td>\n",
       "      <td>0.596202</td>\n",
       "    </tr>\n",
       "    <tr>\n",
       "      <th>KNN Training CV (Mean)</th>\n",
       "      <td>0.851840</td>\n",
       "      <td>0.597490</td>\n",
       "      <td>0.404642</td>\n",
       "      <td>0.482060</td>\n",
       "    </tr>\n",
       "    <tr>\n",
       "      <th>DT Training CV (Mean)</th>\n",
       "      <td>0.912431</td>\n",
       "      <td>0.746238</td>\n",
       "      <td>0.760452</td>\n",
       "      <td>0.740057</td>\n",
       "    </tr>\n",
       "    <tr>\n",
       "      <th>RF Training CV (Mean)</th>\n",
       "      <td>0.930832</td>\n",
       "      <td>0.861471</td>\n",
       "      <td>0.704442</td>\n",
       "      <td>0.775573</td>\n",
       "    </tr>\n",
       "    <tr>\n",
       "      <th>XGB Training CV (Mean)</th>\n",
       "      <td>0.936864</td>\n",
       "      <td>0.850840</td>\n",
       "      <td>0.769531</td>\n",
       "      <td>0.807345</td>\n",
       "    </tr>\n",
       "  </tbody>\n",
       "</table>\n",
       "</div>"
      ],
      "text/plain": [
       "                           Accuracy  Precision    Recall        F1\n",
       "LogReg Training CV (Mean)  0.883565   0.733460  0.503352  0.596202\n",
       "KNN Training CV (Mean)     0.851840   0.597490  0.404642  0.482060\n",
       "DT Training CV (Mean)      0.912431   0.746238  0.760452  0.740057\n",
       "RF Training CV (Mean)      0.930832   0.861471  0.704442  0.775573\n",
       "XGB Training CV (Mean)     0.936864   0.850840  0.769531  0.807345"
      ]
     },
     "execution_count": 397,
     "metadata": {},
     "output_type": "execute_result"
    }
   ],
   "source": [
    "## Combining training cross validation result from each algorithm\n",
    "\n",
    "pd.concat([cv_LogReg_tr, cv_KNN_tr, cv_DT_tr, cv_RF_tr, cv_XGB_tr], axis=1).T"
   ]
  },
  {
   "cell_type": "markdown",
   "metadata": {},
   "source": [
    "Based on the cross validation F1 Score on training dataset, the top three algorithms are XGBoost, Random Forest, and Decision Tree. Now let's check with the test dataset to see how the model will perform."
   ]
  },
  {
   "cell_type": "code",
   "execution_count": 398,
   "metadata": {},
   "outputs": [],
   "source": [
    "## Test Dataset"
   ]
  },
  {
   "cell_type": "code",
   "execution_count": 399,
   "metadata": {},
   "outputs": [
    {
     "data": {
      "text/html": [
       "<div>\n",
       "<style scoped>\n",
       "    .dataframe tbody tr th:only-of-type {\n",
       "        vertical-align: middle;\n",
       "    }\n",
       "\n",
       "    .dataframe tbody tr th {\n",
       "        vertical-align: top;\n",
       "    }\n",
       "\n",
       "    .dataframe thead th {\n",
       "        text-align: right;\n",
       "    }\n",
       "</style>\n",
       "<table border=\"1\" class=\"dataframe\">\n",
       "  <thead>\n",
       "    <tr style=\"text-align: right;\">\n",
       "      <th></th>\n",
       "      <th>LogReg Testing CV (Mean)</th>\n",
       "    </tr>\n",
       "  </thead>\n",
       "  <tbody>\n",
       "    <tr>\n",
       "      <th>Accuracy</th>\n",
       "      <td>0.877078</td>\n",
       "    </tr>\n",
       "    <tr>\n",
       "      <th>Precision</th>\n",
       "      <td>0.711267</td>\n",
       "    </tr>\n",
       "    <tr>\n",
       "      <th>Recall</th>\n",
       "      <td>0.487790</td>\n",
       "    </tr>\n",
       "    <tr>\n",
       "      <th>F1</th>\n",
       "      <td>0.574250</td>\n",
       "    </tr>\n",
       "  </tbody>\n",
       "</table>\n",
       "</div>"
      ],
      "text/plain": [
       "           LogReg Testing CV (Mean)\n",
       "Accuracy                   0.877078\n",
       "Precision                  0.711267\n",
       "Recall                     0.487790\n",
       "F1                         0.574250"
      ]
     },
     "execution_count": 399,
     "metadata": {},
     "output_type": "execute_result"
    }
   ],
   "source": [
    "## Cross validation for Logistic Regression algorithm with Test Data\n",
    "\n",
    "cv_LogReg_ts = Cross_Val(PipeLine_LogReg, X_test, y_test, 'LogReg Testing')\n",
    "cv_LogReg_ts"
   ]
  },
  {
   "cell_type": "code",
   "execution_count": 400,
   "metadata": {},
   "outputs": [
    {
     "data": {
      "text/html": [
       "<div>\n",
       "<style scoped>\n",
       "    .dataframe tbody tr th:only-of-type {\n",
       "        vertical-align: middle;\n",
       "    }\n",
       "\n",
       "    .dataframe tbody tr th {\n",
       "        vertical-align: top;\n",
       "    }\n",
       "\n",
       "    .dataframe thead th {\n",
       "        text-align: right;\n",
       "    }\n",
       "</style>\n",
       "<table border=\"1\" class=\"dataframe\">\n",
       "  <thead>\n",
       "    <tr style=\"text-align: right;\">\n",
       "      <th></th>\n",
       "      <th>KNN Testing CV (Mean)</th>\n",
       "    </tr>\n",
       "  </thead>\n",
       "  <tbody>\n",
       "    <tr>\n",
       "      <th>Accuracy</th>\n",
       "      <td>0.823857</td>\n",
       "    </tr>\n",
       "    <tr>\n",
       "      <th>Precision</th>\n",
       "      <td>0.472222</td>\n",
       "    </tr>\n",
       "    <tr>\n",
       "      <th>Recall</th>\n",
       "      <td>0.195366</td>\n",
       "    </tr>\n",
       "    <tr>\n",
       "      <th>F1</th>\n",
       "      <td>0.273810</td>\n",
       "    </tr>\n",
       "  </tbody>\n",
       "</table>\n",
       "</div>"
      ],
      "text/plain": [
       "           KNN Testing CV (Mean)\n",
       "Accuracy                0.823857\n",
       "Precision               0.472222\n",
       "Recall                  0.195366\n",
       "F1                      0.273810"
      ]
     },
     "execution_count": 400,
     "metadata": {},
     "output_type": "execute_result"
    }
   ],
   "source": [
    "## Cross validation for KNN algorithm with Test Data\n",
    "\n",
    "cv_KNN_ts = Cross_Val(PipeLine_KNN, X_test, y_test, 'KNN Testing')\n",
    "cv_KNN_ts"
   ]
  },
  {
   "cell_type": "code",
   "execution_count": 401,
   "metadata": {},
   "outputs": [
    {
     "data": {
      "text/html": [
       "<div>\n",
       "<style scoped>\n",
       "    .dataframe tbody tr th:only-of-type {\n",
       "        vertical-align: middle;\n",
       "    }\n",
       "\n",
       "    .dataframe tbody tr th {\n",
       "        vertical-align: top;\n",
       "    }\n",
       "\n",
       "    .dataframe thead th {\n",
       "        text-align: right;\n",
       "    }\n",
       "</style>\n",
       "<table border=\"1\" class=\"dataframe\">\n",
       "  <thead>\n",
       "    <tr style=\"text-align: right;\">\n",
       "      <th></th>\n",
       "      <th>DT Testing CV (Mean)</th>\n",
       "    </tr>\n",
       "  </thead>\n",
       "  <tbody>\n",
       "    <tr>\n",
       "      <th>Accuracy</th>\n",
       "      <td>0.859308</td>\n",
       "    </tr>\n",
       "    <tr>\n",
       "      <th>Precision</th>\n",
       "      <td>0.597312</td>\n",
       "    </tr>\n",
       "    <tr>\n",
       "      <th>Recall</th>\n",
       "      <td>0.576069</td>\n",
       "    </tr>\n",
       "    <tr>\n",
       "      <th>F1</th>\n",
       "      <td>0.564115</td>\n",
       "    </tr>\n",
       "  </tbody>\n",
       "</table>\n",
       "</div>"
      ],
      "text/plain": [
       "           DT Testing CV (Mean)\n",
       "Accuracy               0.859308\n",
       "Precision              0.597312\n",
       "Recall                 0.576069\n",
       "F1                     0.564115"
      ]
     },
     "execution_count": 401,
     "metadata": {},
     "output_type": "execute_result"
    }
   ],
   "source": [
    "## Cross validation for Decision Tree algorithm with Test Data\n",
    "\n",
    "cv_DT_ts = Cross_Val(PipeLine_DT, X_test, y_test, 'DT Testing')\n",
    "cv_DT_ts"
   ]
  },
  {
   "cell_type": "code",
   "execution_count": 402,
   "metadata": {},
   "outputs": [
    {
     "data": {
      "text/html": [
       "<div>\n",
       "<style scoped>\n",
       "    .dataframe tbody tr th:only-of-type {\n",
       "        vertical-align: middle;\n",
       "    }\n",
       "\n",
       "    .dataframe tbody tr th {\n",
       "        vertical-align: top;\n",
       "    }\n",
       "\n",
       "    .dataframe thead th {\n",
       "        text-align: right;\n",
       "    }\n",
       "</style>\n",
       "<table border=\"1\" class=\"dataframe\">\n",
       "  <thead>\n",
       "    <tr style=\"text-align: right;\">\n",
       "      <th></th>\n",
       "      <th>RF Testing CV (Mean)</th>\n",
       "    </tr>\n",
       "  </thead>\n",
       "  <tbody>\n",
       "    <tr>\n",
       "      <th>Accuracy</th>\n",
       "      <td>0.879594</td>\n",
       "    </tr>\n",
       "    <tr>\n",
       "      <th>Precision</th>\n",
       "      <td>0.755455</td>\n",
       "    </tr>\n",
       "    <tr>\n",
       "      <th>Recall</th>\n",
       "      <td>0.484928</td>\n",
       "    </tr>\n",
       "    <tr>\n",
       "      <th>F1</th>\n",
       "      <td>0.580615</td>\n",
       "    </tr>\n",
       "  </tbody>\n",
       "</table>\n",
       "</div>"
      ],
      "text/plain": [
       "           RF Testing CV (Mean)\n",
       "Accuracy               0.879594\n",
       "Precision              0.755455\n",
       "Recall                 0.484928\n",
       "F1                     0.580615"
      ]
     },
     "execution_count": 402,
     "metadata": {},
     "output_type": "execute_result"
    }
   ],
   "source": [
    "## Cross validation for Random Forest algorithm with Test Data\n",
    "\n",
    "cv_RF_ts = Cross_Val(PipeLine_RF, X_test, y_test, 'RF Testing')\n",
    "cv_RF_ts"
   ]
  },
  {
   "cell_type": "code",
   "execution_count": 403,
   "metadata": {},
   "outputs": [
    {
     "data": {
      "text/html": [
       "<div>\n",
       "<style scoped>\n",
       "    .dataframe tbody tr th:only-of-type {\n",
       "        vertical-align: middle;\n",
       "    }\n",
       "\n",
       "    .dataframe tbody tr th {\n",
       "        vertical-align: top;\n",
       "    }\n",
       "\n",
       "    .dataframe thead th {\n",
       "        text-align: right;\n",
       "    }\n",
       "</style>\n",
       "<table border=\"1\" class=\"dataframe\">\n",
       "  <thead>\n",
       "    <tr style=\"text-align: right;\">\n",
       "      <th></th>\n",
       "      <th>XGB Testing CV (Mean)</th>\n",
       "    </tr>\n",
       "  </thead>\n",
       "  <tbody>\n",
       "    <tr>\n",
       "      <th>Accuracy</th>\n",
       "      <td>0.882117</td>\n",
       "    </tr>\n",
       "    <tr>\n",
       "      <th>Precision</th>\n",
       "      <td>0.684510</td>\n",
       "    </tr>\n",
       "    <tr>\n",
       "      <th>Recall</th>\n",
       "      <td>0.569486</td>\n",
       "    </tr>\n",
       "    <tr>\n",
       "      <th>F1</th>\n",
       "      <td>0.618490</td>\n",
       "    </tr>\n",
       "  </tbody>\n",
       "</table>\n",
       "</div>"
      ],
      "text/plain": [
       "           XGB Testing CV (Mean)\n",
       "Accuracy                0.882117\n",
       "Precision               0.684510\n",
       "Recall                  0.569486\n",
       "F1                      0.618490"
      ]
     },
     "execution_count": 403,
     "metadata": {},
     "output_type": "execute_result"
    }
   ],
   "source": [
    "## Cross validation for XGBoost algorithm with Test Data\n",
    "\n",
    "cv_XGB_ts = Cross_Val(PipeLine_XGB, X_test, y_test, 'XGB Testing')\n",
    "cv_XGB_ts"
   ]
  },
  {
   "cell_type": "code",
   "execution_count": 404,
   "metadata": {},
   "outputs": [
    {
     "data": {
      "text/html": [
       "<div>\n",
       "<style scoped>\n",
       "    .dataframe tbody tr th:only-of-type {\n",
       "        vertical-align: middle;\n",
       "    }\n",
       "\n",
       "    .dataframe tbody tr th {\n",
       "        vertical-align: top;\n",
       "    }\n",
       "\n",
       "    .dataframe thead th {\n",
       "        text-align: right;\n",
       "    }\n",
       "</style>\n",
       "<table border=\"1\" class=\"dataframe\">\n",
       "  <thead>\n",
       "    <tr style=\"text-align: right;\">\n",
       "      <th></th>\n",
       "      <th>F1</th>\n",
       "    </tr>\n",
       "  </thead>\n",
       "  <tbody>\n",
       "    <tr>\n",
       "      <th>XGB Testing CV (Mean)</th>\n",
       "      <td>0.618490</td>\n",
       "    </tr>\n",
       "    <tr>\n",
       "      <th>RF Testing CV (Mean)</th>\n",
       "      <td>0.580615</td>\n",
       "    </tr>\n",
       "    <tr>\n",
       "      <th>LogReg Testing CV (Mean)</th>\n",
       "      <td>0.574250</td>\n",
       "    </tr>\n",
       "    <tr>\n",
       "      <th>DT Testing CV (Mean)</th>\n",
       "      <td>0.564115</td>\n",
       "    </tr>\n",
       "    <tr>\n",
       "      <th>KNN Testing CV (Mean)</th>\n",
       "      <td>0.273810</td>\n",
       "    </tr>\n",
       "  </tbody>\n",
       "</table>\n",
       "</div>"
      ],
      "text/plain": [
       "                                F1\n",
       "XGB Testing CV (Mean)     0.618490\n",
       "RF Testing CV (Mean)      0.580615\n",
       "LogReg Testing CV (Mean)  0.574250\n",
       "DT Testing CV (Mean)      0.564115\n",
       "KNN Testing CV (Mean)     0.273810"
      ]
     },
     "execution_count": 404,
     "metadata": {},
     "output_type": "execute_result"
    }
   ],
   "source": [
    "## Combining testing cross validation result from each algorithm\n",
    "\n",
    "pd.concat([cv_LogReg_ts, cv_KNN_ts, cv_DT_ts, cv_RF_ts, cv_XGB_ts], axis=1).loc[['F1']].T.sort_values('F1', ascending=False)"
   ]
  },
  {
   "cell_type": "markdown",
   "metadata": {},
   "source": [
    "For the test dataset we can see that the same 3 best performing models are XGboost, Random Forest, and Logistic Regression.\n",
    "\n",
    "However, two out of three best algorithms is tree-based algorithm. And because the decision tree scoring is close to the logistic regression, we will choose decision tree instead.\n",
    "\n",
    "Now we will use these 3 models with handled outliers and we will compare the scoring again before and after we handle the outliers."
   ]
  },
  {
   "cell_type": "markdown",
   "metadata": {},
   "source": [
    "### **Handling Outliers**"
   ]
  },
  {
   "cell_type": "markdown",
   "metadata": {},
   "source": [
    "Let's display the boxplot for our dataset again"
   ]
  },
  {
   "cell_type": "code",
   "execution_count": 405,
   "metadata": {},
   "outputs": [
    {
     "data": {
      "image/png": "[encoded data removed]",
      "text/plain": [
       "<Figure size 1152x504 with 1 Axes>"
      ]
     },
     "metadata": {},
     "output_type": "display_data"
    }
   ],
   "source": [
    "## Display boxplot\n",
    "\n",
    "sns.set(style='darkgrid', palette='viridis')\n",
    "fig, ax = plt.subplots(figsize=(16,7))\n",
    "sns.boxplot(data=df_1)\n",
    "plt.xticks(rotation=45)\n",
    "plt.show()"
   ]
  },
  {
   "cell_type": "markdown",
   "metadata": {},
   "source": [
    "Next, we will be handing the outliers. We will not be dropping the outliers because we can see that the cashback amount contains many outlier, and the other reason we can't be sure that the outliers was due to measurement error, which in this case, the outliers is recommended to not be dropped [(Source)](https://www.analyticsvidhya.com/blog/2021/05/why-you-shouldnt-just-delete-outliers/).\n",
    "\n",
    "Instead, we will be capping the outliers. The outlier that got past the upper bound will be change to the upper bound value, and the outlier outside of the lower bound will be change to the lower bound value [(Source 2)](https://medium.com/analytics-vidhya/detect-and-handling-outliers-53723d8ec17a)"
   ]
  },
  {
   "cell_type": "code",
   "execution_count": 406,
   "metadata": {},
   "outputs": [],
   "source": [
    "## create new df\n",
    "\n",
    "df_2 = df_1.copy()"
   ]
  },
  {
   "cell_type": "code",
   "execution_count": 407,
   "metadata": {},
   "outputs": [
    {
     "data": {
      "text/plain": [
       "['Tenure',\n",
       " 'WarehouseToHome',\n",
       " 'NumberOfDeviceRegistered',\n",
       " 'SatisfactionScore',\n",
       " 'NumberOfAddress',\n",
       " 'Complain',\n",
       " 'DaySinceLastOrder',\n",
       " 'CashbackAmount']"
      ]
     },
     "execution_count": 407,
     "metadata": {},
     "output_type": "execute_result"
    }
   ],
   "source": [
    "## Create list for all numerical columns\n",
    "\n",
    "num_cols_2 = list(df_2.select_dtypes(exclude='object').columns)\n",
    "num_cols_2.remove('Churn')\n",
    "num_cols_2"
   ]
  },
  {
   "cell_type": "code",
   "execution_count": 408,
   "metadata": {},
   "outputs": [],
   "source": [
    "## Removing outliers\n",
    "\n",
    "for cols in num_cols_2:\n",
    "    Q1 = df_2[cols].quantile(0.25) ## Find Q1\n",
    "    Q3 = df_2[cols].quantile(0.75) ## Find Q3\n",
    "    IQR=Q3-Q1 ##Interquartile range\n",
    "    lb= Q1-(1.5 * IQR) ## find lower-bound\n",
    "    ub= Q3+(1.5 * IQR) ## find upper-bound\n",
    "    df_2[cols] = df_2[cols].mask(df_2[cols]<lb, lb) ## replace with lower bound\n",
    "    df_2[cols] = df_2[cols].mask(df_2[cols]>ub, ub) ## replace with upper bound"
   ]
  },
  {
   "cell_type": "markdown",
   "metadata": {},
   "source": [
    "Now let's check the boxplot again on our dataframe if there are anymore outliers."
   ]
  },
  {
   "cell_type": "code",
   "execution_count": 409,
   "metadata": {},
   "outputs": [
    {
     "data": {
      "image/png": "[encoded data removed]",
      "text/plain": [
       "<Figure size 1152x504 with 1 Axes>"
      ]
     },
     "metadata": {},
     "output_type": "display_data"
    }
   ],
   "source": [
    "## Displaying boxplot after handling outlier\n",
    "\n",
    "sns.set(style='darkgrid', palette='viridis')\n",
    "fig, ax = plt.subplots(figsize=(16,7))\n",
    "sns.boxplot(data=df_2)\n",
    "plt.xticks(rotation=45)\n",
    "plt.show()"
   ]
  },
  {
   "cell_type": "markdown",
   "metadata": {},
   "source": [
    "We can see that now there are no outliers exist in the dataframe. Let's proceed with our modeling."
   ]
  },
  {
   "cell_type": "code",
   "execution_count": 410,
   "metadata": {},
   "outputs": [],
   "source": [
    "## Splitting dataset without outlier"
   ]
  },
  {
   "cell_type": "code",
   "execution_count": 411,
   "metadata": {},
   "outputs": [],
   "source": [
    "X_OL = df_2.drop(columns='Churn') ## X variables (features)\n",
    "y_OL = df_2['Churn'] ## Target/Labels"
   ]
  },
  {
   "cell_type": "code",
   "execution_count": 412,
   "metadata": {},
   "outputs": [],
   "source": [
    "## Splitting train and test data\n",
    "\n",
    "X_train_OL, X_test_OL, y_train_OL, y_test_OL = train_test_split(X_OL, y_OL, stratify=y_OL, test_size = .20, random_state=666)"
   ]
  },
  {
   "cell_type": "code",
   "execution_count": 413,
   "metadata": {},
   "outputs": [],
   "source": [
    "## Define algorithm\n",
    "\n",
    "model_DT_OL = DecisionTreeClassifier()\n",
    "model_RF_OL = RandomForestClassifier()\n",
    "model_XGB_OL = XGBClassifier()"
   ]
  },
  {
   "cell_type": "code",
   "execution_count": 414,
   "metadata": {},
   "outputs": [],
   "source": [
    "## Create pipeline for each algorithm\n",
    "\n",
    "PipeLine_DT_OL = Pipeline([\n",
    "    ('preprocess', preprocessor),\n",
    "    ('algorithm', model_DT_OL)\n",
    "])    \n",
    "\n",
    "PipeLine_RF_OL = Pipeline([\n",
    "    ('preprocess', preprocessor),\n",
    "    ('algorithm', model_RF_OL)\n",
    "])    \n",
    "\n",
    "PipeLine_XGB_OL = Pipeline([\n",
    "    ('preprocess', preprocessor),\n",
    "    ('algorithm', model_XGB_OL)\n",
    "])"
   ]
  },
  {
   "cell_type": "code",
   "execution_count": 415,
   "metadata": {},
   "outputs": [],
   "source": [
    "## Cross validation on Training and Testing data with Decision Tree algorithm\n",
    "\n",
    "cv_DT_OL_tr = Cross_Val(PipeLine_DT_OL, X_train_OL, y_train_OL, 'DT without Outlier Training') ## Training\n",
    "cv_DT_OL_ts = Cross_Val(PipeLine_DT_OL, X_test_OL, y_test_OL, 'DT without Outlier Testing') ## Testing"
   ]
  },
  {
   "cell_type": "code",
   "execution_count": 416,
   "metadata": {},
   "outputs": [
    {
     "data": {
      "text/html": [
       "<div>\n",
       "<style scoped>\n",
       "    .dataframe tbody tr th:only-of-type {\n",
       "        vertical-align: middle;\n",
       "    }\n",
       "\n",
       "    .dataframe tbody tr th {\n",
       "        vertical-align: top;\n",
       "    }\n",
       "\n",
       "    .dataframe thead th {\n",
       "        text-align: right;\n",
       "    }\n",
       "</style>\n",
       "<table border=\"1\" class=\"dataframe\">\n",
       "  <thead>\n",
       "    <tr style=\"text-align: right;\">\n",
       "      <th></th>\n",
       "      <th>DT Training CV (Mean)</th>\n",
       "      <th>DT Testing CV (Mean)</th>\n",
       "      <th>DT without Outlier Training CV (Mean)</th>\n",
       "      <th>DT without Outlier Testing CV (Mean)</th>\n",
       "    </tr>\n",
       "  </thead>\n",
       "  <tbody>\n",
       "    <tr>\n",
       "      <th>Accuracy</th>\n",
       "      <td>0.912431</td>\n",
       "      <td>0.859308</td>\n",
       "      <td>0.912117</td>\n",
       "      <td>0.868225</td>\n",
       "    </tr>\n",
       "    <tr>\n",
       "      <th>Precision</th>\n",
       "      <td>0.746238</td>\n",
       "      <td>0.597312</td>\n",
       "      <td>0.753100</td>\n",
       "      <td>0.629538</td>\n",
       "    </tr>\n",
       "    <tr>\n",
       "      <th>Recall</th>\n",
       "      <td>0.760452</td>\n",
       "      <td>0.576069</td>\n",
       "      <td>0.765956</td>\n",
       "      <td>0.632627</td>\n",
       "    </tr>\n",
       "    <tr>\n",
       "      <th>F1</th>\n",
       "      <td>0.740057</td>\n",
       "      <td>0.564115</td>\n",
       "      <td>0.761183</td>\n",
       "      <td>0.607322</td>\n",
       "    </tr>\n",
       "  </tbody>\n",
       "</table>\n",
       "</div>"
      ],
      "text/plain": [
       "           DT Training CV (Mean)  DT Testing CV (Mean)  \\\n",
       "Accuracy                0.912431              0.859308   \n",
       "Precision               0.746238              0.597312   \n",
       "Recall                  0.760452              0.576069   \n",
       "F1                      0.740057              0.564115   \n",
       "\n",
       "           DT without Outlier Training CV (Mean)  \\\n",
       "Accuracy                                0.912117   \n",
       "Precision                               0.753100   \n",
       "Recall                                  0.765956   \n",
       "F1                                      0.761183   \n",
       "\n",
       "           DT without Outlier Testing CV (Mean)  \n",
       "Accuracy                               0.868225  \n",
       "Precision                              0.629538  \n",
       "Recall                                 0.632627  \n",
       "F1                                     0.607322  "
      ]
     },
     "execution_count": 416,
     "metadata": {},
     "output_type": "execute_result"
    }
   ],
   "source": [
    "## Combine cross validation result of training and testing\n",
    "\n",
    "pd.concat([cv_DT_tr, cv_DT_ts, cv_DT_OL_tr, cv_DT_OL_ts], axis=1)"
   ]
  },
  {
   "cell_type": "code",
   "execution_count": 417,
   "metadata": {},
   "outputs": [],
   "source": [
    "## Cross validation on Training and Testing data with Random Forest algorithm\n",
    "\n",
    "cv_RF_OL_tr = Cross_Val(PipeLine_RF_OL, X_train_OL, y_train_OL, 'RF without Outlier Training') ## Training\n",
    "cv_RF_OL_ts = Cross_Val(PipeLine_RF_OL, X_test_OL, y_test_OL, 'RF without Outlier Testing') ## Testing"
   ]
  },
  {
   "cell_type": "code",
   "execution_count": 418,
   "metadata": {},
   "outputs": [
    {
     "data": {
      "text/html": [
       "<div>\n",
       "<style scoped>\n",
       "    .dataframe tbody tr th:only-of-type {\n",
       "        vertical-align: middle;\n",
       "    }\n",
       "\n",
       "    .dataframe tbody tr th {\n",
       "        vertical-align: top;\n",
       "    }\n",
       "\n",
       "    .dataframe thead th {\n",
       "        text-align: right;\n",
       "    }\n",
       "</style>\n",
       "<table border=\"1\" class=\"dataframe\">\n",
       "  <thead>\n",
       "    <tr style=\"text-align: right;\">\n",
       "      <th></th>\n",
       "      <th>RF Training CV (Mean)</th>\n",
       "      <th>RF Testing CV (Mean)</th>\n",
       "      <th>RF without Outlier Training CV (Mean)</th>\n",
       "      <th>RF without Outlier Testing CV (Mean)</th>\n",
       "    </tr>\n",
       "  </thead>\n",
       "  <tbody>\n",
       "    <tr>\n",
       "      <th>Accuracy</th>\n",
       "      <td>0.930832</td>\n",
       "      <td>0.879594</td>\n",
       "      <td>0.930516</td>\n",
       "      <td>0.887213</td>\n",
       "    </tr>\n",
       "    <tr>\n",
       "      <th>Precision</th>\n",
       "      <td>0.861471</td>\n",
       "      <td>0.755455</td>\n",
       "      <td>0.864459</td>\n",
       "      <td>0.763595</td>\n",
       "    </tr>\n",
       "    <tr>\n",
       "      <th>Recall</th>\n",
       "      <td>0.704442</td>\n",
       "      <td>0.484928</td>\n",
       "      <td>0.727437</td>\n",
       "      <td>0.488011</td>\n",
       "    </tr>\n",
       "    <tr>\n",
       "      <th>F1</th>\n",
       "      <td>0.775573</td>\n",
       "      <td>0.580615</td>\n",
       "      <td>0.779611</td>\n",
       "      <td>0.610807</td>\n",
       "    </tr>\n",
       "  </tbody>\n",
       "</table>\n",
       "</div>"
      ],
      "text/plain": [
       "           RF Training CV (Mean)  RF Testing CV (Mean)  \\\n",
       "Accuracy                0.930832              0.879594   \n",
       "Precision               0.861471              0.755455   \n",
       "Recall                  0.704442              0.484928   \n",
       "F1                      0.775573              0.580615   \n",
       "\n",
       "           RF without Outlier Training CV (Mean)  \\\n",
       "Accuracy                                0.930516   \n",
       "Precision                               0.864459   \n",
       "Recall                                  0.727437   \n",
       "F1                                      0.779611   \n",
       "\n",
       "           RF without Outlier Testing CV (Mean)  \n",
       "Accuracy                               0.887213  \n",
       "Precision                              0.763595  \n",
       "Recall                                 0.488011  \n",
       "F1                                     0.610807  "
      ]
     },
     "execution_count": 418,
     "metadata": {},
     "output_type": "execute_result"
    }
   ],
   "source": [
    "## Combine cross validation result of training and testing\n",
    "\n",
    "pd.concat([cv_RF_tr, cv_RF_ts, cv_RF_OL_tr, cv_RF_OL_ts], axis=1)"
   ]
  },
  {
   "cell_type": "code",
   "execution_count": 419,
   "metadata": {},
   "outputs": [],
   "source": [
    "## Cross validation on Training and Testing data with XGBoost algorithm\n",
    "\n",
    "cv_XGB_OL_tr = Cross_Val(PipeLine_XGB_OL, X_train_OL, y_train_OL, 'XGB without Outlier Training') ## Training\n",
    "cv_XGB_OL_ts = Cross_Val(PipeLine_XGB_OL, X_test_OL, y_test_OL, 'XGB without Outlier Testing') ## Testing"
   ]
  },
  {
   "cell_type": "code",
   "execution_count": 420,
   "metadata": {},
   "outputs": [
    {
     "data": {
      "text/html": [
       "<div>\n",
       "<style scoped>\n",
       "    .dataframe tbody tr th:only-of-type {\n",
       "        vertical-align: middle;\n",
       "    }\n",
       "\n",
       "    .dataframe tbody tr th {\n",
       "        vertical-align: top;\n",
       "    }\n",
       "\n",
       "    .dataframe thead th {\n",
       "        text-align: right;\n",
       "    }\n",
       "</style>\n",
       "<table border=\"1\" class=\"dataframe\">\n",
       "  <thead>\n",
       "    <tr style=\"text-align: right;\">\n",
       "      <th></th>\n",
       "      <th>XGB Training CV (Mean)</th>\n",
       "      <th>XGB Testing CV (Mean)</th>\n",
       "      <th>XGB without Outlier Training CV (Mean)</th>\n",
       "      <th>XGB without Outlier Testing CV (Mean)</th>\n",
       "    </tr>\n",
       "  </thead>\n",
       "  <tbody>\n",
       "    <tr>\n",
       "      <th>Accuracy</th>\n",
       "      <td>0.936864</td>\n",
       "      <td>0.882117</td>\n",
       "      <td>0.935914</td>\n",
       "      <td>0.883399</td>\n",
       "    </tr>\n",
       "    <tr>\n",
       "      <th>Precision</th>\n",
       "      <td>0.850840</td>\n",
       "      <td>0.684510</td>\n",
       "      <td>0.849576</td>\n",
       "      <td>0.686873</td>\n",
       "    </tr>\n",
       "    <tr>\n",
       "      <th>Recall</th>\n",
       "      <td>0.769531</td>\n",
       "      <td>0.569486</td>\n",
       "      <td>0.764374</td>\n",
       "      <td>0.577486</td>\n",
       "    </tr>\n",
       "    <tr>\n",
       "      <th>F1</th>\n",
       "      <td>0.807345</td>\n",
       "      <td>0.618490</td>\n",
       "      <td>0.803793</td>\n",
       "      <td>0.625157</td>\n",
       "    </tr>\n",
       "  </tbody>\n",
       "</table>\n",
       "</div>"
      ],
      "text/plain": [
       "           XGB Training CV (Mean)  XGB Testing CV (Mean)  \\\n",
       "Accuracy                 0.936864               0.882117   \n",
       "Precision                0.850840               0.684510   \n",
       "Recall                   0.769531               0.569486   \n",
       "F1                       0.807345               0.618490   \n",
       "\n",
       "           XGB without Outlier Training CV (Mean)  \\\n",
       "Accuracy                                 0.935914   \n",
       "Precision                                0.849576   \n",
       "Recall                                   0.764374   \n",
       "F1                                       0.803793   \n",
       "\n",
       "           XGB without Outlier Testing CV (Mean)  \n",
       "Accuracy                                0.883399  \n",
       "Precision                               0.686873  \n",
       "Recall                                  0.577486  \n",
       "F1                                      0.625157  "
      ]
     },
     "execution_count": 420,
     "metadata": {},
     "output_type": "execute_result"
    }
   ],
   "source": [
    "## Combine cross validation result of training and testing\n",
    "\n",
    "pd.concat([cv_XGB_tr, cv_XGB_ts, cv_XGB_OL_tr, cv_XGB_OL_ts], axis=1)"
   ]
  },
  {
   "cell_type": "code",
   "execution_count": 421,
   "metadata": {},
   "outputs": [
    {
     "data": {
      "text/html": [
       "<div>\n",
       "<style scoped>\n",
       "    .dataframe tbody tr th:only-of-type {\n",
       "        vertical-align: middle;\n",
       "    }\n",
       "\n",
       "    .dataframe tbody tr th {\n",
       "        vertical-align: top;\n",
       "    }\n",
       "\n",
       "    .dataframe thead th {\n",
       "        text-align: right;\n",
       "    }\n",
       "</style>\n",
       "<table border=\"1\" class=\"dataframe\">\n",
       "  <thead>\n",
       "    <tr style=\"text-align: right;\">\n",
       "      <th></th>\n",
       "      <th>F1</th>\n",
       "    </tr>\n",
       "  </thead>\n",
       "  <tbody>\n",
       "    <tr>\n",
       "      <th>XGB without Outlier Testing CV (Mean)</th>\n",
       "      <td>0.625157</td>\n",
       "    </tr>\n",
       "    <tr>\n",
       "      <th>XGB Testing CV (Mean)</th>\n",
       "      <td>0.618490</td>\n",
       "    </tr>\n",
       "    <tr>\n",
       "      <th>RF without Outlier Testing CV (Mean)</th>\n",
       "      <td>0.610807</td>\n",
       "    </tr>\n",
       "    <tr>\n",
       "      <th>DT without Outlier Testing CV (Mean)</th>\n",
       "      <td>0.607322</td>\n",
       "    </tr>\n",
       "    <tr>\n",
       "      <th>RF Testing CV (Mean)</th>\n",
       "      <td>0.580615</td>\n",
       "    </tr>\n",
       "    <tr>\n",
       "      <th>DT Testing CV (Mean)</th>\n",
       "      <td>0.564115</td>\n",
       "    </tr>\n",
       "  </tbody>\n",
       "</table>\n",
       "</div>"
      ],
      "text/plain": [
       "                                             F1\n",
       "XGB without Outlier Testing CV (Mean)  0.625157\n",
       "XGB Testing CV (Mean)                  0.618490\n",
       "RF without Outlier Testing CV (Mean)   0.610807\n",
       "DT without Outlier Testing CV (Mean)   0.607322\n",
       "RF Testing CV (Mean)                   0.580615\n",
       "DT Testing CV (Mean)                   0.564115"
      ]
     },
     "execution_count": 421,
     "metadata": {},
     "output_type": "execute_result"
    }
   ],
   "source": [
    "## Combine cross validation result of testing from each algorithm\n",
    "\n",
    "pd.concat([cv_DT_ts, cv_RF_ts, cv_XGB_ts, cv_DT_OL_ts, cv_RF_OL_ts, cv_XGB_OL_ts], axis=1).loc[['F1']].T.sort_values('F1', ascending=False)"
   ]
  },
  {
   "cell_type": "markdown",
   "metadata": {},
   "source": [
    "We can see from the cross validation results, two out of three models produce better F1 score after we handled the outliers.\n",
    "\n",
    "Thus, the next step we will try the oversampling and SMOTE method using the handled outlier datasets."
   ]
  },
  {
   "cell_type": "markdown",
   "metadata": {},
   "source": [
    "### **Random Oversampling**"
   ]
  },
  {
   "cell_type": "code",
   "execution_count": 422,
   "metadata": {},
   "outputs": [
    {
     "data": {
      "text/html": [
       "<div>\n",
       "<style scoped>\n",
       "    .dataframe tbody tr th:only-of-type {\n",
       "        vertical-align: middle;\n",
       "    }\n",
       "\n",
       "    .dataframe tbody tr th {\n",
       "        vertical-align: top;\n",
       "    }\n",
       "\n",
       "    .dataframe thead th {\n",
       "        text-align: right;\n",
       "    }\n",
       "</style>\n",
       "<table border=\"1\" class=\"dataframe\">\n",
       "  <thead>\n",
       "    <tr style=\"text-align: right;\">\n",
       "      <th></th>\n",
       "      <th>Tenure</th>\n",
       "      <th>WarehouseToHome</th>\n",
       "      <th>NumberOfDeviceRegistered</th>\n",
       "      <th>PreferedOrderCat</th>\n",
       "      <th>SatisfactionScore</th>\n",
       "      <th>MaritalStatus</th>\n",
       "      <th>NumberOfAddress</th>\n",
       "      <th>Complain</th>\n",
       "      <th>DaySinceLastOrder</th>\n",
       "      <th>CashbackAmount</th>\n",
       "      <th>Churn</th>\n",
       "    </tr>\n",
       "  </thead>\n",
       "  <tbody>\n",
       "    <tr>\n",
       "      <th>2583</th>\n",
       "      <td>29.0</td>\n",
       "      <td>6.0</td>\n",
       "      <td>3.0</td>\n",
       "      <td>Laptop &amp; Accessory</td>\n",
       "      <td>3</td>\n",
       "      <td>Married</td>\n",
       "      <td>2.0</td>\n",
       "      <td>0</td>\n",
       "      <td>9.0</td>\n",
       "      <td>163.06</td>\n",
       "      <td>0</td>\n",
       "    </tr>\n",
       "    <tr>\n",
       "      <th>242</th>\n",
       "      <td>4.0</td>\n",
       "      <td>11.0</td>\n",
       "      <td>3.0</td>\n",
       "      <td>Mobile Phone</td>\n",
       "      <td>1</td>\n",
       "      <td>Married</td>\n",
       "      <td>1.0</td>\n",
       "      <td>1</td>\n",
       "      <td>3.0</td>\n",
       "      <td>148.21</td>\n",
       "      <td>0</td>\n",
       "    </tr>\n",
       "    <tr>\n",
       "      <th>2277</th>\n",
       "      <td>1.0</td>\n",
       "      <td>30.0</td>\n",
       "      <td>5.0</td>\n",
       "      <td>Laptop &amp; Accessory</td>\n",
       "      <td>1</td>\n",
       "      <td>Married</td>\n",
       "      <td>9.0</td>\n",
       "      <td>1</td>\n",
       "      <td>1.0</td>\n",
       "      <td>166.57</td>\n",
       "      <td>0</td>\n",
       "    </tr>\n",
       "    <tr>\n",
       "      <th>3038</th>\n",
       "      <td>0.0</td>\n",
       "      <td>14.0</td>\n",
       "      <td>4.0</td>\n",
       "      <td>Laptop &amp; Accessory</td>\n",
       "      <td>5</td>\n",
       "      <td>Single</td>\n",
       "      <td>7.0</td>\n",
       "      <td>0</td>\n",
       "      <td>2.0</td>\n",
       "      <td>153.26</td>\n",
       "      <td>1</td>\n",
       "    </tr>\n",
       "    <tr>\n",
       "      <th>2316</th>\n",
       "      <td>5.0</td>\n",
       "      <td>10.0</td>\n",
       "      <td>4.0</td>\n",
       "      <td>Laptop &amp; Accessory</td>\n",
       "      <td>3</td>\n",
       "      <td>Divorced</td>\n",
       "      <td>2.0</td>\n",
       "      <td>0</td>\n",
       "      <td>8.0</td>\n",
       "      <td>161.62</td>\n",
       "      <td>0</td>\n",
       "    </tr>\n",
       "  </tbody>\n",
       "</table>\n",
       "</div>"
      ],
      "text/plain": [
       "      Tenure  WarehouseToHome  NumberOfDeviceRegistered    PreferedOrderCat  \\\n",
       "2583    29.0              6.0                       3.0  Laptop & Accessory   \n",
       "242      4.0             11.0                       3.0        Mobile Phone   \n",
       "2277     1.0             30.0                       5.0  Laptop & Accessory   \n",
       "3038     0.0             14.0                       4.0  Laptop & Accessory   \n",
       "2316     5.0             10.0                       4.0  Laptop & Accessory   \n",
       "\n",
       "      SatisfactionScore MaritalStatus  NumberOfAddress  Complain  \\\n",
       "2583                  3       Married              2.0         0   \n",
       "242                   1       Married              1.0         1   \n",
       "2277                  1       Married              9.0         1   \n",
       "3038                  5        Single              7.0         0   \n",
       "2316                  3      Divorced              2.0         0   \n",
       "\n",
       "      DaySinceLastOrder  CashbackAmount  Churn  \n",
       "2583                9.0          163.06      0  \n",
       "242                 3.0          148.21      0  \n",
       "2277                1.0          166.57      0  \n",
       "3038                2.0          153.26      1  \n",
       "2316                8.0          161.62      0  "
      ]
     },
     "execution_count": 422,
     "metadata": {},
     "output_type": "execute_result"
    }
   ],
   "source": [
    "## Create new df for training\n",
    "\n",
    "df_train = pd.concat([X_train_OL, y_train_OL], axis=1)\n",
    "df_train.head()"
   ]
  },
  {
   "cell_type": "code",
   "execution_count": 423,
   "metadata": {},
   "outputs": [
    {
     "data": {
      "text/plain": [
       "0    2613\n",
       "1     539\n",
       "Name: Churn, dtype: int64"
      ]
     },
     "execution_count": 423,
     "metadata": {},
     "output_type": "execute_result"
    }
   ],
   "source": [
    "## Checking the counts of each class\n",
    "\n",
    "df_train['Churn'].value_counts()"
   ]
  },
  {
   "cell_type": "code",
   "execution_count": 424,
   "metadata": {},
   "outputs": [],
   "source": [
    "## Create variables for majority and minority class\n",
    "\n",
    "non_churn = df_train[df_train['Churn'] == 0] ## Majority Class\n",
    "has_churn = df_train[df_train['Churn'] == 1] ## Minority Class"
   ]
  },
  {
   "cell_type": "code",
   "execution_count": 425,
   "metadata": {},
   "outputs": [],
   "source": [
    "## Resampling the data with oversampling\n",
    "\n",
    "churn_oversample = resample(has_churn, replace= True, n_samples = len(non_churn), random_state=666)"
   ]
  },
  {
   "cell_type": "code",
   "execution_count": 426,
   "metadata": {},
   "outputs": [
    {
     "data": {
      "text/html": [
       "<div>\n",
       "<style scoped>\n",
       "    .dataframe tbody tr th:only-of-type {\n",
       "        vertical-align: middle;\n",
       "    }\n",
       "\n",
       "    .dataframe tbody tr th {\n",
       "        vertical-align: top;\n",
       "    }\n",
       "\n",
       "    .dataframe thead th {\n",
       "        text-align: right;\n",
       "    }\n",
       "</style>\n",
       "<table border=\"1\" class=\"dataframe\">\n",
       "  <thead>\n",
       "    <tr style=\"text-align: right;\">\n",
       "      <th></th>\n",
       "      <th>Tenure</th>\n",
       "      <th>WarehouseToHome</th>\n",
       "      <th>NumberOfDeviceRegistered</th>\n",
       "      <th>PreferedOrderCat</th>\n",
       "      <th>SatisfactionScore</th>\n",
       "      <th>MaritalStatus</th>\n",
       "      <th>NumberOfAddress</th>\n",
       "      <th>Complain</th>\n",
       "      <th>DaySinceLastOrder</th>\n",
       "      <th>CashbackAmount</th>\n",
       "      <th>Churn</th>\n",
       "    </tr>\n",
       "  </thead>\n",
       "  <tbody>\n",
       "    <tr>\n",
       "      <th>305</th>\n",
       "      <td>1.0</td>\n",
       "      <td>7.0</td>\n",
       "      <td>5.5</td>\n",
       "      <td>Laptop &amp; Accessory</td>\n",
       "      <td>4</td>\n",
       "      <td>Single</td>\n",
       "      <td>8.0</td>\n",
       "      <td>0</td>\n",
       "      <td>1.0</td>\n",
       "      <td>192.35</td>\n",
       "      <td>1</td>\n",
       "    </tr>\n",
       "    <tr>\n",
       "      <th>2588</th>\n",
       "      <td>1.0</td>\n",
       "      <td>12.0</td>\n",
       "      <td>4.0</td>\n",
       "      <td>Mobile Phone</td>\n",
       "      <td>3</td>\n",
       "      <td>Single</td>\n",
       "      <td>3.0</td>\n",
       "      <td>1</td>\n",
       "      <td>3.0</td>\n",
       "      <td>159.41</td>\n",
       "      <td>1</td>\n",
       "    </tr>\n",
       "    <tr>\n",
       "      <th>3044</th>\n",
       "      <td>3.0</td>\n",
       "      <td>10.0</td>\n",
       "      <td>4.0</td>\n",
       "      <td>Laptop &amp; Accessory</td>\n",
       "      <td>3</td>\n",
       "      <td>Divorced</td>\n",
       "      <td>6.0</td>\n",
       "      <td>1</td>\n",
       "      <td>1.0</td>\n",
       "      <td>177.38</td>\n",
       "      <td>1</td>\n",
       "    </tr>\n",
       "    <tr>\n",
       "      <th>747</th>\n",
       "      <td>1.0</td>\n",
       "      <td>9.0</td>\n",
       "      <td>5.0</td>\n",
       "      <td>Mobile Phone</td>\n",
       "      <td>1</td>\n",
       "      <td>Single</td>\n",
       "      <td>3.0</td>\n",
       "      <td>0</td>\n",
       "      <td>1.0</td>\n",
       "      <td>136.02</td>\n",
       "      <td>1</td>\n",
       "    </tr>\n",
       "    <tr>\n",
       "      <th>1238</th>\n",
       "      <td>0.0</td>\n",
       "      <td>12.0</td>\n",
       "      <td>4.0</td>\n",
       "      <td>Mobile</td>\n",
       "      <td>2</td>\n",
       "      <td>Single</td>\n",
       "      <td>2.0</td>\n",
       "      <td>1</td>\n",
       "      <td>0.0</td>\n",
       "      <td>129.26</td>\n",
       "      <td>1</td>\n",
       "    </tr>\n",
       "    <tr>\n",
       "      <th>...</th>\n",
       "      <td>...</td>\n",
       "      <td>...</td>\n",
       "      <td>...</td>\n",
       "      <td>...</td>\n",
       "      <td>...</td>\n",
       "      <td>...</td>\n",
       "      <td>...</td>\n",
       "      <td>...</td>\n",
       "      <td>...</td>\n",
       "      <td>...</td>\n",
       "      <td>...</td>\n",
       "    </tr>\n",
       "    <tr>\n",
       "      <th>1969</th>\n",
       "      <td>0.0</td>\n",
       "      <td>14.0</td>\n",
       "      <td>3.0</td>\n",
       "      <td>Mobile</td>\n",
       "      <td>2</td>\n",
       "      <td>Divorced</td>\n",
       "      <td>2.0</td>\n",
       "      <td>1</td>\n",
       "      <td>0.0</td>\n",
       "      <td>125.15</td>\n",
       "      <td>1</td>\n",
       "    </tr>\n",
       "    <tr>\n",
       "      <th>2230</th>\n",
       "      <td>1.0</td>\n",
       "      <td>9.0</td>\n",
       "      <td>4.0</td>\n",
       "      <td>Mobile Phone</td>\n",
       "      <td>3</td>\n",
       "      <td>Single</td>\n",
       "      <td>8.0</td>\n",
       "      <td>0</td>\n",
       "      <td>2.0</td>\n",
       "      <td>168.82</td>\n",
       "      <td>1</td>\n",
       "    </tr>\n",
       "    <tr>\n",
       "      <th>34</th>\n",
       "      <td>0.0</td>\n",
       "      <td>14.0</td>\n",
       "      <td>4.0</td>\n",
       "      <td>Mobile</td>\n",
       "      <td>1</td>\n",
       "      <td>Married</td>\n",
       "      <td>6.0</td>\n",
       "      <td>0</td>\n",
       "      <td>3.0</td>\n",
       "      <td>123.67</td>\n",
       "      <td>1</td>\n",
       "    </tr>\n",
       "    <tr>\n",
       "      <th>1710</th>\n",
       "      <td>19.0</td>\n",
       "      <td>9.0</td>\n",
       "      <td>4.0</td>\n",
       "      <td>Laptop &amp; Accessory</td>\n",
       "      <td>1</td>\n",
       "      <td>Single</td>\n",
       "      <td>6.0</td>\n",
       "      <td>0</td>\n",
       "      <td>4.0</td>\n",
       "      <td>176.60</td>\n",
       "      <td>1</td>\n",
       "    </tr>\n",
       "    <tr>\n",
       "      <th>2084</th>\n",
       "      <td>0.0</td>\n",
       "      <td>29.0</td>\n",
       "      <td>3.0</td>\n",
       "      <td>Fashion</td>\n",
       "      <td>5</td>\n",
       "      <td>Married</td>\n",
       "      <td>10.0</td>\n",
       "      <td>1</td>\n",
       "      <td>2.0</td>\n",
       "      <td>199.50</td>\n",
       "      <td>1</td>\n",
       "    </tr>\n",
       "  </tbody>\n",
       "</table>\n",
       "<p>2613 rows × 11 columns</p>\n",
       "</div>"
      ],
      "text/plain": [
       "      Tenure  WarehouseToHome  NumberOfDeviceRegistered    PreferedOrderCat  \\\n",
       "305      1.0              7.0                       5.5  Laptop & Accessory   \n",
       "2588     1.0             12.0                       4.0        Mobile Phone   \n",
       "3044     3.0             10.0                       4.0  Laptop & Accessory   \n",
       "747      1.0              9.0                       5.0        Mobile Phone   \n",
       "1238     0.0             12.0                       4.0              Mobile   \n",
       "...      ...              ...                       ...                 ...   \n",
       "1969     0.0             14.0                       3.0              Mobile   \n",
       "2230     1.0              9.0                       4.0        Mobile Phone   \n",
       "34       0.0             14.0                       4.0              Mobile   \n",
       "1710    19.0              9.0                       4.0  Laptop & Accessory   \n",
       "2084     0.0             29.0                       3.0             Fashion   \n",
       "\n",
       "      SatisfactionScore MaritalStatus  NumberOfAddress  Complain  \\\n",
       "305                   4        Single              8.0         0   \n",
       "2588                  3        Single              3.0         1   \n",
       "3044                  3      Divorced              6.0         1   \n",
       "747                   1        Single              3.0         0   \n",
       "1238                  2        Single              2.0         1   \n",
       "...                 ...           ...              ...       ...   \n",
       "1969                  2      Divorced              2.0         1   \n",
       "2230                  3        Single              8.0         0   \n",
       "34                    1       Married              6.0         0   \n",
       "1710                  1        Single              6.0         0   \n",
       "2084                  5       Married             10.0         1   \n",
       "\n",
       "      DaySinceLastOrder  CashbackAmount  Churn  \n",
       "305                 1.0          192.35      1  \n",
       "2588                3.0          159.41      1  \n",
       "3044                1.0          177.38      1  \n",
       "747                 1.0          136.02      1  \n",
       "1238                0.0          129.26      1  \n",
       "...                 ...             ...    ...  \n",
       "1969                0.0          125.15      1  \n",
       "2230                2.0          168.82      1  \n",
       "34                  3.0          123.67      1  \n",
       "1710                4.0          176.60      1  \n",
       "2084                2.0          199.50      1  \n",
       "\n",
       "[2613 rows x 11 columns]"
      ]
     },
     "execution_count": 426,
     "metadata": {},
     "output_type": "execute_result"
    }
   ],
   "source": [
    "## Display the oversampling result\n",
    "\n",
    "churn_oversample"
   ]
  },
  {
   "cell_type": "code",
   "execution_count": 427,
   "metadata": {},
   "outputs": [
    {
     "data": {
      "text/html": [
       "<div>\n",
       "<style scoped>\n",
       "    .dataframe tbody tr th:only-of-type {\n",
       "        vertical-align: middle;\n",
       "    }\n",
       "\n",
       "    .dataframe tbody tr th {\n",
       "        vertical-align: top;\n",
       "    }\n",
       "\n",
       "    .dataframe thead th {\n",
       "        text-align: right;\n",
       "    }\n",
       "</style>\n",
       "<table border=\"1\" class=\"dataframe\">\n",
       "  <thead>\n",
       "    <tr style=\"text-align: right;\">\n",
       "      <th></th>\n",
       "      <th>Tenure</th>\n",
       "      <th>WarehouseToHome</th>\n",
       "      <th>NumberOfDeviceRegistered</th>\n",
       "      <th>PreferedOrderCat</th>\n",
       "      <th>SatisfactionScore</th>\n",
       "      <th>MaritalStatus</th>\n",
       "      <th>NumberOfAddress</th>\n",
       "      <th>Complain</th>\n",
       "      <th>DaySinceLastOrder</th>\n",
       "      <th>CashbackAmount</th>\n",
       "      <th>Churn</th>\n",
       "    </tr>\n",
       "  </thead>\n",
       "  <tbody>\n",
       "    <tr>\n",
       "      <th>2583</th>\n",
       "      <td>29.0</td>\n",
       "      <td>6.0</td>\n",
       "      <td>3.0</td>\n",
       "      <td>Laptop &amp; Accessory</td>\n",
       "      <td>3</td>\n",
       "      <td>Married</td>\n",
       "      <td>2.0</td>\n",
       "      <td>0</td>\n",
       "      <td>9.0</td>\n",
       "      <td>163.06</td>\n",
       "      <td>0</td>\n",
       "    </tr>\n",
       "    <tr>\n",
       "      <th>242</th>\n",
       "      <td>4.0</td>\n",
       "      <td>11.0</td>\n",
       "      <td>3.0</td>\n",
       "      <td>Mobile Phone</td>\n",
       "      <td>1</td>\n",
       "      <td>Married</td>\n",
       "      <td>1.0</td>\n",
       "      <td>1</td>\n",
       "      <td>3.0</td>\n",
       "      <td>148.21</td>\n",
       "      <td>0</td>\n",
       "    </tr>\n",
       "    <tr>\n",
       "      <th>2277</th>\n",
       "      <td>1.0</td>\n",
       "      <td>30.0</td>\n",
       "      <td>5.0</td>\n",
       "      <td>Laptop &amp; Accessory</td>\n",
       "      <td>1</td>\n",
       "      <td>Married</td>\n",
       "      <td>9.0</td>\n",
       "      <td>1</td>\n",
       "      <td>1.0</td>\n",
       "      <td>166.57</td>\n",
       "      <td>0</td>\n",
       "    </tr>\n",
       "    <tr>\n",
       "      <th>2316</th>\n",
       "      <td>5.0</td>\n",
       "      <td>10.0</td>\n",
       "      <td>4.0</td>\n",
       "      <td>Laptop &amp; Accessory</td>\n",
       "      <td>3</td>\n",
       "      <td>Divorced</td>\n",
       "      <td>2.0</td>\n",
       "      <td>0</td>\n",
       "      <td>8.0</td>\n",
       "      <td>161.62</td>\n",
       "      <td>0</td>\n",
       "    </tr>\n",
       "    <tr>\n",
       "      <th>2957</th>\n",
       "      <td>0.0</td>\n",
       "      <td>12.0</td>\n",
       "      <td>3.0</td>\n",
       "      <td>Mobile</td>\n",
       "      <td>3</td>\n",
       "      <td>Divorced</td>\n",
       "      <td>1.0</td>\n",
       "      <td>0</td>\n",
       "      <td>2.0</td>\n",
       "      <td>127.73</td>\n",
       "      <td>0</td>\n",
       "    </tr>\n",
       "  </tbody>\n",
       "</table>\n",
       "</div>"
      ],
      "text/plain": [
       "      Tenure  WarehouseToHome  NumberOfDeviceRegistered    PreferedOrderCat  \\\n",
       "2583    29.0              6.0                       3.0  Laptop & Accessory   \n",
       "242      4.0             11.0                       3.0        Mobile Phone   \n",
       "2277     1.0             30.0                       5.0  Laptop & Accessory   \n",
       "2316     5.0             10.0                       4.0  Laptop & Accessory   \n",
       "2957     0.0             12.0                       3.0              Mobile   \n",
       "\n",
       "      SatisfactionScore MaritalStatus  NumberOfAddress  Complain  \\\n",
       "2583                  3       Married              2.0         0   \n",
       "242                   1       Married              1.0         1   \n",
       "2277                  1       Married              9.0         1   \n",
       "2316                  3      Divorced              2.0         0   \n",
       "2957                  3      Divorced              1.0         0   \n",
       "\n",
       "      DaySinceLastOrder  CashbackAmount  Churn  \n",
       "2583                9.0          163.06      0  \n",
       "242                 3.0          148.21      0  \n",
       "2277                1.0          166.57      0  \n",
       "2316                8.0          161.62      0  \n",
       "2957                2.0          127.73      0  "
      ]
     },
     "execution_count": 427,
     "metadata": {},
     "output_type": "execute_result"
    }
   ],
   "source": [
    "## Combine the oversampling result with the df\n",
    "\n",
    "df_Oversample = pd.concat([non_churn, churn_oversample])\n",
    "df_Oversample.head()"
   ]
  },
  {
   "cell_type": "code",
   "execution_count": 428,
   "metadata": {},
   "outputs": [
    {
     "data": {
      "text/plain": [
       "0    2613\n",
       "1    2613\n",
       "Name: Churn, dtype: int64"
      ]
     },
     "execution_count": 428,
     "metadata": {},
     "output_type": "execute_result"
    }
   ],
   "source": [
    "## Count each class again\n",
    "\n",
    "df_Oversample['Churn'].value_counts()"
   ]
  },
  {
   "cell_type": "markdown",
   "metadata": {},
   "source": [
    "Now we have handled the imbalance with oversampling, let's re-run the pipeline for the 3 chosen models."
   ]
  },
  {
   "cell_type": "code",
   "execution_count": 429,
   "metadata": {},
   "outputs": [],
   "source": [
    "## Define X and y from oversampling result\n",
    "\n",
    "X_train_OS = df_Oversample.drop(columns='Churn')\n",
    "y_train_OS = df_Oversample['Churn']"
   ]
  },
  {
   "cell_type": "code",
   "execution_count": 430,
   "metadata": {},
   "outputs": [],
   "source": [
    "## Define algorithm\n",
    "\n",
    "model_DT_OS = DecisionTreeClassifier()\n",
    "model_RF_OS = RandomForestClassifier()\n",
    "model_XGB_OS = XGBClassifier()"
   ]
  },
  {
   "cell_type": "code",
   "execution_count": 431,
   "metadata": {},
   "outputs": [],
   "source": [
    "## Create pipeline for each algorithm\n",
    "\n",
    "PipeLine_XGB_OS = Pipeline([\n",
    "    ('preprocess', preprocessor),\n",
    "    ('algorithm', model_XGB_OS)\n",
    "])\n",
    "\n",
    "PipeLine_DT_OS = Pipeline([\n",
    "    ('preprocess', preprocessor),\n",
    "    ('algorithm', model_DT_OS)\n",
    "])\n",
    "\n",
    "PipeLine_RF_OS = Pipeline([\n",
    "    ('preprocess', preprocessor),\n",
    "    ('algorithm', model_RF_OS)\n",
    "])    "
   ]
  },
  {
   "cell_type": "code",
   "execution_count": 432,
   "metadata": {},
   "outputs": [],
   "source": [
    "## Cross validation on Training and Testing data with Decision Tree algorithm\n",
    "\n",
    "cv_DT_OS_tr = Cross_Val(PipeLine_DT_OS, X_train_OS, y_train_OS, 'DT+OS Training') ## Training\n",
    "cv_DT_OS_ts = Cross_Val(PipeLine_DT_OS, X_test_OL, y_test_OL, 'DT+OS Testing') ## Testing"
   ]
  },
  {
   "cell_type": "code",
   "execution_count": 433,
   "metadata": {},
   "outputs": [
    {
     "data": {
      "text/html": [
       "<div>\n",
       "<style scoped>\n",
       "    .dataframe tbody tr th:only-of-type {\n",
       "        vertical-align: middle;\n",
       "    }\n",
       "\n",
       "    .dataframe tbody tr th {\n",
       "        vertical-align: top;\n",
       "    }\n",
       "\n",
       "    .dataframe thead th {\n",
       "        text-align: right;\n",
       "    }\n",
       "</style>\n",
       "<table border=\"1\" class=\"dataframe\">\n",
       "  <thead>\n",
       "    <tr style=\"text-align: right;\">\n",
       "      <th></th>\n",
       "      <th>DT without Outlier Training CV (Mean)</th>\n",
       "      <th>DT without Outlier Testing CV (Mean)</th>\n",
       "      <th>DT+OS Training CV (Mean)</th>\n",
       "      <th>DT+OS Testing CV (Mean)</th>\n",
       "    </tr>\n",
       "  </thead>\n",
       "  <tbody>\n",
       "    <tr>\n",
       "      <th>Accuracy</th>\n",
       "      <td>0.912117</td>\n",
       "      <td>0.868225</td>\n",
       "      <td>0.956189</td>\n",
       "      <td>0.872023</td>\n",
       "    </tr>\n",
       "    <tr>\n",
       "      <th>Precision</th>\n",
       "      <td>0.753100</td>\n",
       "      <td>0.629538</td>\n",
       "      <td>0.589762</td>\n",
       "      <td>0.605714</td>\n",
       "    </tr>\n",
       "    <tr>\n",
       "      <th>Recall</th>\n",
       "      <td>0.765956</td>\n",
       "      <td>0.632627</td>\n",
       "      <td>0.594067</td>\n",
       "      <td>0.589181</td>\n",
       "    </tr>\n",
       "    <tr>\n",
       "      <th>F1</th>\n",
       "      <td>0.761183</td>\n",
       "      <td>0.607322</td>\n",
       "      <td>0.591983</td>\n",
       "      <td>0.630851</td>\n",
       "    </tr>\n",
       "  </tbody>\n",
       "</table>\n",
       "</div>"
      ],
      "text/plain": [
       "           DT without Outlier Training CV (Mean)  \\\n",
       "Accuracy                                0.912117   \n",
       "Precision                               0.753100   \n",
       "Recall                                  0.765956   \n",
       "F1                                      0.761183   \n",
       "\n",
       "           DT without Outlier Testing CV (Mean)  DT+OS Training CV (Mean)  \\\n",
       "Accuracy                               0.868225                  0.956189   \n",
       "Precision                              0.629538                  0.589762   \n",
       "Recall                                 0.632627                  0.594067   \n",
       "F1                                     0.607322                  0.591983   \n",
       "\n",
       "           DT+OS Testing CV (Mean)  \n",
       "Accuracy                  0.872023  \n",
       "Precision                 0.605714  \n",
       "Recall                    0.589181  \n",
       "F1                        0.630851  "
      ]
     },
     "execution_count": 433,
     "metadata": {},
     "output_type": "execute_result"
    }
   ],
   "source": [
    "## Combine cross validation result of training and testing\n",
    "\n",
    "pd.concat([cv_DT_OL_tr, cv_DT_OL_ts, cv_DT_OS_tr, cv_DT_OS_ts], axis=1)"
   ]
  },
  {
   "cell_type": "code",
   "execution_count": 434,
   "metadata": {},
   "outputs": [],
   "source": [
    "## Cross validation on Training and Testing data with Random Forest algorithm\n",
    "\n",
    "cv_RF_OS_tr = Cross_Val(PipeLine_RF_OS, X_train_OS, y_train_OS, 'RF+OS Training') ## Training\n",
    "cv_RF_OS_ts = Cross_Val(PipeLine_RF_OS, X_test_OL, y_test_OL, 'RF+OS Testing') ## Testing"
   ]
  },
  {
   "cell_type": "code",
   "execution_count": 435,
   "metadata": {},
   "outputs": [
    {
     "data": {
      "text/html": [
       "<div>\n",
       "<style scoped>\n",
       "    .dataframe tbody tr th:only-of-type {\n",
       "        vertical-align: middle;\n",
       "    }\n",
       "\n",
       "    .dataframe tbody tr th {\n",
       "        vertical-align: top;\n",
       "    }\n",
       "\n",
       "    .dataframe thead th {\n",
       "        text-align: right;\n",
       "    }\n",
       "</style>\n",
       "<table border=\"1\" class=\"dataframe\">\n",
       "  <thead>\n",
       "    <tr style=\"text-align: right;\">\n",
       "      <th></th>\n",
       "      <th>RF without Outlier Training CV (Mean)</th>\n",
       "      <th>RF without Outlier Testing CV (Mean)</th>\n",
       "      <th>RF+OS Training CV (Mean)</th>\n",
       "      <th>RF+OS Testing CV (Mean)</th>\n",
       "    </tr>\n",
       "  </thead>\n",
       "  <tbody>\n",
       "    <tr>\n",
       "      <th>Accuracy</th>\n",
       "      <td>0.930516</td>\n",
       "      <td>0.887213</td>\n",
       "      <td>0.969580</td>\n",
       "      <td>0.884689</td>\n",
       "    </tr>\n",
       "    <tr>\n",
       "      <th>Precision</th>\n",
       "      <td>0.864459</td>\n",
       "      <td>0.763595</td>\n",
       "      <td>0.589818</td>\n",
       "      <td>0.772222</td>\n",
       "    </tr>\n",
       "    <tr>\n",
       "      <th>Recall</th>\n",
       "      <td>0.727437</td>\n",
       "      <td>0.488011</td>\n",
       "      <td>0.595790</td>\n",
       "      <td>0.462899</td>\n",
       "    </tr>\n",
       "    <tr>\n",
       "      <th>F1</th>\n",
       "      <td>0.779611</td>\n",
       "      <td>0.610807</td>\n",
       "      <td>0.592347</td>\n",
       "      <td>0.610106</td>\n",
       "    </tr>\n",
       "  </tbody>\n",
       "</table>\n",
       "</div>"
      ],
      "text/plain": [
       "           RF without Outlier Training CV (Mean)  \\\n",
       "Accuracy                                0.930516   \n",
       "Precision                               0.864459   \n",
       "Recall                                  0.727437   \n",
       "F1                                      0.779611   \n",
       "\n",
       "           RF without Outlier Testing CV (Mean)  RF+OS Training CV (Mean)  \\\n",
       "Accuracy                               0.887213                  0.969580   \n",
       "Precision                              0.763595                  0.589818   \n",
       "Recall                                 0.488011                  0.595790   \n",
       "F1                                     0.610807                  0.592347   \n",
       "\n",
       "           RF+OS Testing CV (Mean)  \n",
       "Accuracy                  0.884689  \n",
       "Precision                 0.772222  \n",
       "Recall                    0.462899  \n",
       "F1                        0.610106  "
      ]
     },
     "execution_count": 435,
     "metadata": {},
     "output_type": "execute_result"
    }
   ],
   "source": [
    "## Combine cross validation result of training and testing\n",
    "\n",
    "pd.concat([cv_RF_OL_tr, cv_RF_OL_ts, cv_RF_OS_tr, cv_RF_OS_ts], axis=1)"
   ]
  },
  {
   "cell_type": "code",
   "execution_count": 436,
   "metadata": {},
   "outputs": [],
   "source": [
    "## Cross validation on Training and Testing data with XGBoost algorithm\n",
    "\n",
    "cv_XGB_OS_tr = Cross_Val(PipeLine_XGB_OS, X_train_OS, y_train_OS, 'XGB+OS Training') ## Training\n",
    "cv_XGB_OS_ts = Cross_Val(PipeLine_XGB_OS, X_test_OL, y_test_OL, 'XGB+OS Testing') ## Testing"
   ]
  },
  {
   "cell_type": "code",
   "execution_count": 437,
   "metadata": {},
   "outputs": [
    {
     "data": {
      "text/html": [
       "<div>\n",
       "<style scoped>\n",
       "    .dataframe tbody tr th:only-of-type {\n",
       "        vertical-align: middle;\n",
       "    }\n",
       "\n",
       "    .dataframe tbody tr th {\n",
       "        vertical-align: top;\n",
       "    }\n",
       "\n",
       "    .dataframe thead th {\n",
       "        text-align: right;\n",
       "    }\n",
       "</style>\n",
       "<table border=\"1\" class=\"dataframe\">\n",
       "  <thead>\n",
       "    <tr style=\"text-align: right;\">\n",
       "      <th></th>\n",
       "      <th>XGB without Outlier Training CV (Mean)</th>\n",
       "      <th>XGB without Outlier Testing CV (Mean)</th>\n",
       "      <th>XGB+OS Training CV (Mean)</th>\n",
       "      <th>XGB+OS Testing CV (Mean)</th>\n",
       "    </tr>\n",
       "  </thead>\n",
       "  <tbody>\n",
       "    <tr>\n",
       "      <th>Accuracy</th>\n",
       "      <td>0.935914</td>\n",
       "      <td>0.883399</td>\n",
       "      <td>0.963651</td>\n",
       "      <td>0.883399</td>\n",
       "    </tr>\n",
       "    <tr>\n",
       "      <th>Precision</th>\n",
       "      <td>0.849576</td>\n",
       "      <td>0.686873</td>\n",
       "      <td>0.590859</td>\n",
       "      <td>0.686873</td>\n",
       "    </tr>\n",
       "    <tr>\n",
       "      <th>Recall</th>\n",
       "      <td>0.764374</td>\n",
       "      <td>0.577486</td>\n",
       "      <td>0.595981</td>\n",
       "      <td>0.577486</td>\n",
       "    </tr>\n",
       "    <tr>\n",
       "      <th>F1</th>\n",
       "      <td>0.803793</td>\n",
       "      <td>0.625157</td>\n",
       "      <td>0.593313</td>\n",
       "      <td>0.625157</td>\n",
       "    </tr>\n",
       "  </tbody>\n",
       "</table>\n",
       "</div>"
      ],
      "text/plain": [
       "           XGB without Outlier Training CV (Mean)  \\\n",
       "Accuracy                                 0.935914   \n",
       "Precision                                0.849576   \n",
       "Recall                                   0.764374   \n",
       "F1                                       0.803793   \n",
       "\n",
       "           XGB without Outlier Testing CV (Mean)  XGB+OS Training CV (Mean)  \\\n",
       "Accuracy                                0.883399                   0.963651   \n",
       "Precision                               0.686873                   0.590859   \n",
       "Recall                                  0.577486                   0.595981   \n",
       "F1                                      0.625157                   0.593313   \n",
       "\n",
       "           XGB+OS Testing CV (Mean)  \n",
       "Accuracy                   0.883399  \n",
       "Precision                  0.686873  \n",
       "Recall                     0.577486  \n",
       "F1                         0.625157  "
      ]
     },
     "execution_count": 437,
     "metadata": {},
     "output_type": "execute_result"
    }
   ],
   "source": [
    "## Combine cross validation result of training and testing\n",
    "\n",
    "pd.concat([cv_XGB_OL_tr, cv_XGB_OL_ts, cv_XGB_OS_tr, cv_XGB_OS_ts], axis=1)"
   ]
  },
  {
   "cell_type": "markdown",
   "metadata": {},
   "source": [
    "### **SMOTE**"
   ]
  },
  {
   "cell_type": "code",
   "execution_count": 438,
   "metadata": {},
   "outputs": [],
   "source": [
    "## Define algorithm that will be use\n",
    "\n",
    "model_DT_SM = DecisionTreeClassifier()\n",
    "model_RF_SM = RandomForestClassifier()\n",
    "model_XGB_SM = XGBClassifier()"
   ]
  },
  {
   "cell_type": "code",
   "execution_count": 439,
   "metadata": {},
   "outputs": [],
   "source": [
    "## Create SMOTE\n",
    "\n",
    "SM = SMOTE(random_state=666)"
   ]
  },
  {
   "cell_type": "code",
   "execution_count": 440,
   "metadata": {},
   "outputs": [],
   "source": [
    "## Create pipeline for each algorithm with SMOTE\n",
    "\n",
    "PipeLine_XGB_SM = imbpipeline([\n",
    "    ('preprocess', preprocessor),\n",
    "    ('smote', SM),\n",
    "    ('algorithm', model_XGB_SM)\n",
    "])\n",
    "\n",
    "PipeLine_DT_SM = imbpipeline([\n",
    "    ('preprocess', preprocessor),\n",
    "    ('smote', SM),\n",
    "    ('algorithm', model_DT_SM)\n",
    "])\n",
    "\n",
    "PipeLine_RF_SM = imbpipeline([\n",
    "    ('preprocess', preprocessor),\n",
    "    ('smote', SM),\n",
    "    ('algorithm', model_RF_SM)\n",
    "])    "
   ]
  },
  {
   "cell_type": "code",
   "execution_count": 441,
   "metadata": {},
   "outputs": [],
   "source": [
    "## Cross validation on Training and Testing data with Decision Tree algorithm\n",
    "\n",
    "cv_DT_SM_tr = Cross_Val(PipeLine_DT_SM, X_train_OL, y_train_OL, 'DT+SM Training') ## Training\n",
    "cv_DT_SM_ts = Cross_Val(PipeLine_DT_SM, X_test_OL, y_test_OL, 'DT+SM Testing') ## Testing"
   ]
  },
  {
   "cell_type": "code",
   "execution_count": 442,
   "metadata": {},
   "outputs": [
    {
     "data": {
      "text/html": [
       "<div>\n",
       "<style scoped>\n",
       "    .dataframe tbody tr th:only-of-type {\n",
       "        vertical-align: middle;\n",
       "    }\n",
       "\n",
       "    .dataframe tbody tr th {\n",
       "        vertical-align: top;\n",
       "    }\n",
       "\n",
       "    .dataframe thead th {\n",
       "        text-align: right;\n",
       "    }\n",
       "</style>\n",
       "<table border=\"1\" class=\"dataframe\">\n",
       "  <thead>\n",
       "    <tr style=\"text-align: right;\">\n",
       "      <th></th>\n",
       "      <th>DT without Outlier Training CV (Mean)</th>\n",
       "      <th>DT without Outlier Testing CV (Mean)</th>\n",
       "      <th>DT+OS Training CV (Mean)</th>\n",
       "      <th>DT+OS Testing CV (Mean)</th>\n",
       "      <th>DT+SM Training CV (Mean)</th>\n",
       "      <th>DT+SM Testing CV (Mean)</th>\n",
       "    </tr>\n",
       "  </thead>\n",
       "  <tbody>\n",
       "    <tr>\n",
       "      <th>Accuracy</th>\n",
       "      <td>0.912117</td>\n",
       "      <td>0.868225</td>\n",
       "      <td>0.956189</td>\n",
       "      <td>0.872023</td>\n",
       "      <td>0.897523</td>\n",
       "      <td>0.830202</td>\n",
       "    </tr>\n",
       "    <tr>\n",
       "      <th>Precision</th>\n",
       "      <td>0.753100</td>\n",
       "      <td>0.629538</td>\n",
       "      <td>0.589762</td>\n",
       "      <td>0.605714</td>\n",
       "      <td>0.680366</td>\n",
       "      <td>0.514380</td>\n",
       "    </tr>\n",
       "    <tr>\n",
       "      <th>Recall</th>\n",
       "      <td>0.765956</td>\n",
       "      <td>0.632627</td>\n",
       "      <td>0.594067</td>\n",
       "      <td>0.589181</td>\n",
       "      <td>0.716776</td>\n",
       "      <td>0.549681</td>\n",
       "    </tr>\n",
       "    <tr>\n",
       "      <th>F1</th>\n",
       "      <td>0.761183</td>\n",
       "      <td>0.607322</td>\n",
       "      <td>0.591983</td>\n",
       "      <td>0.630851</td>\n",
       "      <td>0.710215</td>\n",
       "      <td>0.510963</td>\n",
       "    </tr>\n",
       "  </tbody>\n",
       "</table>\n",
       "</div>"
      ],
      "text/plain": [
       "           DT without Outlier Training CV (Mean)  \\\n",
       "Accuracy                                0.912117   \n",
       "Precision                               0.753100   \n",
       "Recall                                  0.765956   \n",
       "F1                                      0.761183   \n",
       "\n",
       "           DT without Outlier Testing CV (Mean)  DT+OS Training CV (Mean)  \\\n",
       "Accuracy                               0.868225                  0.956189   \n",
       "Precision                              0.629538                  0.589762   \n",
       "Recall                                 0.632627                  0.594067   \n",
       "F1                                     0.607322                  0.591983   \n",
       "\n",
       "           DT+OS Testing CV (Mean)  DT+SM Training CV (Mean)  \\\n",
       "Accuracy                  0.872023                  0.897523   \n",
       "Precision                 0.605714                  0.680366   \n",
       "Recall                    0.589181                  0.716776   \n",
       "F1                        0.630851                  0.710215   \n",
       "\n",
       "           DT+SM Testing CV (Mean)  \n",
       "Accuracy                  0.830202  \n",
       "Precision                 0.514380  \n",
       "Recall                    0.549681  \n",
       "F1                        0.510963  "
      ]
     },
     "execution_count": 442,
     "metadata": {},
     "output_type": "execute_result"
    }
   ],
   "source": [
    "## Combine cross validation result of training and testing\n",
    "\n",
    "pd.concat([cv_DT_OL_tr, cv_DT_OL_ts, cv_DT_OS_tr, cv_DT_OS_ts, cv_DT_SM_tr, cv_DT_SM_ts], axis=1)"
   ]
  },
  {
   "cell_type": "code",
   "execution_count": 443,
   "metadata": {},
   "outputs": [],
   "source": [
    "## Cross validation on Training and Testing data with Random Forest algorithm\n",
    "\n",
    "cv_RF_SM_tr = Cross_Val(PipeLine_RF_SM, X_train_OL, y_train_OL, 'RF+SM Training') ## Training\n",
    "cv_RF_SM_ts = Cross_Val(PipeLine_RF_SM, X_test_OL, y_test_OL, 'RF+SM Testing') ## Testing"
   ]
  },
  {
   "cell_type": "code",
   "execution_count": 444,
   "metadata": {},
   "outputs": [
    {
     "data": {
      "text/html": [
       "<div>\n",
       "<style scoped>\n",
       "    .dataframe tbody tr th:only-of-type {\n",
       "        vertical-align: middle;\n",
       "    }\n",
       "\n",
       "    .dataframe tbody tr th {\n",
       "        vertical-align: top;\n",
       "    }\n",
       "\n",
       "    .dataframe thead th {\n",
       "        text-align: right;\n",
       "    }\n",
       "</style>\n",
       "<table border=\"1\" class=\"dataframe\">\n",
       "  <thead>\n",
       "    <tr style=\"text-align: right;\">\n",
       "      <th></th>\n",
       "      <th>RF without Outlier Training CV (Mean)</th>\n",
       "      <th>RF without Outlier Testing CV (Mean)</th>\n",
       "      <th>RF+OS Training CV (Mean)</th>\n",
       "      <th>RF+OS Testing CV (Mean)</th>\n",
       "      <th>RF+SM Training CV (Mean)</th>\n",
       "      <th>RF+SM Testing CV (Mean)</th>\n",
       "    </tr>\n",
       "  </thead>\n",
       "  <tbody>\n",
       "    <tr>\n",
       "      <th>Accuracy</th>\n",
       "      <td>0.930516</td>\n",
       "      <td>0.887213</td>\n",
       "      <td>0.969580</td>\n",
       "      <td>0.884689</td>\n",
       "      <td>0.929883</td>\n",
       "      <td>0.887213</td>\n",
       "    </tr>\n",
       "    <tr>\n",
       "      <th>Precision</th>\n",
       "      <td>0.864459</td>\n",
       "      <td>0.763595</td>\n",
       "      <td>0.589818</td>\n",
       "      <td>0.772222</td>\n",
       "      <td>0.816725</td>\n",
       "      <td>0.699231</td>\n",
       "    </tr>\n",
       "    <tr>\n",
       "      <th>Recall</th>\n",
       "      <td>0.727437</td>\n",
       "      <td>0.488011</td>\n",
       "      <td>0.595790</td>\n",
       "      <td>0.462899</td>\n",
       "      <td>0.732750</td>\n",
       "      <td>0.525428</td>\n",
       "    </tr>\n",
       "    <tr>\n",
       "      <th>F1</th>\n",
       "      <td>0.779611</td>\n",
       "      <td>0.610807</td>\n",
       "      <td>0.592347</td>\n",
       "      <td>0.610106</td>\n",
       "      <td>0.786696</td>\n",
       "      <td>0.602553</td>\n",
       "    </tr>\n",
       "  </tbody>\n",
       "</table>\n",
       "</div>"
      ],
      "text/plain": [
       "           RF without Outlier Training CV (Mean)  \\\n",
       "Accuracy                                0.930516   \n",
       "Precision                               0.864459   \n",
       "Recall                                  0.727437   \n",
       "F1                                      0.779611   \n",
       "\n",
       "           RF without Outlier Testing CV (Mean)  RF+OS Training CV (Mean)  \\\n",
       "Accuracy                               0.887213                  0.969580   \n",
       "Precision                              0.763595                  0.589818   \n",
       "Recall                                 0.488011                  0.595790   \n",
       "F1                                     0.610807                  0.592347   \n",
       "\n",
       "           RF+OS Testing CV (Mean)  RF+SM Training CV (Mean)  \\\n",
       "Accuracy                  0.884689                  0.929883   \n",
       "Precision                 0.772222                  0.816725   \n",
       "Recall                    0.462899                  0.732750   \n",
       "F1                        0.610106                  0.786696   \n",
       "\n",
       "           RF+SM Testing CV (Mean)  \n",
       "Accuracy                  0.887213  \n",
       "Precision                 0.699231  \n",
       "Recall                    0.525428  \n",
       "F1                        0.602553  "
      ]
     },
     "execution_count": 444,
     "metadata": {},
     "output_type": "execute_result"
    }
   ],
   "source": [
    "## Combine cross validation result of training and testing\n",
    "\n",
    "pd.concat([cv_RF_OL_tr, cv_RF_OL_ts, cv_RF_OS_tr, cv_RF_OS_ts, cv_RF_SM_tr, cv_RF_SM_ts], axis=1)"
   ]
  },
  {
   "cell_type": "code",
   "execution_count": 445,
   "metadata": {},
   "outputs": [],
   "source": [
    "## Cross validation on Training and Testing data with XGBoost algorithm\n",
    "\n",
    "cv_XGB_SM_tr = Cross_Val(PipeLine_XGB_SM, X_train_OL, y_train_OL, 'XGB+SM Training') ## Training\n",
    "cv_XGB_SM_ts = Cross_Val(PipeLine_XGB_SM, X_test_OL, y_test_OL, 'XGB+SM Testing') ## Testing"
   ]
  },
  {
   "cell_type": "code",
   "execution_count": 446,
   "metadata": {},
   "outputs": [
    {
     "data": {
      "text/html": [
       "<div>\n",
       "<style scoped>\n",
       "    .dataframe tbody tr th:only-of-type {\n",
       "        vertical-align: middle;\n",
       "    }\n",
       "\n",
       "    .dataframe tbody tr th {\n",
       "        vertical-align: top;\n",
       "    }\n",
       "\n",
       "    .dataframe thead th {\n",
       "        text-align: right;\n",
       "    }\n",
       "</style>\n",
       "<table border=\"1\" class=\"dataframe\">\n",
       "  <thead>\n",
       "    <tr style=\"text-align: right;\">\n",
       "      <th></th>\n",
       "      <th>XGB without Outlier Training CV (Mean)</th>\n",
       "      <th>XGB without Outlier Testing CV (Mean)</th>\n",
       "      <th>XGB+OS Training CV (Mean)</th>\n",
       "      <th>XGB+OS Testing CV (Mean)</th>\n",
       "      <th>XGB+SM Training CV (Mean)</th>\n",
       "      <th>XGB+SM Testing CV (Mean)</th>\n",
       "    </tr>\n",
       "  </thead>\n",
       "  <tbody>\n",
       "    <tr>\n",
       "      <th>Accuracy</th>\n",
       "      <td>0.935914</td>\n",
       "      <td>0.883399</td>\n",
       "      <td>0.963651</td>\n",
       "      <td>0.883399</td>\n",
       "      <td>0.936232</td>\n",
       "      <td>0.874555</td>\n",
       "    </tr>\n",
       "    <tr>\n",
       "      <th>Precision</th>\n",
       "      <td>0.849576</td>\n",
       "      <td>0.686873</td>\n",
       "      <td>0.590859</td>\n",
       "      <td>0.686873</td>\n",
       "      <td>0.835873</td>\n",
       "      <td>0.645491</td>\n",
       "    </tr>\n",
       "    <tr>\n",
       "      <th>Recall</th>\n",
       "      <td>0.764374</td>\n",
       "      <td>0.577486</td>\n",
       "      <td>0.595981</td>\n",
       "      <td>0.577486</td>\n",
       "      <td>0.788095</td>\n",
       "      <td>0.593960</td>\n",
       "    </tr>\n",
       "    <tr>\n",
       "      <th>F1</th>\n",
       "      <td>0.803793</td>\n",
       "      <td>0.625157</td>\n",
       "      <td>0.593313</td>\n",
       "      <td>0.625157</td>\n",
       "      <td>0.810365</td>\n",
       "      <td>0.616104</td>\n",
       "    </tr>\n",
       "  </tbody>\n",
       "</table>\n",
       "</div>"
      ],
      "text/plain": [
       "           XGB without Outlier Training CV (Mean)  \\\n",
       "Accuracy                                 0.935914   \n",
       "Precision                                0.849576   \n",
       "Recall                                   0.764374   \n",
       "F1                                       0.803793   \n",
       "\n",
       "           XGB without Outlier Testing CV (Mean)  XGB+OS Training CV (Mean)  \\\n",
       "Accuracy                                0.883399                   0.963651   \n",
       "Precision                               0.686873                   0.590859   \n",
       "Recall                                  0.577486                   0.595981   \n",
       "F1                                      0.625157                   0.593313   \n",
       "\n",
       "           XGB+OS Testing CV (Mean)  XGB+SM Training CV (Mean)  \\\n",
       "Accuracy                   0.883399                   0.936232   \n",
       "Precision                  0.686873                   0.835873   \n",
       "Recall                     0.577486                   0.788095   \n",
       "F1                         0.625157                   0.810365   \n",
       "\n",
       "           XGB+SM Testing CV (Mean)  \n",
       "Accuracy                   0.874555  \n",
       "Precision                  0.645491  \n",
       "Recall                     0.593960  \n",
       "F1                         0.616104  "
      ]
     },
     "execution_count": 446,
     "metadata": {},
     "output_type": "execute_result"
    }
   ],
   "source": [
    "## Combine cross validation result of training and testing\n",
    "\n",
    "pd.concat([cv_XGB_OL_tr, cv_XGB_OL_ts, cv_XGB_OS_tr, cv_XGB_OS_ts, cv_XGB_SM_tr, cv_XGB_SM_ts], axis=1)"
   ]
  },
  {
   "cell_type": "code",
   "execution_count": 447,
   "metadata": {},
   "outputs": [
    {
     "data": {
      "text/html": [
       "<div>\n",
       "<style scoped>\n",
       "    .dataframe tbody tr th:only-of-type {\n",
       "        vertical-align: middle;\n",
       "    }\n",
       "\n",
       "    .dataframe tbody tr th {\n",
       "        vertical-align: top;\n",
       "    }\n",
       "\n",
       "    .dataframe thead th {\n",
       "        text-align: right;\n",
       "    }\n",
       "</style>\n",
       "<table border=\"1\" class=\"dataframe\">\n",
       "  <thead>\n",
       "    <tr style=\"text-align: right;\">\n",
       "      <th></th>\n",
       "      <th>F1</th>\n",
       "    </tr>\n",
       "  </thead>\n",
       "  <tbody>\n",
       "    <tr>\n",
       "      <th>DT+OS Testing CV (Mean)</th>\n",
       "      <td>0.630851</td>\n",
       "    </tr>\n",
       "    <tr>\n",
       "      <th>XGB+OS Testing CV (Mean)</th>\n",
       "      <td>0.625157</td>\n",
       "    </tr>\n",
       "    <tr>\n",
       "      <th>XGB Testing CV (Mean)</th>\n",
       "      <td>0.618490</td>\n",
       "    </tr>\n",
       "    <tr>\n",
       "      <th>XGB+SM Testing CV (Mean)</th>\n",
       "      <td>0.616104</td>\n",
       "    </tr>\n",
       "    <tr>\n",
       "      <th>RF+OS Testing CV (Mean)</th>\n",
       "      <td>0.610106</td>\n",
       "    </tr>\n",
       "    <tr>\n",
       "      <th>DT without Outlier Testing CV (Mean)</th>\n",
       "      <td>0.607322</td>\n",
       "    </tr>\n",
       "    <tr>\n",
       "      <th>RF+SM Testing CV (Mean)</th>\n",
       "      <td>0.602553</td>\n",
       "    </tr>\n",
       "    <tr>\n",
       "      <th>RF Testing CV (Mean)</th>\n",
       "      <td>0.580615</td>\n",
       "    </tr>\n",
       "    <tr>\n",
       "      <th>DT+SM Testing CV (Mean)</th>\n",
       "      <td>0.510963</td>\n",
       "    </tr>\n",
       "  </tbody>\n",
       "</table>\n",
       "</div>"
      ],
      "text/plain": [
       "                                            F1\n",
       "DT+OS Testing CV (Mean)               0.630851\n",
       "XGB+OS Testing CV (Mean)              0.625157\n",
       "XGB Testing CV (Mean)                 0.618490\n",
       "XGB+SM Testing CV (Mean)              0.616104\n",
       "RF+OS Testing CV (Mean)               0.610106\n",
       "DT without Outlier Testing CV (Mean)  0.607322\n",
       "RF+SM Testing CV (Mean)               0.602553\n",
       "RF Testing CV (Mean)                  0.580615\n",
       "DT+SM Testing CV (Mean)               0.510963"
      ]
     },
     "execution_count": 447,
     "metadata": {},
     "output_type": "execute_result"
    }
   ],
   "source": [
    "## Combine testing result of each algorithm with Oversampling, SMOTE, and base with handled outlier.\n",
    "\n",
    "pd.concat([cv_DT_OL_ts, cv_DT_OS_ts, cv_DT_SM_ts, cv_RF_ts, cv_RF_OS_ts, cv_RF_SM_ts, cv_XGB_ts, cv_XGB_OS_ts, cv_XGB_SM_ts], axis=1).T[['F1']].sort_values('F1', ascending=False)"
   ]
  },
  {
   "cell_type": "markdown",
   "metadata": {},
   "source": [
    "We can see that now the best performing model for the test dataset is XGboost with SMOTE on handled outliers dataset. Let's now check the classification report on the model before we proceed with hyperparameter tuning. "
   ]
  },
  {
   "cell_type": "code",
   "execution_count": 448,
   "metadata": {},
   "outputs": [],
   "source": [
    "## Create def for evaluation matrix\n",
    "\n",
    "def Eva_Matrix_Base_Class(model, X_train, X_test, y_train, y_test, Nama):\n",
    "    Model = model.fit(X_train, y_train)\n",
    "    y_pred_train = model.predict(X_train)\n",
    "    Acc_train = accuracy_score(y_train, y_pred_train)\n",
    "    Rec_train = recall_score(y_train, y_pred_train)\n",
    "    Prec_train = precision_score(y_train, y_pred_train)\n",
    "    F1_train = Prec = f1_score(y_train, y_pred_train)\n",
    "    y_pred_test = model.predict(X_test)\n",
    "    Acc_test = accuracy_score(y_test, y_pred_test)\n",
    "    Rec_test = recall_score(y_test, y_pred_test)\n",
    "    Prec_test = precision_score(y_test, y_pred_test)\n",
    "    F1_test = Prec = f1_score(y_test, y_pred_test)\n",
    "\n",
    "    data = {\n",
    "    Nama + ' Training' : [Acc_train, Rec_train, Prec_train, F1_train],\n",
    "    Nama + ' Testing' : [Acc_test, Rec_test, Prec_test, F1_test]\n",
    "}\n",
    "\n",
    "\n",
    "    df = pd.DataFrame(data, index=['Accuracy', 'Recall', 'Precision', 'F1'])\n",
    "    cr_tr = classification_report(y_train, y_pred_train)\n",
    "    cm_tr = confusion_matrix(y_train, y_pred_train, labels=[1,0])\n",
    "    df_tr = pd.DataFrame(data = cm_tr, columns=['Pred 1', 'Pred 0'], index=['Akt 1', 'Akt 0'])\n",
    "    cr_ts = classification_report(y_test, y_pred_test)\n",
    "    cm_ts = confusion_matrix(y_test, y_pred_test, labels=[1,0])\n",
    "    df_ts = pd.DataFrame(data = cm_ts, columns=['Pred 1', 'Pred 0'], index=['Akt 1', 'Akt 0'])\n",
    "\n",
    "\n",
    "    return df, cr_tr, df_tr, cr_ts, df_ts"
   ]
  },
  {
   "cell_type": "code",
   "execution_count": 449,
   "metadata": {},
   "outputs": [],
   "source": [
    "## Model fitting and evaluation\n",
    "\n",
    "df_XGB_SM, cr_XGB_SM_tr, cm_XGB_SM_tr, cr_XGB_SM_ts, cm_XGB_SM_ts =Eva_Matrix_Base_Class(PipeLine_XGB_SM, X_train_OL, X_test_OL, y_train_OL, y_test_OL, \"XGBoost with SMOTE\")"
   ]
  },
  {
   "cell_type": "code",
   "execution_count": 450,
   "metadata": {},
   "outputs": [
    {
     "data": {
      "text/html": [
       "<div>\n",
       "<style scoped>\n",
       "    .dataframe tbody tr th:only-of-type {\n",
       "        vertical-align: middle;\n",
       "    }\n",
       "\n",
       "    .dataframe tbody tr th {\n",
       "        vertical-align: top;\n",
       "    }\n",
       "\n",
       "    .dataframe thead th {\n",
       "        text-align: right;\n",
       "    }\n",
       "</style>\n",
       "<table border=\"1\" class=\"dataframe\">\n",
       "  <thead>\n",
       "    <tr style=\"text-align: right;\">\n",
       "      <th></th>\n",
       "      <th>XGBoost with SMOTE Training</th>\n",
       "      <th>XGBoost with SMOTE Testing</th>\n",
       "    </tr>\n",
       "  </thead>\n",
       "  <tbody>\n",
       "    <tr>\n",
       "      <th>Accuracy</th>\n",
       "      <td>0.999683</td>\n",
       "      <td>0.926489</td>\n",
       "    </tr>\n",
       "    <tr>\n",
       "      <th>Recall</th>\n",
       "      <td>0.998145</td>\n",
       "      <td>0.822222</td>\n",
       "    </tr>\n",
       "    <tr>\n",
       "      <th>Precision</th>\n",
       "      <td>1.000000</td>\n",
       "      <td>0.765517</td>\n",
       "    </tr>\n",
       "    <tr>\n",
       "      <th>F1</th>\n",
       "      <td>0.999071</td>\n",
       "      <td>0.792857</td>\n",
       "    </tr>\n",
       "  </tbody>\n",
       "</table>\n",
       "</div>"
      ],
      "text/plain": [
       "           XGBoost with SMOTE Training  XGBoost with SMOTE Testing\n",
       "Accuracy                      0.999683                    0.926489\n",
       "Recall                        0.998145                    0.822222\n",
       "Precision                     1.000000                    0.765517\n",
       "F1                            0.999071                    0.792857"
      ]
     },
     "execution_count": 450,
     "metadata": {},
     "output_type": "execute_result"
    }
   ],
   "source": [
    "## Display the evaluation metrics of the model\n",
    "\n",
    "df_XGB_SM"
   ]
  },
  {
   "cell_type": "code",
   "execution_count": 451,
   "metadata": {},
   "outputs": [
    {
     "name": "stdout",
     "output_type": "stream",
     "text": [
      "              precision    recall  f1-score   support\n",
      "\n",
      "           0       0.96      0.95      0.96       654\n",
      "           1       0.77      0.82      0.79       135\n",
      "\n",
      "    accuracy                           0.93       789\n",
      "   macro avg       0.86      0.89      0.87       789\n",
      "weighted avg       0.93      0.93      0.93       789\n",
      "\n"
     ]
    }
   ],
   "source": [
    "## Display the classification report of the model on test data\n",
    "\n",
    "print(cr_XGB_SM_ts)"
   ]
  },
  {
   "cell_type": "code",
   "execution_count": 299,
   "metadata": {},
   "outputs": [
    {
     "data": {
      "text/html": [
       "<div>\n",
       "<style scoped>\n",
       "    .dataframe tbody tr th:only-of-type {\n",
       "        vertical-align: middle;\n",
       "    }\n",
       "\n",
       "    .dataframe tbody tr th {\n",
       "        vertical-align: top;\n",
       "    }\n",
       "\n",
       "    .dataframe thead th {\n",
       "        text-align: right;\n",
       "    }\n",
       "</style>\n",
       "<table border=\"1\" class=\"dataframe\">\n",
       "  <thead>\n",
       "    <tr style=\"text-align: right;\">\n",
       "      <th></th>\n",
       "      <th>Pred 1</th>\n",
       "      <th>Pred 0</th>\n",
       "    </tr>\n",
       "  </thead>\n",
       "  <tbody>\n",
       "    <tr>\n",
       "      <th>Akt 1</th>\n",
       "      <td>110</td>\n",
       "      <td>25</td>\n",
       "    </tr>\n",
       "    <tr>\n",
       "      <th>Akt 0</th>\n",
       "      <td>35</td>\n",
       "      <td>619</td>\n",
       "    </tr>\n",
       "  </tbody>\n",
       "</table>\n",
       "</div>"
      ],
      "text/plain": [
       "       Pred 1  Pred 0\n",
       "Akt 1     110      25\n",
       "Akt 0      35     619"
      ]
     },
     "execution_count": 299,
     "metadata": {},
     "output_type": "execute_result"
    }
   ],
   "source": [
    "## Display the confusion matrix of the model on test data\n",
    "\n",
    "cm_XGB_SM_ts"
   ]
  },
  {
   "cell_type": "markdown",
   "metadata": {},
   "source": [
    "We know that our model got an F1-score of 0.79 for minority class. Let's now try to improve our model performance with hyperparameter tuning"
   ]
  },
  {
   "cell_type": "markdown",
   "metadata": {},
   "source": [
    "### **HyperParameter Tuning**"
   ]
  },
  {
   "cell_type": "code",
   "execution_count": 301,
   "metadata": {},
   "outputs": [],
   "source": [
    "## Define parameters for hyperparameter tuning\n",
    "\n",
    "param_XGB = {\n",
    "    'algorithm__n_estimators' : np.arange(100, 1000,100),\n",
    "    'algorithm__max_depth' : np.arange(1, 10, 1),\n",
    "    'algorithm__learning_rate' : np.arange(0.1, 1, 0.001),\n",
    "    'algorithm__colsample_bytree' : np.arange(1, 10, 1),\n",
    "    'algorithm__subsample' : np.arange(1, 10, 1),\n",
    "    'algorithm__reg_alpha' : [0, 0.001, 0.005, 0.01, 0.05],\n",
    "    'algorithm__reg_lambda' : [0, 0.001, 0.005, 0.01, 0.05]\n",
    "}"
   ]
  },
  {
   "cell_type": "code",
   "execution_count": 302,
   "metadata": {},
   "outputs": [],
   "source": [
    "## Define algorithm, Smote, Kfold, and create pipeline with Smote\n",
    "\n",
    "model_XGB_Tn = XGBClassifier()\n",
    "\n",
    "SM = SMOTE(random_state=666)\n",
    "\n",
    "PipeLine_XGB_Tn = imbpipeline([\n",
    "    ('preprocess', preprocessor),\n",
    "    ('smote', SM),\n",
    "    ('algorithm', model_XGB_Tn)\n",
    "])\n",
    "\n",
    "kf = KFold(n_splits=3)"
   ]
  },
  {
   "cell_type": "code",
   "execution_count": 303,
   "metadata": {},
   "outputs": [
    {
     "name": "stdout",
     "output_type": "stream",
     "text": [
      "Fitting 3 folds for each of 1000000 candidates, totalling 3000000 fits\n"
     ]
    },
    {
     "data": {
      "text/html": [
       "<style>#sk-container-id-1 {color: black;background-color: white;}#sk-container-id-1 pre{padding: 0;}#sk-container-id-1 div.sk-toggleable {background-color: white;}#sk-container-id-1 label.sk-toggleable__label {cursor: pointer;display: block;width: 100%;margin-bottom: 0;padding: 0.3em;box-sizing: border-box;text-align: center;}#sk-container-id-1 label.sk-toggleable__label-arrow:before {content: \"▸\";float: left;margin-right: 0.25em;color: #696969;}#sk-container-id-1 label.sk-toggleable__label-arrow:hover:before {color: black;}#sk-container-id-1 div.sk-estimator:hover label.sk-toggleable__label-arrow:before {color: black;}#sk-container-id-1 div.sk-toggleable__content {max-height: 0;max-width: 0;overflow: hidden;text-align: left;background-color: #f0f8ff;}#sk-container-id-1 div.sk-toggleable__content pre {margin: 0.2em;color: black;border-radius: 0.25em;background-color: #f0f8ff;}#sk-container-id-1 input.sk-toggleable__control:checked~div.sk-toggleable__content {max-height: 200px;max-width: 100%;overflow: auto;}#sk-container-id-1 input.sk-toggleable__control:checked~label.sk-toggleable__label-arrow:before {content: \"▾\";}#sk-container-id-1 div.sk-estimator input.sk-toggleable__control:checked~label.sk-toggleable__label {background-color: #d4ebff;}#sk-container-id-1 div.sk-label input.sk-toggleable__control:checked~label.sk-toggleable__label {background-color: #d4ebff;}#sk-container-id-1 input.sk-hidden--visually {border: 0;clip: rect(1px 1px 1px 1px);clip: rect(1px, 1px, 1px, 1px);height: 1px;margin: -1px;overflow: hidden;padding: 0;position: absolute;width: 1px;}#sk-container-id-1 div.sk-estimator {font-family: monospace;background-color: #f0f8ff;border: 1px dotted black;border-radius: 0.25em;box-sizing: border-box;margin-bottom: 0.5em;}#sk-container-id-1 div.sk-estimator:hover {background-color: #d4ebff;}#sk-container-id-1 div.sk-parallel-item::after {content: \"\";width: 100%;border-bottom: 1px solid gray;flex-grow: 1;}#sk-container-id-1 div.sk-label:hover label.sk-toggleable__label {background-color: #d4ebff;}#sk-container-id-1 div.sk-serial::before {content: \"\";position: absolute;border-left: 1px solid gray;box-sizing: border-box;top: 0;bottom: 0;left: 50%;z-index: 0;}#sk-container-id-1 div.sk-serial {display: flex;flex-direction: column;align-items: center;background-color: white;padding-right: 0.2em;padding-left: 0.2em;position: relative;}#sk-container-id-1 div.sk-item {position: relative;z-index: 1;}#sk-container-id-1 div.sk-parallel {display: flex;align-items: stretch;justify-content: center;background-color: white;position: relative;}#sk-container-id-1 div.sk-item::before, #sk-container-id-1 div.sk-parallel-item::before {content: \"\";position: absolute;border-left: 1px solid gray;box-sizing: border-box;top: 0;bottom: 0;left: 50%;z-index: -1;}#sk-container-id-1 div.sk-parallel-item {display: flex;flex-direction: column;z-index: 1;position: relative;background-color: white;}#sk-container-id-1 div.sk-parallel-item:first-child::after {align-self: flex-end;width: 50%;}#sk-container-id-1 div.sk-parallel-item:last-child::after {align-self: flex-start;width: 50%;}#sk-container-id-1 div.sk-parallel-item:only-child::after {width: 0;}#sk-container-id-1 div.sk-dashed-wrapped {border: 1px dashed gray;margin: 0 0.4em 0.5em 0.4em;box-sizing: border-box;padding-bottom: 0.4em;background-color: white;}#sk-container-id-1 div.sk-label label {font-family: monospace;font-weight: bold;display: inline-block;line-height: 1.2em;}#sk-container-id-1 div.sk-label-container {text-align: center;}#sk-container-id-1 div.sk-container {/* jupyter's `normalize.less` sets `[hidden] { display: none; }` but bootstrap.min.css set `[hidden] { display: none !important; }` so we also need the `!important` here to be able to override the default hidden behavior on the sphinx rendered scikit-learn.org. See: https://github.com/scikit-learn/scikit-learn/issues/21755 */display: inline-block !important;position: relative;}#sk-container-id-1 div.sk-text-repr-fallback {display: none;}</style><div id=\"sk-container-id-1\" class=\"sk-top-container\"><div class=\"sk-text-repr-fallback\"><pre>RandomizedSearchCV(cv=KFold(n_splits=3, random_state=None, shuffle=False),\n",
       "                   estimator=Pipeline(steps=[(&#x27;preprocess&#x27;,\n",
       "                                              ColumnTransformer(remainder=&#x27;passthrough&#x27;,\n",
       "                                                                transformers=[(&#x27;categoric&#x27;,\n",
       "                                                                               Pipeline(steps=[(&#x27;encoder&#x27;,\n",
       "                                                                                                OneHotEncoder(drop=&#x27;first&#x27;))]),\n",
       "                                                                               [&#x27;PreferedOrderCat&#x27;,\n",
       "                                                                                &#x27;MaritalStatus&#x27;])])),\n",
       "                                             (&#x27;smote&#x27;, SMOTE(random_state=666)),\n",
       "                                             (&#x27;algorithm&#x27;,\n",
       "                                              XGBClassifier(base_scor...\n",
       "       0.991, 0.992, 0.993, 0.994, 0.995, 0.996, 0.997, 0.998, 0.999]),\n",
       "                                        &#x27;algorithm__max_depth&#x27;: array([1, 2, 3, 4, 5, 6, 7, 8, 9]),\n",
       "                                        &#x27;algorithm__n_estimators&#x27;: array([100, 200, 300, 400, 500, 600, 700, 800, 900]),\n",
       "                                        &#x27;algorithm__reg_alpha&#x27;: [0, 0.001,\n",
       "                                                                 0.005, 0.01,\n",
       "                                                                 0.05],\n",
       "                                        &#x27;algorithm__reg_lambda&#x27;: [0, 0.001,\n",
       "                                                                  0.005, 0.01,\n",
       "                                                                  0.05],\n",
       "                                        &#x27;algorithm__subsample&#x27;: array([1, 2, 3, 4, 5, 6, 7, 8, 9])},\n",
       "                   random_state=666, scoring=&#x27;f1&#x27;, verbose=1)</pre><b>In a Jupyter environment, please rerun this cell to show the HTML representation or trust the notebook. <br />On GitHub, the HTML representation is unable to render, please try loading this page with nbviewer.org.</b></div><div class=\"sk-container\" hidden><div class=\"sk-item sk-dashed-wrapped\"><div class=\"sk-label-container\"><div class=\"sk-label sk-toggleable\"><input class=\"sk-toggleable__control sk-hidden--visually\" id=\"sk-estimator-id-1\" type=\"checkbox\" ><label for=\"sk-estimator-id-1\" class=\"sk-toggleable__label sk-toggleable__label-arrow\">RandomizedSearchCV</label><div class=\"sk-toggleable__content\"><pre>RandomizedSearchCV(cv=KFold(n_splits=3, random_state=None, shuffle=False),\n",
       "                   estimator=Pipeline(steps=[(&#x27;preprocess&#x27;,\n",
       "                                              ColumnTransformer(remainder=&#x27;passthrough&#x27;,\n",
       "                                                                transformers=[(&#x27;categoric&#x27;,\n",
       "                                                                               Pipeline(steps=[(&#x27;encoder&#x27;,\n",
       "                                                                                                OneHotEncoder(drop=&#x27;first&#x27;))]),\n",
       "                                                                               [&#x27;PreferedOrderCat&#x27;,\n",
       "                                                                                &#x27;MaritalStatus&#x27;])])),\n",
       "                                             (&#x27;smote&#x27;, SMOTE(random_state=666)),\n",
       "                                             (&#x27;algorithm&#x27;,\n",
       "                                              XGBClassifier(base_scor...\n",
       "       0.991, 0.992, 0.993, 0.994, 0.995, 0.996, 0.997, 0.998, 0.999]),\n",
       "                                        &#x27;algorithm__max_depth&#x27;: array([1, 2, 3, 4, 5, 6, 7, 8, 9]),\n",
       "                                        &#x27;algorithm__n_estimators&#x27;: array([100, 200, 300, 400, 500, 600, 700, 800, 900]),\n",
       "                                        &#x27;algorithm__reg_alpha&#x27;: [0, 0.001,\n",
       "                                                                 0.005, 0.01,\n",
       "                                                                 0.05],\n",
       "                                        &#x27;algorithm__reg_lambda&#x27;: [0, 0.001,\n",
       "                                                                  0.005, 0.01,\n",
       "                                                                  0.05],\n",
       "                                        &#x27;algorithm__subsample&#x27;: array([1, 2, 3, 4, 5, 6, 7, 8, 9])},\n",
       "                   random_state=666, scoring=&#x27;f1&#x27;, verbose=1)</pre></div></div></div><div class=\"sk-parallel\"><div class=\"sk-parallel-item\"><div class=\"sk-item\"><div class=\"sk-label-container\"><div class=\"sk-label sk-toggleable\"><input class=\"sk-toggleable__control sk-hidden--visually\" id=\"sk-estimator-id-2\" type=\"checkbox\" ><label for=\"sk-estimator-id-2\" class=\"sk-toggleable__label sk-toggleable__label-arrow\">estimator: Pipeline</label><div class=\"sk-toggleable__content\"><pre>Pipeline(steps=[(&#x27;preprocess&#x27;,\n",
       "                 ColumnTransformer(remainder=&#x27;passthrough&#x27;,\n",
       "                                   transformers=[(&#x27;categoric&#x27;,\n",
       "                                                  Pipeline(steps=[(&#x27;encoder&#x27;,\n",
       "                                                                   OneHotEncoder(drop=&#x27;first&#x27;))]),\n",
       "                                                  [&#x27;PreferedOrderCat&#x27;,\n",
       "                                                   &#x27;MaritalStatus&#x27;])])),\n",
       "                (&#x27;smote&#x27;, SMOTE(random_state=666)),\n",
       "                (&#x27;algorithm&#x27;,\n",
       "                 XGBClassifier(base_score=None, booster=None, callbacks=None,\n",
       "                               colsample_bylevel=None, colsample_bynode=None,\n",
       "                               co...\n",
       "                               gamma=None, gpu_id=None, grow_policy=None,\n",
       "                               importance_type=None,\n",
       "                               interaction_constraints=None, learning_rate=None,\n",
       "                               max_bin=None, max_cat_to_onehot=None,\n",
       "                               max_delta_step=None, max_depth=None,\n",
       "                               max_leaves=None, min_child_weight=None,\n",
       "                               missing=nan, monotone_constraints=None,\n",
       "                               n_estimators=100, n_jobs=None,\n",
       "                               num_parallel_tree=None, predictor=None,\n",
       "                               random_state=None, reg_alpha=None,\n",
       "                               reg_lambda=None, ...))])</pre></div></div></div><div class=\"sk-serial\"><div class=\"sk-item\"><div class=\"sk-serial\"><div class=\"sk-item sk-dashed-wrapped\"><div class=\"sk-label-container\"><div class=\"sk-label sk-toggleable\"><input class=\"sk-toggleable__control sk-hidden--visually\" id=\"sk-estimator-id-3\" type=\"checkbox\" ><label for=\"sk-estimator-id-3\" class=\"sk-toggleable__label sk-toggleable__label-arrow\">preprocess: ColumnTransformer</label><div class=\"sk-toggleable__content\"><pre>ColumnTransformer(remainder=&#x27;passthrough&#x27;,\n",
       "                  transformers=[(&#x27;categoric&#x27;,\n",
       "                                 Pipeline(steps=[(&#x27;encoder&#x27;,\n",
       "                                                  OneHotEncoder(drop=&#x27;first&#x27;))]),\n",
       "                                 [&#x27;PreferedOrderCat&#x27;, &#x27;MaritalStatus&#x27;])])</pre></div></div></div><div class=\"sk-parallel\"><div class=\"sk-parallel-item\"><div class=\"sk-item\"><div class=\"sk-label-container\"><div class=\"sk-label sk-toggleable\"><input class=\"sk-toggleable__control sk-hidden--visually\" id=\"sk-estimator-id-4\" type=\"checkbox\" ><label for=\"sk-estimator-id-4\" class=\"sk-toggleable__label sk-toggleable__label-arrow\">categoric</label><div class=\"sk-toggleable__content\"><pre>[&#x27;PreferedOrderCat&#x27;, &#x27;MaritalStatus&#x27;]</pre></div></div></div><div class=\"sk-serial\"><div class=\"sk-item\"><div class=\"sk-serial\"><div class=\"sk-item\"><div class=\"sk-estimator sk-toggleable\"><input class=\"sk-toggleable__control sk-hidden--visually\" id=\"sk-estimator-id-5\" type=\"checkbox\" ><label for=\"sk-estimator-id-5\" class=\"sk-toggleable__label sk-toggleable__label-arrow\">OneHotEncoder</label><div class=\"sk-toggleable__content\"><pre>OneHotEncoder(drop=&#x27;first&#x27;)</pre></div></div></div></div></div></div></div></div><div class=\"sk-parallel-item\"><div class=\"sk-item\"><div class=\"sk-label-container\"><div class=\"sk-label sk-toggleable\"><input class=\"sk-toggleable__control sk-hidden--visually\" id=\"sk-estimator-id-6\" type=\"checkbox\" ><label for=\"sk-estimator-id-6\" class=\"sk-toggleable__label sk-toggleable__label-arrow\">remainder</label><div class=\"sk-toggleable__content\"><pre>[&#x27;Tenure&#x27;, &#x27;WarehouseToHome&#x27;, &#x27;NumberOfDeviceRegistered&#x27;, &#x27;SatisfactionScore&#x27;, &#x27;NumberOfAddress&#x27;, &#x27;Complain&#x27;, &#x27;DaySinceLastOrder&#x27;, &#x27;CashbackAmount&#x27;]</pre></div></div></div><div class=\"sk-serial\"><div class=\"sk-item\"><div class=\"sk-estimator sk-toggleable\"><input class=\"sk-toggleable__control sk-hidden--visually\" id=\"sk-estimator-id-7\" type=\"checkbox\" ><label for=\"sk-estimator-id-7\" class=\"sk-toggleable__label sk-toggleable__label-arrow\">passthrough</label><div class=\"sk-toggleable__content\"><pre>passthrough</pre></div></div></div></div></div></div></div></div><div class=\"sk-item\"><div class=\"sk-estimator sk-toggleable\"><input class=\"sk-toggleable__control sk-hidden--visually\" id=\"sk-estimator-id-8\" type=\"checkbox\" ><label for=\"sk-estimator-id-8\" class=\"sk-toggleable__label sk-toggleable__label-arrow\">SMOTE</label><div class=\"sk-toggleable__content\"><pre>SMOTE(random_state=666)</pre></div></div></div><div class=\"sk-item\"><div class=\"sk-estimator sk-toggleable\"><input class=\"sk-toggleable__control sk-hidden--visually\" id=\"sk-estimator-id-9\" type=\"checkbox\" ><label for=\"sk-estimator-id-9\" class=\"sk-toggleable__label sk-toggleable__label-arrow\">XGBClassifier</label><div class=\"sk-toggleable__content\"><pre>XGBClassifier(base_score=None, booster=None, callbacks=None,\n",
       "              colsample_bylevel=None, colsample_bynode=None,\n",
       "              colsample_bytree=None, early_stopping_rounds=None,\n",
       "              enable_categorical=False, eval_metric=None, gamma=None,\n",
       "              gpu_id=None, grow_policy=None, importance_type=None,\n",
       "              interaction_constraints=None, learning_rate=None, max_bin=None,\n",
       "              max_cat_to_onehot=None, max_delta_step=None, max_depth=None,\n",
       "              max_leaves=None, min_child_weight=None, missing=nan,\n",
       "              monotone_constraints=None, n_estimators=100, n_jobs=None,\n",
       "              num_parallel_tree=None, predictor=None, random_state=None,\n",
       "              reg_alpha=None, reg_lambda=None, ...)</pre></div></div></div></div></div></div></div></div></div></div></div></div>"
      ],
      "text/plain": [
       "RandomizedSearchCV(cv=KFold(n_splits=3, random_state=None, shuffle=False),\n",
       "                   estimator=Pipeline(steps=[('preprocess',\n",
       "                                              ColumnTransformer(remainder='passthrough',\n",
       "                                                                transformers=[('categoric',\n",
       "                                                                               Pipeline(steps=[('encoder',\n",
       "                                                                                                OneHotEncoder(drop='first'))]),\n",
       "                                                                               ['PreferedOrderCat',\n",
       "                                                                                'MaritalStatus'])])),\n",
       "                                             ('smote', SMOTE(random_state=666)),\n",
       "                                             ('algorithm',\n",
       "                                              XGBClassifier(base_scor...\n",
       "       0.991, 0.992, 0.993, 0.994, 0.995, 0.996, 0.997, 0.998, 0.999]),\n",
       "                                        'algorithm__max_depth': array([1, 2, 3, 4, 5, 6, 7, 8, 9]),\n",
       "                                        'algorithm__n_estimators': array([100, 200, 300, 400, 500, 600, 700, 800, 900]),\n",
       "                                        'algorithm__reg_alpha': [0, 0.001,\n",
       "                                                                 0.005, 0.01,\n",
       "                                                                 0.05],\n",
       "                                        'algorithm__reg_lambda': [0, 0.001,\n",
       "                                                                  0.005, 0.01,\n",
       "                                                                  0.05],\n",
       "                                        'algorithm__subsample': array([1, 2, 3, 4, 5, 6, 7, 8, 9])},\n",
       "                   random_state=666, scoring='f1', verbose=1)"
      ]
     },
     "execution_count": 303,
     "metadata": {},
     "output_type": "execute_result"
    }
   ],
   "source": [
    "## Randomized search for hyperparameter tuning\n",
    "\n",
    "XGB_RS = RandomizedSearchCV(PipeLine_XGB_Tn, param_XGB, cv = kf, verbose= 1, scoring='f1', n_jobs =-1, n_iter=1000000, random_state=666)\n",
    "XGB_RS.fit(X_train_OL, y_train_OL)"
   ]
  },
  {
   "cell_type": "code",
   "execution_count": 304,
   "metadata": {},
   "outputs": [
    {
     "name": "stdout",
     "output_type": "stream",
     "text": [
      "0.803269112001979\n",
      "{'algorithm__subsample': 1, 'algorithm__reg_lambda': 0.005, 'algorithm__reg_alpha': 0.001, 'algorithm__n_estimators': 800, 'algorithm__max_depth': 7, 'algorithm__learning_rate': 0.13900000000000004, 'algorithm__colsample_bytree': 1}\n"
     ]
    }
   ],
   "source": [
    "print(XGB_RS.best_score_)\n",
    "print(XGB_RS.best_params_)"
   ]
  },
  {
   "cell_type": "markdown",
   "metadata": {},
   "source": [
    "We know that from the randomized search, we've got 0.80 f1-score on 3 fold cross validation, with the best parameter shown above.\n",
    "\n",
    "Let's now compare how the model perform before and after hyperparameter tuning."
   ]
  },
  {
   "cell_type": "code",
   "execution_count": 305,
   "metadata": {},
   "outputs": [
    {
     "data": {
      "text/html": [
       "<style>#sk-container-id-2 {color: black;background-color: white;}#sk-container-id-2 pre{padding: 0;}#sk-container-id-2 div.sk-toggleable {background-color: white;}#sk-container-id-2 label.sk-toggleable__label {cursor: pointer;display: block;width: 100%;margin-bottom: 0;padding: 0.3em;box-sizing: border-box;text-align: center;}#sk-container-id-2 label.sk-toggleable__label-arrow:before {content: \"▸\";float: left;margin-right: 0.25em;color: #696969;}#sk-container-id-2 label.sk-toggleable__label-arrow:hover:before {color: black;}#sk-container-id-2 div.sk-estimator:hover label.sk-toggleable__label-arrow:before {color: black;}#sk-container-id-2 div.sk-toggleable__content {max-height: 0;max-width: 0;overflow: hidden;text-align: left;background-color: #f0f8ff;}#sk-container-id-2 div.sk-toggleable__content pre {margin: 0.2em;color: black;border-radius: 0.25em;background-color: #f0f8ff;}#sk-container-id-2 input.sk-toggleable__control:checked~div.sk-toggleable__content {max-height: 200px;max-width: 100%;overflow: auto;}#sk-container-id-2 input.sk-toggleable__control:checked~label.sk-toggleable__label-arrow:before {content: \"▾\";}#sk-container-id-2 div.sk-estimator input.sk-toggleable__control:checked~label.sk-toggleable__label {background-color: #d4ebff;}#sk-container-id-2 div.sk-label input.sk-toggleable__control:checked~label.sk-toggleable__label {background-color: #d4ebff;}#sk-container-id-2 input.sk-hidden--visually {border: 0;clip: rect(1px 1px 1px 1px);clip: rect(1px, 1px, 1px, 1px);height: 1px;margin: -1px;overflow: hidden;padding: 0;position: absolute;width: 1px;}#sk-container-id-2 div.sk-estimator {font-family: monospace;background-color: #f0f8ff;border: 1px dotted black;border-radius: 0.25em;box-sizing: border-box;margin-bottom: 0.5em;}#sk-container-id-2 div.sk-estimator:hover {background-color: #d4ebff;}#sk-container-id-2 div.sk-parallel-item::after {content: \"\";width: 100%;border-bottom: 1px solid gray;flex-grow: 1;}#sk-container-id-2 div.sk-label:hover label.sk-toggleable__label {background-color: #d4ebff;}#sk-container-id-2 div.sk-serial::before {content: \"\";position: absolute;border-left: 1px solid gray;box-sizing: border-box;top: 0;bottom: 0;left: 50%;z-index: 0;}#sk-container-id-2 div.sk-serial {display: flex;flex-direction: column;align-items: center;background-color: white;padding-right: 0.2em;padding-left: 0.2em;position: relative;}#sk-container-id-2 div.sk-item {position: relative;z-index: 1;}#sk-container-id-2 div.sk-parallel {display: flex;align-items: stretch;justify-content: center;background-color: white;position: relative;}#sk-container-id-2 div.sk-item::before, #sk-container-id-2 div.sk-parallel-item::before {content: \"\";position: absolute;border-left: 1px solid gray;box-sizing: border-box;top: 0;bottom: 0;left: 50%;z-index: -1;}#sk-container-id-2 div.sk-parallel-item {display: flex;flex-direction: column;z-index: 1;position: relative;background-color: white;}#sk-container-id-2 div.sk-parallel-item:first-child::after {align-self: flex-end;width: 50%;}#sk-container-id-2 div.sk-parallel-item:last-child::after {align-self: flex-start;width: 50%;}#sk-container-id-2 div.sk-parallel-item:only-child::after {width: 0;}#sk-container-id-2 div.sk-dashed-wrapped {border: 1px dashed gray;margin: 0 0.4em 0.5em 0.4em;box-sizing: border-box;padding-bottom: 0.4em;background-color: white;}#sk-container-id-2 div.sk-label label {font-family: monospace;font-weight: bold;display: inline-block;line-height: 1.2em;}#sk-container-id-2 div.sk-label-container {text-align: center;}#sk-container-id-2 div.sk-container {/* jupyter's `normalize.less` sets `[hidden] { display: none; }` but bootstrap.min.css set `[hidden] { display: none !important; }` so we also need the `!important` here to be able to override the default hidden behavior on the sphinx rendered scikit-learn.org. See: https://github.com/scikit-learn/scikit-learn/issues/21755 */display: inline-block !important;position: relative;}#sk-container-id-2 div.sk-text-repr-fallback {display: none;}</style><div id=\"sk-container-id-2\" class=\"sk-top-container\"><div class=\"sk-text-repr-fallback\"><pre>Pipeline(steps=[(&#x27;preprocess&#x27;,\n",
       "                 ColumnTransformer(remainder=&#x27;passthrough&#x27;,\n",
       "                                   transformers=[(&#x27;categoric&#x27;,\n",
       "                                                  Pipeline(steps=[(&#x27;encoder&#x27;,\n",
       "                                                                   OneHotEncoder(drop=&#x27;first&#x27;))]),\n",
       "                                                  [&#x27;PreferedOrderCat&#x27;,\n",
       "                                                   &#x27;MaritalStatus&#x27;])])),\n",
       "                (&#x27;smote&#x27;, SMOTE(random_state=666)),\n",
       "                (&#x27;algorithm&#x27;,\n",
       "                 XGBClassifier(base_score=0.5, booster=&#x27;gbtree&#x27;, callbacks=None,\n",
       "                               colsample_bylevel=1, colsample_bynode=1,\n",
       "                               colsa...\n",
       "                               gamma=0, gpu_id=-1, grow_policy=&#x27;depthwise&#x27;,\n",
       "                               importance_type=None, interaction_constraints=&#x27;&#x27;,\n",
       "                               learning_rate=0.13900000000000004, max_bin=256,\n",
       "                               max_cat_to_onehot=4, max_delta_step=0,\n",
       "                               max_depth=7, max_leaves=0, min_child_weight=1,\n",
       "                               missing=nan, monotone_constraints=&#x27;()&#x27;,\n",
       "                               n_estimators=800, n_jobs=0, num_parallel_tree=1,\n",
       "                               predictor=&#x27;auto&#x27;, random_state=0,\n",
       "                               reg_alpha=0.001, reg_lambda=0.005, ...))])</pre><b>In a Jupyter environment, please rerun this cell to show the HTML representation or trust the notebook. <br />On GitHub, the HTML representation is unable to render, please try loading this page with nbviewer.org.</b></div><div class=\"sk-container\" hidden><div class=\"sk-item sk-dashed-wrapped\"><div class=\"sk-label-container\"><div class=\"sk-label sk-toggleable\"><input class=\"sk-toggleable__control sk-hidden--visually\" id=\"sk-estimator-id-10\" type=\"checkbox\" ><label for=\"sk-estimator-id-10\" class=\"sk-toggleable__label sk-toggleable__label-arrow\">Pipeline</label><div class=\"sk-toggleable__content\"><pre>Pipeline(steps=[(&#x27;preprocess&#x27;,\n",
       "                 ColumnTransformer(remainder=&#x27;passthrough&#x27;,\n",
       "                                   transformers=[(&#x27;categoric&#x27;,\n",
       "                                                  Pipeline(steps=[(&#x27;encoder&#x27;,\n",
       "                                                                   OneHotEncoder(drop=&#x27;first&#x27;))]),\n",
       "                                                  [&#x27;PreferedOrderCat&#x27;,\n",
       "                                                   &#x27;MaritalStatus&#x27;])])),\n",
       "                (&#x27;smote&#x27;, SMOTE(random_state=666)),\n",
       "                (&#x27;algorithm&#x27;,\n",
       "                 XGBClassifier(base_score=0.5, booster=&#x27;gbtree&#x27;, callbacks=None,\n",
       "                               colsample_bylevel=1, colsample_bynode=1,\n",
       "                               colsa...\n",
       "                               gamma=0, gpu_id=-1, grow_policy=&#x27;depthwise&#x27;,\n",
       "                               importance_type=None, interaction_constraints=&#x27;&#x27;,\n",
       "                               learning_rate=0.13900000000000004, max_bin=256,\n",
       "                               max_cat_to_onehot=4, max_delta_step=0,\n",
       "                               max_depth=7, max_leaves=0, min_child_weight=1,\n",
       "                               missing=nan, monotone_constraints=&#x27;()&#x27;,\n",
       "                               n_estimators=800, n_jobs=0, num_parallel_tree=1,\n",
       "                               predictor=&#x27;auto&#x27;, random_state=0,\n",
       "                               reg_alpha=0.001, reg_lambda=0.005, ...))])</pre></div></div></div><div class=\"sk-serial\"><div class=\"sk-item sk-dashed-wrapped\"><div class=\"sk-label-container\"><div class=\"sk-label sk-toggleable\"><input class=\"sk-toggleable__control sk-hidden--visually\" id=\"sk-estimator-id-11\" type=\"checkbox\" ><label for=\"sk-estimator-id-11\" class=\"sk-toggleable__label sk-toggleable__label-arrow\">preprocess: ColumnTransformer</label><div class=\"sk-toggleable__content\"><pre>ColumnTransformer(remainder=&#x27;passthrough&#x27;,\n",
       "                  transformers=[(&#x27;categoric&#x27;,\n",
       "                                 Pipeline(steps=[(&#x27;encoder&#x27;,\n",
       "                                                  OneHotEncoder(drop=&#x27;first&#x27;))]),\n",
       "                                 [&#x27;PreferedOrderCat&#x27;, &#x27;MaritalStatus&#x27;])])</pre></div></div></div><div class=\"sk-parallel\"><div class=\"sk-parallel-item\"><div class=\"sk-item\"><div class=\"sk-label-container\"><div class=\"sk-label sk-toggleable\"><input class=\"sk-toggleable__control sk-hidden--visually\" id=\"sk-estimator-id-12\" type=\"checkbox\" ><label for=\"sk-estimator-id-12\" class=\"sk-toggleable__label sk-toggleable__label-arrow\">categoric</label><div class=\"sk-toggleable__content\"><pre>[&#x27;PreferedOrderCat&#x27;, &#x27;MaritalStatus&#x27;]</pre></div></div></div><div class=\"sk-serial\"><div class=\"sk-item\"><div class=\"sk-serial\"><div class=\"sk-item\"><div class=\"sk-estimator sk-toggleable\"><input class=\"sk-toggleable__control sk-hidden--visually\" id=\"sk-estimator-id-13\" type=\"checkbox\" ><label for=\"sk-estimator-id-13\" class=\"sk-toggleable__label sk-toggleable__label-arrow\">OneHotEncoder</label><div class=\"sk-toggleable__content\"><pre>OneHotEncoder(drop=&#x27;first&#x27;)</pre></div></div></div></div></div></div></div></div><div class=\"sk-parallel-item\"><div class=\"sk-item\"><div class=\"sk-label-container\"><div class=\"sk-label sk-toggleable\"><input class=\"sk-toggleable__control sk-hidden--visually\" id=\"sk-estimator-id-14\" type=\"checkbox\" ><label for=\"sk-estimator-id-14\" class=\"sk-toggleable__label sk-toggleable__label-arrow\">remainder</label><div class=\"sk-toggleable__content\"><pre>[&#x27;Tenure&#x27;, &#x27;WarehouseToHome&#x27;, &#x27;NumberOfDeviceRegistered&#x27;, &#x27;SatisfactionScore&#x27;, &#x27;NumberOfAddress&#x27;, &#x27;Complain&#x27;, &#x27;DaySinceLastOrder&#x27;, &#x27;CashbackAmount&#x27;]</pre></div></div></div><div class=\"sk-serial\"><div class=\"sk-item\"><div class=\"sk-estimator sk-toggleable\"><input class=\"sk-toggleable__control sk-hidden--visually\" id=\"sk-estimator-id-15\" type=\"checkbox\" ><label for=\"sk-estimator-id-15\" class=\"sk-toggleable__label sk-toggleable__label-arrow\">passthrough</label><div class=\"sk-toggleable__content\"><pre>passthrough</pre></div></div></div></div></div></div></div></div><div class=\"sk-item\"><div class=\"sk-estimator sk-toggleable\"><input class=\"sk-toggleable__control sk-hidden--visually\" id=\"sk-estimator-id-16\" type=\"checkbox\" ><label for=\"sk-estimator-id-16\" class=\"sk-toggleable__label sk-toggleable__label-arrow\">SMOTE</label><div class=\"sk-toggleable__content\"><pre>SMOTE(random_state=666)</pre></div></div></div><div class=\"sk-item\"><div class=\"sk-estimator sk-toggleable\"><input class=\"sk-toggleable__control sk-hidden--visually\" id=\"sk-estimator-id-17\" type=\"checkbox\" ><label for=\"sk-estimator-id-17\" class=\"sk-toggleable__label sk-toggleable__label-arrow\">XGBClassifier</label><div class=\"sk-toggleable__content\"><pre>XGBClassifier(base_score=0.5, booster=&#x27;gbtree&#x27;, callbacks=None,\n",
       "              colsample_bylevel=1, colsample_bynode=1, colsample_bytree=1,\n",
       "              early_stopping_rounds=None, enable_categorical=False,\n",
       "              eval_metric=None, gamma=0, gpu_id=-1, grow_policy=&#x27;depthwise&#x27;,\n",
       "              importance_type=None, interaction_constraints=&#x27;&#x27;,\n",
       "              learning_rate=0.13900000000000004, max_bin=256,\n",
       "              max_cat_to_onehot=4, max_delta_step=0, max_depth=7, max_leaves=0,\n",
       "              min_child_weight=1, missing=nan, monotone_constraints=&#x27;()&#x27;,\n",
       "              n_estimators=800, n_jobs=0, num_parallel_tree=1, predictor=&#x27;auto&#x27;,\n",
       "              random_state=0, reg_alpha=0.001, reg_lambda=0.005, ...)</pre></div></div></div></div></div></div></div>"
      ],
      "text/plain": [
       "Pipeline(steps=[('preprocess',\n",
       "                 ColumnTransformer(remainder='passthrough',\n",
       "                                   transformers=[('categoric',\n",
       "                                                  Pipeline(steps=[('encoder',\n",
       "                                                                   OneHotEncoder(drop='first'))]),\n",
       "                                                  ['PreferedOrderCat',\n",
       "                                                   'MaritalStatus'])])),\n",
       "                ('smote', SMOTE(random_state=666)),\n",
       "                ('algorithm',\n",
       "                 XGBClassifier(base_score=0.5, booster='gbtree', callbacks=None,\n",
       "                               colsample_bylevel=1, colsample_bynode=1,\n",
       "                               colsa...\n",
       "                               gamma=0, gpu_id=-1, grow_policy='depthwise',\n",
       "                               importance_type=None, interaction_constraints='',\n",
       "                               learning_rate=0.13900000000000004, max_bin=256,\n",
       "                               max_cat_to_onehot=4, max_delta_step=0,\n",
       "                               max_depth=7, max_leaves=0, min_child_weight=1,\n",
       "                               missing=nan, monotone_constraints='()',\n",
       "                               n_estimators=800, n_jobs=0, num_parallel_tree=1,\n",
       "                               predictor='auto', random_state=0,\n",
       "                               reg_alpha=0.001, reg_lambda=0.005, ...))])"
      ]
     },
     "execution_count": 305,
     "metadata": {},
     "output_type": "execute_result"
    }
   ],
   "source": [
    "## fitting the model from hyperparameter tuning\n",
    "\n",
    "best_model = XGB_RS.best_estimator_\n",
    "best_model.fit(X_train_OL, y_train_OL)"
   ]
  },
  {
   "cell_type": "code",
   "execution_count": 306,
   "metadata": {},
   "outputs": [],
   "source": [
    "## Define algorithm with default hyperparameter\n",
    "\n",
    "XGB_default = XGBClassifier()"
   ]
  },
  {
   "cell_type": "code",
   "execution_count": 307,
   "metadata": {},
   "outputs": [
    {
     "data": {
      "text/html": [
       "<style>#sk-container-id-3 {color: black;background-color: white;}#sk-container-id-3 pre{padding: 0;}#sk-container-id-3 div.sk-toggleable {background-color: white;}#sk-container-id-3 label.sk-toggleable__label {cursor: pointer;display: block;width: 100%;margin-bottom: 0;padding: 0.3em;box-sizing: border-box;text-align: center;}#sk-container-id-3 label.sk-toggleable__label-arrow:before {content: \"▸\";float: left;margin-right: 0.25em;color: #696969;}#sk-container-id-3 label.sk-toggleable__label-arrow:hover:before {color: black;}#sk-container-id-3 div.sk-estimator:hover label.sk-toggleable__label-arrow:before {color: black;}#sk-container-id-3 div.sk-toggleable__content {max-height: 0;max-width: 0;overflow: hidden;text-align: left;background-color: #f0f8ff;}#sk-container-id-3 div.sk-toggleable__content pre {margin: 0.2em;color: black;border-radius: 0.25em;background-color: #f0f8ff;}#sk-container-id-3 input.sk-toggleable__control:checked~div.sk-toggleable__content {max-height: 200px;max-width: 100%;overflow: auto;}#sk-container-id-3 input.sk-toggleable__control:checked~label.sk-toggleable__label-arrow:before {content: \"▾\";}#sk-container-id-3 div.sk-estimator input.sk-toggleable__control:checked~label.sk-toggleable__label {background-color: #d4ebff;}#sk-container-id-3 div.sk-label input.sk-toggleable__control:checked~label.sk-toggleable__label {background-color: #d4ebff;}#sk-container-id-3 input.sk-hidden--visually {border: 0;clip: rect(1px 1px 1px 1px);clip: rect(1px, 1px, 1px, 1px);height: 1px;margin: -1px;overflow: hidden;padding: 0;position: absolute;width: 1px;}#sk-container-id-3 div.sk-estimator {font-family: monospace;background-color: #f0f8ff;border: 1px dotted black;border-radius: 0.25em;box-sizing: border-box;margin-bottom: 0.5em;}#sk-container-id-3 div.sk-estimator:hover {background-color: #d4ebff;}#sk-container-id-3 div.sk-parallel-item::after {content: \"\";width: 100%;border-bottom: 1px solid gray;flex-grow: 1;}#sk-container-id-3 div.sk-label:hover label.sk-toggleable__label {background-color: #d4ebff;}#sk-container-id-3 div.sk-serial::before {content: \"\";position: absolute;border-left: 1px solid gray;box-sizing: border-box;top: 0;bottom: 0;left: 50%;z-index: 0;}#sk-container-id-3 div.sk-serial {display: flex;flex-direction: column;align-items: center;background-color: white;padding-right: 0.2em;padding-left: 0.2em;position: relative;}#sk-container-id-3 div.sk-item {position: relative;z-index: 1;}#sk-container-id-3 div.sk-parallel {display: flex;align-items: stretch;justify-content: center;background-color: white;position: relative;}#sk-container-id-3 div.sk-item::before, #sk-container-id-3 div.sk-parallel-item::before {content: \"\";position: absolute;border-left: 1px solid gray;box-sizing: border-box;top: 0;bottom: 0;left: 50%;z-index: -1;}#sk-container-id-3 div.sk-parallel-item {display: flex;flex-direction: column;z-index: 1;position: relative;background-color: white;}#sk-container-id-3 div.sk-parallel-item:first-child::after {align-self: flex-end;width: 50%;}#sk-container-id-3 div.sk-parallel-item:last-child::after {align-self: flex-start;width: 50%;}#sk-container-id-3 div.sk-parallel-item:only-child::after {width: 0;}#sk-container-id-3 div.sk-dashed-wrapped {border: 1px dashed gray;margin: 0 0.4em 0.5em 0.4em;box-sizing: border-box;padding-bottom: 0.4em;background-color: white;}#sk-container-id-3 div.sk-label label {font-family: monospace;font-weight: bold;display: inline-block;line-height: 1.2em;}#sk-container-id-3 div.sk-label-container {text-align: center;}#sk-container-id-3 div.sk-container {/* jupyter's `normalize.less` sets `[hidden] { display: none; }` but bootstrap.min.css set `[hidden] { display: none !important; }` so we also need the `!important` here to be able to override the default hidden behavior on the sphinx rendered scikit-learn.org. See: https://github.com/scikit-learn/scikit-learn/issues/21755 */display: inline-block !important;position: relative;}#sk-container-id-3 div.sk-text-repr-fallback {display: none;}</style><div id=\"sk-container-id-3\" class=\"sk-top-container\"><div class=\"sk-text-repr-fallback\"><pre>Pipeline(steps=[(&#x27;preprocess&#x27;,\n",
       "                 ColumnTransformer(remainder=&#x27;passthrough&#x27;,\n",
       "                                   transformers=[(&#x27;categoric&#x27;,\n",
       "                                                  Pipeline(steps=[(&#x27;encoder&#x27;,\n",
       "                                                                   OneHotEncoder(drop=&#x27;first&#x27;))]),\n",
       "                                                  [&#x27;PreferedOrderCat&#x27;,\n",
       "                                                   &#x27;MaritalStatus&#x27;])])),\n",
       "                (&#x27;smote&#x27;, SMOTE(random_state=666)),\n",
       "                (&#x27;algorithm&#x27;,\n",
       "                 XGBClassifier(base_score=0.5, booster=&#x27;gbtree&#x27;, callbacks=None,\n",
       "                               colsample_bylevel=1, colsample_bynode=1,\n",
       "                               colsa...\n",
       "                               gamma=0, gpu_id=-1, grow_policy=&#x27;depthwise&#x27;,\n",
       "                               importance_type=None, interaction_constraints=&#x27;&#x27;,\n",
       "                               learning_rate=0.300000012, max_bin=256,\n",
       "                               max_cat_to_onehot=4, max_delta_step=0,\n",
       "                               max_depth=6, max_leaves=0, min_child_weight=1,\n",
       "                               missing=nan, monotone_constraints=&#x27;()&#x27;,\n",
       "                               n_estimators=100, n_jobs=0, num_parallel_tree=1,\n",
       "                               predictor=&#x27;auto&#x27;, random_state=0, reg_alpha=0,\n",
       "                               reg_lambda=1, ...))])</pre><b>In a Jupyter environment, please rerun this cell to show the HTML representation or trust the notebook. <br />On GitHub, the HTML representation is unable to render, please try loading this page with nbviewer.org.</b></div><div class=\"sk-container\" hidden><div class=\"sk-item sk-dashed-wrapped\"><div class=\"sk-label-container\"><div class=\"sk-label sk-toggleable\"><input class=\"sk-toggleable__control sk-hidden--visually\" id=\"sk-estimator-id-18\" type=\"checkbox\" ><label for=\"sk-estimator-id-18\" class=\"sk-toggleable__label sk-toggleable__label-arrow\">Pipeline</label><div class=\"sk-toggleable__content\"><pre>Pipeline(steps=[(&#x27;preprocess&#x27;,\n",
       "                 ColumnTransformer(remainder=&#x27;passthrough&#x27;,\n",
       "                                   transformers=[(&#x27;categoric&#x27;,\n",
       "                                                  Pipeline(steps=[(&#x27;encoder&#x27;,\n",
       "                                                                   OneHotEncoder(drop=&#x27;first&#x27;))]),\n",
       "                                                  [&#x27;PreferedOrderCat&#x27;,\n",
       "                                                   &#x27;MaritalStatus&#x27;])])),\n",
       "                (&#x27;smote&#x27;, SMOTE(random_state=666)),\n",
       "                (&#x27;algorithm&#x27;,\n",
       "                 XGBClassifier(base_score=0.5, booster=&#x27;gbtree&#x27;, callbacks=None,\n",
       "                               colsample_bylevel=1, colsample_bynode=1,\n",
       "                               colsa...\n",
       "                               gamma=0, gpu_id=-1, grow_policy=&#x27;depthwise&#x27;,\n",
       "                               importance_type=None, interaction_constraints=&#x27;&#x27;,\n",
       "                               learning_rate=0.300000012, max_bin=256,\n",
       "                               max_cat_to_onehot=4, max_delta_step=0,\n",
       "                               max_depth=6, max_leaves=0, min_child_weight=1,\n",
       "                               missing=nan, monotone_constraints=&#x27;()&#x27;,\n",
       "                               n_estimators=100, n_jobs=0, num_parallel_tree=1,\n",
       "                               predictor=&#x27;auto&#x27;, random_state=0, reg_alpha=0,\n",
       "                               reg_lambda=1, ...))])</pre></div></div></div><div class=\"sk-serial\"><div class=\"sk-item sk-dashed-wrapped\"><div class=\"sk-label-container\"><div class=\"sk-label sk-toggleable\"><input class=\"sk-toggleable__control sk-hidden--visually\" id=\"sk-estimator-id-19\" type=\"checkbox\" ><label for=\"sk-estimator-id-19\" class=\"sk-toggleable__label sk-toggleable__label-arrow\">preprocess: ColumnTransformer</label><div class=\"sk-toggleable__content\"><pre>ColumnTransformer(remainder=&#x27;passthrough&#x27;,\n",
       "                  transformers=[(&#x27;categoric&#x27;,\n",
       "                                 Pipeline(steps=[(&#x27;encoder&#x27;,\n",
       "                                                  OneHotEncoder(drop=&#x27;first&#x27;))]),\n",
       "                                 [&#x27;PreferedOrderCat&#x27;, &#x27;MaritalStatus&#x27;])])</pre></div></div></div><div class=\"sk-parallel\"><div class=\"sk-parallel-item\"><div class=\"sk-item\"><div class=\"sk-label-container\"><div class=\"sk-label sk-toggleable\"><input class=\"sk-toggleable__control sk-hidden--visually\" id=\"sk-estimator-id-20\" type=\"checkbox\" ><label for=\"sk-estimator-id-20\" class=\"sk-toggleable__label sk-toggleable__label-arrow\">categoric</label><div class=\"sk-toggleable__content\"><pre>[&#x27;PreferedOrderCat&#x27;, &#x27;MaritalStatus&#x27;]</pre></div></div></div><div class=\"sk-serial\"><div class=\"sk-item\"><div class=\"sk-serial\"><div class=\"sk-item\"><div class=\"sk-estimator sk-toggleable\"><input class=\"sk-toggleable__control sk-hidden--visually\" id=\"sk-estimator-id-21\" type=\"checkbox\" ><label for=\"sk-estimator-id-21\" class=\"sk-toggleable__label sk-toggleable__label-arrow\">OneHotEncoder</label><div class=\"sk-toggleable__content\"><pre>OneHotEncoder(drop=&#x27;first&#x27;)</pre></div></div></div></div></div></div></div></div><div class=\"sk-parallel-item\"><div class=\"sk-item\"><div class=\"sk-label-container\"><div class=\"sk-label sk-toggleable\"><input class=\"sk-toggleable__control sk-hidden--visually\" id=\"sk-estimator-id-22\" type=\"checkbox\" ><label for=\"sk-estimator-id-22\" class=\"sk-toggleable__label sk-toggleable__label-arrow\">remainder</label><div class=\"sk-toggleable__content\"><pre>[&#x27;Tenure&#x27;, &#x27;WarehouseToHome&#x27;, &#x27;NumberOfDeviceRegistered&#x27;, &#x27;SatisfactionScore&#x27;, &#x27;NumberOfAddress&#x27;, &#x27;Complain&#x27;, &#x27;DaySinceLastOrder&#x27;, &#x27;CashbackAmount&#x27;]</pre></div></div></div><div class=\"sk-serial\"><div class=\"sk-item\"><div class=\"sk-estimator sk-toggleable\"><input class=\"sk-toggleable__control sk-hidden--visually\" id=\"sk-estimator-id-23\" type=\"checkbox\" ><label for=\"sk-estimator-id-23\" class=\"sk-toggleable__label sk-toggleable__label-arrow\">passthrough</label><div class=\"sk-toggleable__content\"><pre>passthrough</pre></div></div></div></div></div></div></div></div><div class=\"sk-item\"><div class=\"sk-estimator sk-toggleable\"><input class=\"sk-toggleable__control sk-hidden--visually\" id=\"sk-estimator-id-24\" type=\"checkbox\" ><label for=\"sk-estimator-id-24\" class=\"sk-toggleable__label sk-toggleable__label-arrow\">SMOTE</label><div class=\"sk-toggleable__content\"><pre>SMOTE(random_state=666)</pre></div></div></div><div class=\"sk-item\"><div class=\"sk-estimator sk-toggleable\"><input class=\"sk-toggleable__control sk-hidden--visually\" id=\"sk-estimator-id-25\" type=\"checkbox\" ><label for=\"sk-estimator-id-25\" class=\"sk-toggleable__label sk-toggleable__label-arrow\">XGBClassifier</label><div class=\"sk-toggleable__content\"><pre>XGBClassifier(base_score=0.5, booster=&#x27;gbtree&#x27;, callbacks=None,\n",
       "              colsample_bylevel=1, colsample_bynode=1, colsample_bytree=1,\n",
       "              early_stopping_rounds=None, enable_categorical=False,\n",
       "              eval_metric=None, gamma=0, gpu_id=-1, grow_policy=&#x27;depthwise&#x27;,\n",
       "              importance_type=None, interaction_constraints=&#x27;&#x27;,\n",
       "              learning_rate=0.300000012, max_bin=256, max_cat_to_onehot=4,\n",
       "              max_delta_step=0, max_depth=6, max_leaves=0, min_child_weight=1,\n",
       "              missing=nan, monotone_constraints=&#x27;()&#x27;, n_estimators=100,\n",
       "              n_jobs=0, num_parallel_tree=1, predictor=&#x27;auto&#x27;, random_state=0,\n",
       "              reg_alpha=0, reg_lambda=1, ...)</pre></div></div></div></div></div></div></div>"
      ],
      "text/plain": [
       "Pipeline(steps=[('preprocess',\n",
       "                 ColumnTransformer(remainder='passthrough',\n",
       "                                   transformers=[('categoric',\n",
       "                                                  Pipeline(steps=[('encoder',\n",
       "                                                                   OneHotEncoder(drop='first'))]),\n",
       "                                                  ['PreferedOrderCat',\n",
       "                                                   'MaritalStatus'])])),\n",
       "                ('smote', SMOTE(random_state=666)),\n",
       "                ('algorithm',\n",
       "                 XGBClassifier(base_score=0.5, booster='gbtree', callbacks=None,\n",
       "                               colsample_bylevel=1, colsample_bynode=1,\n",
       "                               colsa...\n",
       "                               gamma=0, gpu_id=-1, grow_policy='depthwise',\n",
       "                               importance_type=None, interaction_constraints='',\n",
       "                               learning_rate=0.300000012, max_bin=256,\n",
       "                               max_cat_to_onehot=4, max_delta_step=0,\n",
       "                               max_depth=6, max_leaves=0, min_child_weight=1,\n",
       "                               missing=nan, monotone_constraints='()',\n",
       "                               n_estimators=100, n_jobs=0, num_parallel_tree=1,\n",
       "                               predictor='auto', random_state=0, reg_alpha=0,\n",
       "                               reg_lambda=1, ...))])"
      ]
     },
     "execution_count": 307,
     "metadata": {},
     "output_type": "execute_result"
    }
   ],
   "source": [
    "## create and fit pipeline for default XGBoost algorithm parameter\n",
    "\n",
    "PipeLine_XGB_default = imbpipeline([\n",
    "    ('preprocess', preprocessor),\n",
    "    ('smote', SM),\n",
    "    ('algorithm', XGB_default)\n",
    "])\n",
    "\n",
    "PipeLine_XGB_default.fit(X_train_OL, y_train_OL)\n"
   ]
  },
  {
   "cell_type": "code",
   "execution_count": 308,
   "metadata": {},
   "outputs": [],
   "source": [
    "## Predict the test data with default and tuned model\n",
    "\n",
    "y_pred_default = PipeLine_XGB_default.predict(X_test_OL)\n",
    "y_pred_proba_default = PipeLine_XGB_default.predict_proba(X_test_OL)\n",
    "y_pred_tuned = best_model.predict(X_test_OL)\n",
    "y_pred_proba_tuned = best_model.predict_proba(X_test_OL)"
   ]
  },
  {
   "cell_type": "code",
   "execution_count": 309,
   "metadata": {},
   "outputs": [],
   "source": [
    "## Create classification report with default and tuned model\n",
    "\n",
    "report_default = classification_report(y_test_OL, y_pred_default)\n",
    "report_tuned = classification_report(y_test_OL, y_pred_tuned)"
   ]
  },
  {
   "cell_type": "code",
   "execution_count": 310,
   "metadata": {},
   "outputs": [
    {
     "name": "stdout",
     "output_type": "stream",
     "text": [
      "Classification Report Default XGBoost with SMOTE : \n",
      "               precision    recall  f1-score   support\n",
      "\n",
      "           0       0.96      0.95      0.95       654\n",
      "           1       0.76      0.81      0.79       135\n",
      "\n",
      "    accuracy                           0.92       789\n",
      "   macro avg       0.86      0.88      0.87       789\n",
      "weighted avg       0.93      0.92      0.93       789\n",
      "\n",
      "Classification Report Tuned XGBoost with SMOTE : \n",
      "               precision    recall  f1-score   support\n",
      "\n",
      "           0       0.97      0.95      0.96       654\n",
      "           1       0.78      0.87      0.82       135\n",
      "\n",
      "    accuracy                           0.94       789\n",
      "   macro avg       0.88      0.91      0.89       789\n",
      "weighted avg       0.94      0.94      0.94       789\n",
      "\n"
     ]
    }
   ],
   "source": [
    "## Display the classification report\n",
    "\n",
    "print('Classification Report Default XGBoost with SMOTE : \\n', report_default)\n",
    "print('Classification Report Tuned XGBoost with SMOTE : \\n', report_tuned)"
   ]
  },
  {
   "cell_type": "markdown",
   "metadata": {},
   "source": [
    "From the classification report on both models, we can see that the F1 score for class '1' has improved with our hyperparameter tuning. Thus, we will use the tuned models with XGBoost algorithms with SMOTE technique.\n",
    "\n",
    "Let's also check the confusion matrix to look at the actual and predicted numbers of the model."
   ]
  },
  {
   "cell_type": "code",
   "execution_count": 311,
   "metadata": {},
   "outputs": [
    {
     "data": {
      "text/html": [
       "<div>\n",
       "<style scoped>\n",
       "    .dataframe tbody tr th:only-of-type {\n",
       "        vertical-align: middle;\n",
       "    }\n",
       "\n",
       "    .dataframe tbody tr th {\n",
       "        vertical-align: top;\n",
       "    }\n",
       "\n",
       "    .dataframe thead th {\n",
       "        text-align: right;\n",
       "    }\n",
       "</style>\n",
       "<table border=\"1\" class=\"dataframe\">\n",
       "  <thead>\n",
       "    <tr style=\"text-align: right;\">\n",
       "      <th></th>\n",
       "      <th>Pred 1</th>\n",
       "      <th>Pred 0</th>\n",
       "    </tr>\n",
       "  </thead>\n",
       "  <tbody>\n",
       "    <tr>\n",
       "      <th>Act 1</th>\n",
       "      <td>110</td>\n",
       "      <td>25</td>\n",
       "    </tr>\n",
       "    <tr>\n",
       "      <th>Act 0</th>\n",
       "      <td>35</td>\n",
       "      <td>619</td>\n",
       "    </tr>\n",
       "  </tbody>\n",
       "</table>\n",
       "</div>"
      ],
      "text/plain": [
       "       Pred 1  Pred 0\n",
       "Act 1     110      25\n",
       "Act 0      35     619"
      ]
     },
     "execution_count": 311,
     "metadata": {},
     "output_type": "execute_result"
    }
   ],
   "source": [
    "## Display the confusion matrix for model with default parameter\n",
    "\n",
    "cm_default_ts = confusion_matrix(y_test_OL, y_pred_default, labels=[1,0])\n",
    "df_default_ts = pd.DataFrame(data = cm_default_ts, columns=['Pred 1', 'Pred 0'], index=['Act 1', 'Act 0'])\n",
    "df_default_ts"
   ]
  },
  {
   "cell_type": "code",
   "execution_count": 312,
   "metadata": {},
   "outputs": [
    {
     "data": {
      "text/html": [
       "<div>\n",
       "<style scoped>\n",
       "    .dataframe tbody tr th:only-of-type {\n",
       "        vertical-align: middle;\n",
       "    }\n",
       "\n",
       "    .dataframe tbody tr th {\n",
       "        vertical-align: top;\n",
       "    }\n",
       "\n",
       "    .dataframe thead th {\n",
       "        text-align: right;\n",
       "    }\n",
       "</style>\n",
       "<table border=\"1\" class=\"dataframe\">\n",
       "  <thead>\n",
       "    <tr style=\"text-align: right;\">\n",
       "      <th></th>\n",
       "      <th>Pred 1</th>\n",
       "      <th>Pred 0</th>\n",
       "    </tr>\n",
       "  </thead>\n",
       "  <tbody>\n",
       "    <tr>\n",
       "      <th>Act 1</th>\n",
       "      <td>117</td>\n",
       "      <td>18</td>\n",
       "    </tr>\n",
       "    <tr>\n",
       "      <th>Act 0</th>\n",
       "      <td>33</td>\n",
       "      <td>621</td>\n",
       "    </tr>\n",
       "  </tbody>\n",
       "</table>\n",
       "</div>"
      ],
      "text/plain": [
       "       Pred 1  Pred 0\n",
       "Act 1     117      18\n",
       "Act 0      33     621"
      ]
     },
     "execution_count": 312,
     "metadata": {},
     "output_type": "execute_result"
    }
   ],
   "source": [
    "## Display the confusion matrix for model with parameter from hyperparameter tuning\n",
    "\n",
    "cm_tuned_ts = confusion_matrix(y_test_OL, y_pred_tuned, labels=[1,0])\n",
    "df_tuned_ts = pd.DataFrame(data = cm_tuned_ts, columns=['Pred 1', 'Pred 0'], index=['Act 1', 'Act 0'])\n",
    "df_tuned_ts"
   ]
  },
  {
   "cell_type": "markdown",
   "metadata": {},
   "source": [
    "We also can see from the confusion matrix that the tuned xgboost model performed better in predicting both classes."
   ]
  },
  {
   "cell_type": "markdown",
   "metadata": {},
   "source": [
    "## **Conclusion**"
   ]
  },
  {
   "cell_type": "markdown",
   "metadata": {},
   "source": [
    "### **Model**"
   ]
  },
  {
   "cell_type": "markdown",
   "metadata": {},
   "source": [
    "#### **Recommended Model**"
   ]
  },
  {
   "cell_type": "markdown",
   "metadata": {},
   "source": [
    "From the classification report, we can conclude that our best model and chosen model is the XGBoost with SMOTE technique and tuned hyperparameters.\n",
    "\n",
    "XGBoost is an optimized distributed gradient boosting library designed to be highly efficient, flexible and portable. It implements machine learning algorithms under the Gradient Boosting framework. XGBoost provides a parallel tree boosting (also known as GBDT, GBM) that solve many data science problems in a fast and accurate way. The same code runs on major distributed environment (Hadoop, SGE, MPI) and can solve problems beyond billions of examples. [(Source)](https://xgboost.readthedocs.io/en/stable/)\n",
    "\n",
    "Whereas Synthetic Minority Oversampling Technique (SMOTE) is a statistical technique for increasing the number of cases in the dataset in a balanced way. The component works by generating new instances from existing minority classes that is supplied as input. The implementation of SMOTE does not change the number of majority classes. [(Source)](https://docs.microsoft.com/en-us/azure/machine-learning/component-reference/smote)\n",
    "\n",
    "From the classification report, we can summarize that if the model is implemented, we can detect 87% of all the churning customer (recall score) and 78% of our model customer churning prediction is precise (precision score)"
   ]
  },
  {
   "cell_type": "markdown",
   "metadata": {},
   "source": [
    "### **Before-After**"
   ]
  },
  {
   "cell_type": "code",
   "execution_count": 313,
   "metadata": {},
   "outputs": [
    {
     "data": {
      "text/html": [
       "<div>\n",
       "<style scoped>\n",
       "    .dataframe tbody tr th:only-of-type {\n",
       "        vertical-align: middle;\n",
       "    }\n",
       "\n",
       "    .dataframe tbody tr th {\n",
       "        vertical-align: top;\n",
       "    }\n",
       "\n",
       "    .dataframe thead th {\n",
       "        text-align: right;\n",
       "    }\n",
       "</style>\n",
       "<table border=\"1\" class=\"dataframe\">\n",
       "  <thead>\n",
       "    <tr style=\"text-align: right;\">\n",
       "      <th></th>\n",
       "      <th>Pred 1</th>\n",
       "      <th>Pred 0</th>\n",
       "    </tr>\n",
       "  </thead>\n",
       "  <tbody>\n",
       "    <tr>\n",
       "      <th>Act 1</th>\n",
       "      <td>117</td>\n",
       "      <td>18</td>\n",
       "    </tr>\n",
       "    <tr>\n",
       "      <th>Act 0</th>\n",
       "      <td>33</td>\n",
       "      <td>621</td>\n",
       "    </tr>\n",
       "  </tbody>\n",
       "</table>\n",
       "</div>"
      ],
      "text/plain": [
       "       Pred 1  Pred 0\n",
       "Act 1     117      18\n",
       "Act 0      33     621"
      ]
     },
     "execution_count": 313,
     "metadata": {},
     "output_type": "execute_result"
    }
   ],
   "source": [
    "## Display the confusion matrix for tuned XGBoost + SMOTE models\n",
    "\n",
    "df_tuned_ts"
   ]
  },
  {
   "cell_type": "markdown",
   "metadata": {},
   "source": [
    "#### **Before implementing ML models:**"
   ]
  },
  {
   "cell_type": "markdown",
   "metadata": {},
   "source": [
    "Let's say we are an e-commerce company in USA.\n",
    "\n",
    "According to [Invesp](https://www.invespcro.com/blog/global-online-retail-spending/) (Digital Consulting Firm), the average revenue per online shopper on e-commerce business in USA is $1,804.\n",
    "\n",
    "Using our last confusion matrix on test dataset, let's say we currently have 789 customers (117 + 18 + 33 + 621).\n",
    "\n",
    "\n",
    "- 789 customer at the beginning of a month\n",
    "- 135 customer will churn (117+18)\n",
    "- Revenue from each customer = $1,804\n",
    "- Revenue = 789 * 1804 = $1.423.356\n",
    "\n",
    "- Marketing Cost = 20% of Revenue (Average marketing cost for e-commerce) _*Source:_ [Boldist](https://boldist.co/marketing-strategy/ecommerce-digital-marketing-budget/)\n",
    "- Marketing Cost = 20% * $1.423.356 = $284.671\n",
    "- Average Customer Acquisiton Cost for e-commerce (retail) = $10 _*Source:_ [Propeller](https://www.propellercrm.com/blog/customer-acquisition-cost)\n",
    "\n",
    "Let's say the cost for retaining a customer is the same with the cost for acquiring new customer:\n",
    "- Customer Retention Cost = $10\n",
    "\n",
    "Based on these data, the company with no system to detect a churning customer, will give all the customer base a benefit/promotion from the marketing budget. And spend the rest on acquiring new customer.\n",
    "\n",
    "- Spent on customer retention: 789 * $10 = $7.890\n",
    "- Spend the rest on new customer acquisition = $284.671 - $7.890 = $276.781\n",
    "- New customer acquired = $276.781/10 = 27.678\n",
    "- Customer for next month = 27.678 + 789 = 28.467 total customer\n",
    "- Potential revenue for next month = 28.467 * $1.804 = **$51.354.468** "
   ]
  },
  {
   "cell_type": "markdown",
   "metadata": {},
   "source": [
    "#### **After implementing ML models:**"
   ]
  },
  {
   "cell_type": "markdown",
   "metadata": {},
   "source": [
    "- 789 customer at the beginning of a month\n",
    "- 135 customer will churn (117 True Positive + 18 False Negative)\n",
    "- 150 customer detected will churn (117 True Positive + 33 False Positive)\n",
    "- Revenue from each customer = $1,804\n",
    "- Revenue = 789 * 1804 = $1.423.356\n",
    "\n",
    "- Marketing Cost = 20% of Revenue\n",
    "- Marketing Cost = 20% * $1.423.356 = $284.671\n",
    "- Average Customer Acquisiton Cost for e-commerce (retail) = $10\n",
    "- Customer Retention Cost = $10\n",
    "\n",
    "After implementing ML models, the company will no longer give all the customer a benefit/promotion. Instead, they will only give the benefit/promotion to the detected customer that will churn.\n",
    "\n",
    "- Spent on customer retention: 150 * $10 = $1.500\n",
    "- Spend the rest on new customer acquisition = $284.671 - $1.500 = $283.171\n",
    "- Churned customer = 18 (False Negative)\n",
    "- New customer acquired = $283.171/10 = 28.317\n",
    "- Customer for next month = 28.317 + 789 - 18 = 29.088 total customer\n",
    "- Potential revenue for next month = 29.088 * $1.804 = **$52.474.752**"
   ]
  },
  {
   "cell_type": "markdown",
   "metadata": {},
   "source": [
    "<hr>\n",
    "\n",
    "We can see the potential revenue differences from implementing the ML models on our hypothetical case above. from the hypothetical case above, By implementing the ML models, the company can gain up to **1 million USD** ($ 1.120.284 to be exact) of potential revenue on the next month from the higher number of acquired customers.\n",
    "\n",
    "<hr>"
   ]
  },
  {
   "cell_type": "markdown",
   "metadata": {},
   "source": [
    "### **Limitation and Recommendation**"
   ]
  },
  {
   "cell_type": "markdown",
   "metadata": {},
   "source": [
    "#### **Project Limitation**"
   ]
  },
  {
   "cell_type": "markdown",
   "metadata": {},
   "source": [
    "The model was built on a dataset that was already pre-selected and limited, so the author realize there will be a limitation for the models/project in which the prediction will be less accurate on a certain condition. The limitation of this project are:\n",
    "\n",
    "- Only limited amount of features used in this model\n",
    "\n",
    "- Due to the outlier handling, there is a possibility that this model will got the prediction wrong when the data considered as outlier. The outlier criteria on each columns is:\n",
    "\n",
    "| Features | Outlier |\n",
    "| --- | --- |\n",
    "| Tenure | Less than -19 / More than 37 year |\n",
    "| WarehouseToHome | Less than -9 / More than 39 km|\n",
    "| NumberOfDeviceRegistered | Less than 2 / More than 5 device |\n",
    "| PreferedOrderCat | Category outside of 'Laptop & Accessory', 'Mobile', 'Fashion', 'Others', 'Mobile Phone', 'Grocery'|\n",
    "| SatisfactionScore | Outside of scale from 1 to 5 |\n",
    "| MaritalStatus | Status outside of 'Single', 'Married', 'Divorced' |\n",
    "| NumberOfAddress | Less than -4 / more than 12 address |\n",
    "| Complain | less than -1,5 / more than 2,5 complain |\n",
    "| DaySinceLastOrder | less than -5,5 / more than 14,5 days |\n",
    "| CashbackAmount | Less than 71,375 / more than 269,575 |"
   ]
  },
  {
   "cell_type": "markdown",
   "metadata": {},
   "source": [
    "#### **Implementation Recommendation**"
   ]
  },
  {
   "cell_type": "markdown",
   "metadata": {},
   "source": [
    "This project/machine learning model is recommended to be implemented by marketing/sales/any department related to benefit/promotion. The department can implement it in end of month of each month, to calculate or forecast the expected revenue on the next month. This model also can be implemented whenever the management or BODs want to measure their churn rate."
   ]
  },
  {
   "cell_type": "markdown",
   "metadata": {},
   "source": [
    "#### **Future Recommendation**"
   ]
  },
  {
   "cell_type": "markdown",
   "metadata": {},
   "source": [
    "To improve this project/machine learning models, future projects can considers:\n",
    "- Adding more features that is related to the target (customer Churn), such as Age, Redeemed vouchers/promo, Gender, etc.\n",
    "- Use other algorithm such as SVM or LGBM and try other feature engineering such as scalling.\n",
    "- Use other method to fill missing value / handle outlier"
   ]
  },
  {
   "cell_type": "markdown",
   "metadata": {},
   "source": [
    "<hr>"
   ]
  },
  {
   "cell_type": "markdown",
   "metadata": {},
   "source": [
    "## **Save Model**"
   ]
  },
  {
   "cell_type": "code",
   "execution_count": 452,
   "metadata": {},
   "outputs": [],
   "source": [
    "## Package for Saving Model\n",
    "\n",
    "# import pickle"
   ]
  },
  {
   "cell_type": "code",
   "execution_count": 453,
   "metadata": {},
   "outputs": [],
   "source": [
    "# Saving Model\n",
    "\n",
    "# pickle.dump(best_model, open('Model_Churn_Class_XGBtn.pkl', 'wb'))"
   ]
  }
 ],
 "metadata": {
  "kernelspec": {
   "display_name": "Python 3.10.4 64-bit",
   "language": "python",
   "name": "python3"
  },
  "language_info": {
   "codemirror_mode": {
    "name": "ipython",
    "version": 3
   },
   "file_extension": ".py",
   "mimetype": "text/x-python",
   "name": "python",
   "nbconvert_exporter": "python",
   "pygments_lexer": "ipython3",
   "version": "3.10.4"
  },
  "orig_nbformat": 4,
  "vscode": {
   "interpreter": {
    "hash": "9f121db1374b724da7051c805202bc87285c13cfe6813d41d4131d16ea2e108e"
   }
  }
 },
 "nbformat": 4,
 "nbformat_minor": 2
}
